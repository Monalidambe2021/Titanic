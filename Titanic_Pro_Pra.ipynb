{
 "cells": [
  {
   "cell_type": "markdown",
   "metadata": {
    "id": "0vDLgPKoFB5u"
   },
   "source": [
    "Load Data"
   ]
  },
  {
   "cell_type": "code",
   "execution_count": 1,
   "metadata": {
    "executionInfo": {
     "elapsed": 672,
     "status": "ok",
     "timestamp": 1624012317783,
     "user": {
      "displayName": "Monali Dambe",
      "photoUrl": "",
      "userId": "09026880642029004944"
     },
     "user_tz": -330
    },
    "id": "KbCOqSkViwnA"
   },
   "outputs": [],
   "source": [
    "# Import library\n",
    "import pandas as pd"
   ]
  },
  {
   "cell_type": "code",
   "execution_count": 2,
   "metadata": {
    "executionInfo": {
     "elapsed": 107,
     "status": "ok",
     "timestamp": 1624012318734,
     "user": {
      "displayName": "Monali Dambe",
      "photoUrl": "",
      "userId": "09026880642029004944"
     },
     "user_tz": -330
    },
    "id": "gKmfdseHFFOI"
   },
   "outputs": [],
   "source": [
    "#Load the dataset\n",
    "df_train= pd.read_csv('../Datasets/titanic/train.csv')\n",
    "df_test= pd.read_csv('../Datasets/titanic/test.csv')"
   ]
  },
  {
   "cell_type": "code",
   "execution_count": 3,
   "metadata": {
    "colab": {
     "base_uri": "https://localhost:8080/"
    },
    "executionInfo": {
     "elapsed": 104,
     "status": "ok",
     "timestamp": 1624012318736,
     "user": {
      "displayName": "Monali Dambe",
      "photoUrl": "",
      "userId": "09026880642029004944"
     },
     "user_tz": -330
    },
    "id": "O294qxtCl-JH",
    "outputId": "06ce3051-b1a0-4149-c7a1-9901b04a9e14"
   },
   "outputs": [
    {
     "data": {
      "text/plain": [
       "PassengerId      0\n",
       "Survived         0\n",
       "Pclass           0\n",
       "Name             0\n",
       "Sex              0\n",
       "Age            177\n",
       "SibSp            0\n",
       "Parch            0\n",
       "Ticket           0\n",
       "Fare             0\n",
       "Cabin          687\n",
       "Embarked         2\n",
       "dtype: int64"
      ]
     },
     "execution_count": 3,
     "metadata": {},
     "output_type": "execute_result"
    }
   ],
   "source": [
    "df_train.isna().sum()"
   ]
  },
  {
   "cell_type": "code",
   "execution_count": 4,
   "metadata": {
    "colab": {
     "base_uri": "https://localhost:8080/"
    },
    "executionInfo": {
     "elapsed": 93,
     "status": "ok",
     "timestamp": 1624012318737,
     "user": {
      "displayName": "Monali Dambe",
      "photoUrl": "",
      "userId": "09026880642029004944"
     },
     "user_tz": -330
    },
    "id": "MZDsSyWjmEPp",
    "outputId": "99fc508c-65b8-4502-8832-a4875b38c6dd"
   },
   "outputs": [
    {
     "data": {
      "text/plain": [
       "PassengerId      0\n",
       "Pclass           0\n",
       "Name             0\n",
       "Sex              0\n",
       "Age             86\n",
       "SibSp            0\n",
       "Parch            0\n",
       "Ticket           0\n",
       "Fare             1\n",
       "Cabin          327\n",
       "Embarked         0\n",
       "dtype: int64"
      ]
     },
     "execution_count": 4,
     "metadata": {},
     "output_type": "execute_result"
    }
   ],
   "source": [
    "df_test.isna().sum()"
   ]
  },
  {
   "cell_type": "markdown",
   "metadata": {
    "id": "QotRGZLaFf9t"
   },
   "source": [
    "# Data Cleaning\n",
    "####.Imptation"
   ]
  },
  {
   "cell_type": "code",
   "execution_count": 5,
   "metadata": {
    "colab": {
     "base_uri": "https://localhost:8080/"
    },
    "executionInfo": {
     "elapsed": 87,
     "status": "ok",
     "timestamp": 1624012318739,
     "user": {
      "displayName": "Monali Dambe",
      "photoUrl": "",
      "userId": "09026880642029004944"
     },
     "user_tz": -330
    },
    "id": "O_ZKmCsKFlPN",
    "outputId": "612a4c63-a37a-4b34-e8b7-4a2809dcae7a"
   },
   "outputs": [
    {
     "name": "stdout",
     "output_type": "stream",
     "text": [
      "<class 'pandas.core.frame.DataFrame'>\n",
      "RangeIndex: 891 entries, 0 to 890\n",
      "Data columns (total 12 columns):\n",
      " #   Column       Non-Null Count  Dtype  \n",
      "---  ------       --------------  -----  \n",
      " 0   PassengerId  891 non-null    int64  \n",
      " 1   Survived     891 non-null    int64  \n",
      " 2   Pclass       891 non-null    int64  \n",
      " 3   Name         891 non-null    object \n",
      " 4   Sex          891 non-null    object \n",
      " 5   Age          714 non-null    float64\n",
      " 6   SibSp        891 non-null    int64  \n",
      " 7   Parch        891 non-null    int64  \n",
      " 8   Ticket       891 non-null    object \n",
      " 9   Fare         891 non-null    float64\n",
      " 10  Cabin        204 non-null    object \n",
      " 11  Embarked     889 non-null    object \n",
      "dtypes: float64(2), int64(5), object(5)\n",
      "memory usage: 83.7+ KB\n"
     ]
    }
   ],
   "source": [
    "df_train.info()"
   ]
  },
  {
   "cell_type": "code",
   "execution_count": 6,
   "metadata": {
    "colab": {
     "base_uri": "https://localhost:8080/"
    },
    "executionInfo": {
     "elapsed": 79,
     "status": "ok",
     "timestamp": 1624012318741,
     "user": {
      "displayName": "Monali Dambe",
      "photoUrl": "",
      "userId": "09026880642029004944"
     },
     "user_tz": -330
    },
    "id": "FdOnfe-lmOcj",
    "outputId": "0dc54e88-5a48-4c51-e71e-6c86cb8a0616"
   },
   "outputs": [
    {
     "name": "stdout",
     "output_type": "stream",
     "text": [
      "<class 'pandas.core.frame.DataFrame'>\n",
      "RangeIndex: 418 entries, 0 to 417\n",
      "Data columns (total 11 columns):\n",
      " #   Column       Non-Null Count  Dtype  \n",
      "---  ------       --------------  -----  \n",
      " 0   PassengerId  418 non-null    int64  \n",
      " 1   Pclass       418 non-null    int64  \n",
      " 2   Name         418 non-null    object \n",
      " 3   Sex          418 non-null    object \n",
      " 4   Age          332 non-null    float64\n",
      " 5   SibSp        418 non-null    int64  \n",
      " 6   Parch        418 non-null    int64  \n",
      " 7   Ticket       418 non-null    object \n",
      " 8   Fare         417 non-null    float64\n",
      " 9   Cabin        91 non-null     object \n",
      " 10  Embarked     418 non-null    object \n",
      "dtypes: float64(2), int64(4), object(5)\n",
      "memory usage: 36.0+ KB\n"
     ]
    }
   ],
   "source": [
    "df_test.info()"
   ]
  },
  {
   "cell_type": "code",
   "execution_count": 7,
   "metadata": {
    "colab": {
     "base_uri": "https://localhost:8080/"
    },
    "executionInfo": {
     "elapsed": 75,
     "status": "ok",
     "timestamp": 1624012318746,
     "user": {
      "displayName": "Monali Dambe",
      "photoUrl": "",
      "userId": "09026880642029004944"
     },
     "user_tz": -330
    },
    "id": "kUIORJHXmX0z",
    "outputId": "ee8d7dd9-7de3-4709-ec52-cd4aed901545"
   },
   "outputs": [
    {
     "data": {
      "text/plain": [
       "Index(['PassengerId', 'Survived', 'Pclass', 'Name', 'Sex', 'Age', 'SibSp',\n",
       "       'Parch', 'Ticket', 'Fare', 'Cabin', 'Embarked'],\n",
       "      dtype='object')"
      ]
     },
     "execution_count": 7,
     "metadata": {},
     "output_type": "execute_result"
    }
   ],
   "source": [
    "df_train.columns"
   ]
  },
  {
   "cell_type": "code",
   "execution_count": 8,
   "metadata": {
    "colab": {
     "base_uri": "https://localhost:8080/"
    },
    "executionInfo": {
     "elapsed": 69,
     "status": "ok",
     "timestamp": 1624012318748,
     "user": {
      "displayName": "Monali Dambe",
      "photoUrl": "",
      "userId": "09026880642029004944"
     },
     "user_tz": -330
    },
    "id": "1fS49vEHmcUn",
    "outputId": "454d89d8-33e9-49b3-eab3-4212e6ed4ebf"
   },
   "outputs": [
    {
     "data": {
      "text/plain": [
       "Index(['PassengerId', 'Pclass', 'Name', 'Sex', 'Age', 'SibSp', 'Parch',\n",
       "       'Ticket', 'Fare', 'Cabin', 'Embarked'],\n",
       "      dtype='object')"
      ]
     },
     "execution_count": 8,
     "metadata": {},
     "output_type": "execute_result"
    }
   ],
   "source": [
    "df_test.columns"
   ]
  },
  {
   "cell_type": "code",
   "execution_count": 9,
   "metadata": {
    "executionInfo": {
     "elapsed": 64,
     "status": "ok",
     "timestamp": 1624012318750,
     "user": {
      "displayName": "Monali Dambe",
      "photoUrl": "",
      "userId": "09026880642029004944"
     },
     "user_tz": -330
    },
    "id": "F7o4vsDz55pG"
   },
   "outputs": [],
   "source": [
    "#Independent & dependent variables\n",
    "X_cols= list(df_train.columns)\n",
    "y_col = 'Survived'"
   ]
  },
  {
   "cell_type": "code",
   "execution_count": 10,
   "metadata": {
    "executionInfo": {
     "elapsed": 63,
     "status": "ok",
     "timestamp": 1624012318752,
     "user": {
      "displayName": "Monali Dambe",
      "photoUrl": "",
      "userId": "09026880642029004944"
     },
     "user_tz": -330
    },
    "id": "rVoCgx0UOYBp"
   },
   "outputs": [],
   "source": [
    "#Filling the nan values\n",
    "df_train['Age'].fillna(df_train['Age'].median(),inplace=True)\n",
    "df_test['Age'].fillna(df_train['Age'].median(),inplace= True)\n",
    "df_train['Embarked'].fillna(df_train['Embarked'].mode()[0],inplace=True)\n",
    "df_test['Embarked'].fillna(df_train['Embarked'].mode()[0],inplace=True)\n",
    "df_train['Fare'].fillna(df_train['Fare']. median (), inplace=True)\n",
    "df_test['Fare'].fillna(df_train['Fare']. median (), inplace=True)"
   ]
  },
  {
   "cell_type": "code",
   "execution_count": 11,
   "metadata": {
    "executionInfo": {
     "elapsed": 62,
     "status": "ok",
     "timestamp": 1624012318753,
     "user": {
      "displayName": "Monali Dambe",
      "photoUrl": "",
      "userId": "09026880642029004944"
     },
     "user_tz": -330
    },
    "id": "MsC_jI1mQZcv"
   },
   "outputs": [],
   "source": [
    "df_train['Sex']= df_train['Sex'].apply(lambda X:0 if X=='male' else 1)\n",
    "df_test['Sex']= df_test['Sex'].apply(lambda X:0 if X=='male' else 1)"
   ]
  },
  {
   "cell_type": "code",
   "execution_count": 12,
   "metadata": {
    "executionInfo": {
     "elapsed": 61,
     "status": "ok",
     "timestamp": 1624012318755,
     "user": {
      "displayName": "Monali Dambe",
      "photoUrl": "",
      "userId": "09026880642029004944"
     },
     "user_tz": -330
    },
    "id": "sm0U6vq-ldsX"
   },
   "outputs": [],
   "source": [
    "#one hot encoding for Embarked\n",
    "temp = pd.get_dummies(df_train['Embarked'])\n",
    "df_train = pd.concat([df_train, temp],axis=1)\n",
    "temp = pd.get_dummies(df_test['Embarked'])\n",
    "df_test = pd.concat([df_test, temp], axis=1)\n",
    "X_cols.extend(temp.columns)"
   ]
  },
  {
   "cell_type": "code",
   "execution_count": 13,
   "metadata": {
    "executionInfo": {
     "elapsed": 60,
     "status": "ok",
     "timestamp": 1624012318757,
     "user": {
      "displayName": "Monali Dambe",
      "photoUrl": "",
      "userId": "09026880642029004944"
     },
     "user_tz": -330
    },
    "id": "l0pyCpHg2Tke"
   },
   "outputs": [],
   "source": [
    "#Remove unnecessary columns\n",
    "X_cols.remove('PassengerId')\n",
    "X_cols.remove('Survived')\n",
    "X_cols.remove('Name')\n",
    "X_cols.remove('Ticket')\n",
    "X_cols.remove('Cabin')\n",
    "X_cols.remove('Embarked')"
   ]
  },
  {
   "cell_type": "markdown",
   "metadata": {
    "id": "_5s0WSNlUMnC"
   },
   "source": [
    "Build ML Model"
   ]
  },
  {
   "cell_type": "code",
   "execution_count": 14,
   "metadata": {
    "executionInfo": {
     "elapsed": 60,
     "status": "ok",
     "timestamp": 1624012318758,
     "user": {
      "displayName": "Monali Dambe",
      "photoUrl": "",
      "userId": "09026880642029004944"
     },
     "user_tz": -330
    },
    "id": "PNJMw2VS7TbZ"
   },
   "outputs": [],
   "source": [
    "X = df_train[X_cols]\n",
    "y = df_train[y_col]"
   ]
  },
  {
   "cell_type": "code",
   "execution_count": 15,
   "metadata": {
    "colab": {
     "base_uri": "https://localhost:8080/"
    },
    "executionInfo": {
     "elapsed": 60,
     "status": "ok",
     "timestamp": 1624012318760,
     "user": {
      "displayName": "Monali Dambe",
      "photoUrl": "",
      "userId": "09026880642029004944"
     },
     "user_tz": -330
    },
    "id": "bCf6jcTg8CyA",
    "outputId": "be032d41-fc94-4c25-b5e4-362c552eae55"
   },
   "outputs": [
    {
     "data": {
      "text/plain": [
       "Pclass   -0.338481\n",
       "Sex       0.543351\n",
       "Age      -0.064910\n",
       "SibSp    -0.035322\n",
       "Parch     0.081629\n",
       "Fare      0.257307\n",
       "C         0.168240\n",
       "Q         0.003650\n",
       "S        -0.149683\n",
       "dtype: float64"
      ]
     },
     "execution_count": 15,
     "metadata": {},
     "output_type": "execute_result"
    }
   ],
   "source": [
    "X.corrwith(y)"
   ]
  },
  {
   "cell_type": "code",
   "execution_count": 16,
   "metadata": {
    "executionInfo": {
     "elapsed": 57,
     "status": "ok",
     "timestamp": 1624012318762,
     "user": {
      "displayName": "Monali Dambe",
      "photoUrl": "",
      "userId": "09026880642029004944"
     },
     "user_tz": -330
    },
    "id": "RHYIUkZoUhm-"
   },
   "outputs": [],
   "source": [
    "# splitting dataset into train & test\n",
    "from sklearn.model_selection import train_test_split\n",
    "X_train,X_val,y_train,y_val=train_test_split(X,y,test_size = 0.25, random_state=96)"
   ]
  },
  {
   "cell_type": "code",
   "execution_count": 17,
   "metadata": {
    "colab": {
     "base_uri": "https://localhost:8080/"
    },
    "executionInfo": {
     "elapsed": 58,
     "status": "ok",
     "timestamp": 1624012318765,
     "user": {
      "displayName": "Monali Dambe",
      "photoUrl": "",
      "userId": "09026880642029004944"
     },
     "user_tz": -330
    },
    "id": "_U3wyeO5U98R",
    "outputId": "117fccce-1421-4e90-a1d5-1645121536d1"
   },
   "outputs": [
    {
     "data": {
      "text/plain": [
       "(668, 9)"
      ]
     },
     "execution_count": 17,
     "metadata": {},
     "output_type": "execute_result"
    }
   ],
   "source": [
    "X_train.shape"
   ]
  },
  {
   "cell_type": "code",
   "execution_count": 18,
   "metadata": {
    "colab": {
     "base_uri": "https://localhost:8080/"
    },
    "executionInfo": {
     "elapsed": 57,
     "status": "ok",
     "timestamp": 1624012318769,
     "user": {
      "displayName": "Monali Dambe",
      "photoUrl": "",
      "userId": "09026880642029004944"
     },
     "user_tz": -330
    },
    "id": "iSNy-iludjdb",
    "outputId": "e61a3793-9a24-4751-fdc1-9942451e6300"
   },
   "outputs": [
    {
     "data": {
      "text/plain": [
       "0.7982062780269058"
      ]
     },
     "execution_count": 18,
     "metadata": {},
     "output_type": "execute_result"
    }
   ],
   "source": [
    " \n",
    "# without hyperparameter tunning \n",
    "# Random_Forest\n",
    "from sklearn.ensemble import RandomForestClassifier\n",
    "model = RandomForestClassifier (n_estimators=11, random_state=12)\n",
    "model.fit(X_train,y_train)\n",
    "model.score(X_val,y_val)"
   ]
  },
  {
   "cell_type": "code",
   "execution_count": 19,
   "metadata": {
    "colab": {
     "base_uri": "https://localhost:8080/"
    },
    "executionInfo": {
     "elapsed": 132240,
     "status": "ok",
     "timestamp": 1624012450956,
     "user": {
      "displayName": "Monali Dambe",
      "photoUrl": "",
      "userId": "09026880642029004944"
     },
     "user_tz": -330
    },
    "id": "hKVWEBfAWwrU",
    "outputId": "93edbd03-41fb-4ac0-a571-64c2ab4650cd"
   },
   "outputs": [
    {
     "name": "stdout",
     "output_type": "stream",
     "text": [
      "Fitting 5 folds for each of 288 candidates, totalling 1440 fits\n",
      "[CV 1/5] END criterion=gini, max_depth=4, min_samples_leaf=1, min_samples_split=4, n_estimators=15, random_state=12; total time=   0.0s\n",
      "[CV 2/5] END criterion=gini, max_depth=4, min_samples_leaf=1, min_samples_split=4, n_estimators=15, random_state=12; total time=   0.0s\n",
      "[CV 3/5] END criterion=gini, max_depth=4, min_samples_leaf=1, min_samples_split=4, n_estimators=15, random_state=12; total time=   0.0s\n",
      "[CV 4/5] END criterion=gini, max_depth=4, min_samples_leaf=1, min_samples_split=4, n_estimators=15, random_state=12; total time=   0.0s\n",
      "[CV 5/5] END criterion=gini, max_depth=4, min_samples_leaf=1, min_samples_split=4, n_estimators=15, random_state=12; total time=   0.0s\n",
      "[CV 1/5] END criterion=gini, max_depth=4, min_samples_leaf=1, min_samples_split=4, n_estimators=25, random_state=12; total time=   0.0s\n",
      "[CV 2/5] END criterion=gini, max_depth=4, min_samples_leaf=1, min_samples_split=4, n_estimators=25, random_state=12; total time=   0.0s\n",
      "[CV 3/5] END criterion=gini, max_depth=4, min_samples_leaf=1, min_samples_split=4, n_estimators=25, random_state=12; total time=   0.0s\n",
      "[CV 4/5] END criterion=gini, max_depth=4, min_samples_leaf=1, min_samples_split=4, n_estimators=25, random_state=12; total time=   0.0s\n",
      "[CV 5/5] END criterion=gini, max_depth=4, min_samples_leaf=1, min_samples_split=4, n_estimators=25, random_state=12; total time=   0.0s\n",
      "[CV 1/5] END criterion=gini, max_depth=4, min_samples_leaf=1, min_samples_split=4, n_estimators=50, random_state=12; total time=   0.0s\n",
      "[CV 2/5] END criterion=gini, max_depth=4, min_samples_leaf=1, min_samples_split=4, n_estimators=50, random_state=12; total time=   0.0s\n",
      "[CV 3/5] END criterion=gini, max_depth=4, min_samples_leaf=1, min_samples_split=4, n_estimators=50, random_state=12; total time=   0.1s\n",
      "[CV 4/5] END criterion=gini, max_depth=4, min_samples_leaf=1, min_samples_split=4, n_estimators=50, random_state=12; total time=   0.0s\n",
      "[CV 5/5] END criterion=gini, max_depth=4, min_samples_leaf=1, min_samples_split=4, n_estimators=50, random_state=12; total time=   0.1s\n",
      "[CV 1/5] END criterion=gini, max_depth=4, min_samples_leaf=1, min_samples_split=4, n_estimators=100, random_state=12; total time=   0.2s\n",
      "[CV 2/5] END criterion=gini, max_depth=4, min_samples_leaf=1, min_samples_split=4, n_estimators=100, random_state=12; total time=   0.2s\n",
      "[CV 3/5] END criterion=gini, max_depth=4, min_samples_leaf=1, min_samples_split=4, n_estimators=100, random_state=12; total time=   0.2s\n",
      "[CV 4/5] END criterion=gini, max_depth=4, min_samples_leaf=1, min_samples_split=4, n_estimators=100, random_state=12; total time=   0.2s\n",
      "[CV 5/5] END criterion=gini, max_depth=4, min_samples_leaf=1, min_samples_split=4, n_estimators=100, random_state=12; total time=   0.2s\n",
      "[CV 1/5] END criterion=gini, max_depth=4, min_samples_leaf=1, min_samples_split=5, n_estimators=15, random_state=12; total time=   0.0s\n",
      "[CV 2/5] END criterion=gini, max_depth=4, min_samples_leaf=1, min_samples_split=5, n_estimators=15, random_state=12; total time=   0.0s\n",
      "[CV 3/5] END criterion=gini, max_depth=4, min_samples_leaf=1, min_samples_split=5, n_estimators=15, random_state=12; total time=   0.0s\n",
      "[CV 4/5] END criterion=gini, max_depth=4, min_samples_leaf=1, min_samples_split=5, n_estimators=15, random_state=12; total time=   0.0s\n",
      "[CV 5/5] END criterion=gini, max_depth=4, min_samples_leaf=1, min_samples_split=5, n_estimators=15, random_state=12; total time=   0.0s\n",
      "[CV 1/5] END criterion=gini, max_depth=4, min_samples_leaf=1, min_samples_split=5, n_estimators=25, random_state=12; total time=   0.0s\n",
      "[CV 2/5] END criterion=gini, max_depth=4, min_samples_leaf=1, min_samples_split=5, n_estimators=25, random_state=12; total time=   0.0s\n",
      "[CV 3/5] END criterion=gini, max_depth=4, min_samples_leaf=1, min_samples_split=5, n_estimators=25, random_state=12; total time=   0.0s\n",
      "[CV 4/5] END criterion=gini, max_depth=4, min_samples_leaf=1, min_samples_split=5, n_estimators=25, random_state=12; total time=   0.0s\n",
      "[CV 5/5] END criterion=gini, max_depth=4, min_samples_leaf=1, min_samples_split=5, n_estimators=25, random_state=12; total time=   0.0s\n",
      "[CV 1/5] END criterion=gini, max_depth=4, min_samples_leaf=1, min_samples_split=5, n_estimators=50, random_state=12; total time=   0.1s\n",
      "[CV 2/5] END criterion=gini, max_depth=4, min_samples_leaf=1, min_samples_split=5, n_estimators=50, random_state=12; total time=   0.1s\n",
      "[CV 3/5] END criterion=gini, max_depth=4, min_samples_leaf=1, min_samples_split=5, n_estimators=50, random_state=12; total time=   0.1s\n",
      "[CV 4/5] END criterion=gini, max_depth=4, min_samples_leaf=1, min_samples_split=5, n_estimators=50, random_state=12; total time=   0.1s\n",
      "[CV 5/5] END criterion=gini, max_depth=4, min_samples_leaf=1, min_samples_split=5, n_estimators=50, random_state=12; total time=   0.1s\n",
      "[CV 1/5] END criterion=gini, max_depth=4, min_samples_leaf=1, min_samples_split=5, n_estimators=100, random_state=12; total time=   0.2s\n",
      "[CV 2/5] END criterion=gini, max_depth=4, min_samples_leaf=1, min_samples_split=5, n_estimators=100, random_state=12; total time=   0.2s\n",
      "[CV 3/5] END criterion=gini, max_depth=4, min_samples_leaf=1, min_samples_split=5, n_estimators=100, random_state=12; total time=   0.2s\n",
      "[CV 4/5] END criterion=gini, max_depth=4, min_samples_leaf=1, min_samples_split=5, n_estimators=100, random_state=12; total time=   0.2s\n",
      "[CV 5/5] END criterion=gini, max_depth=4, min_samples_leaf=1, min_samples_split=5, n_estimators=100, random_state=12; total time=   0.2s\n",
      "[CV 1/5] END criterion=gini, max_depth=4, min_samples_leaf=1, min_samples_split=6, n_estimators=15, random_state=12; total time=   0.0s\n",
      "[CV 2/5] END criterion=gini, max_depth=4, min_samples_leaf=1, min_samples_split=6, n_estimators=15, random_state=12; total time=   0.0s\n",
      "[CV 3/5] END criterion=gini, max_depth=4, min_samples_leaf=1, min_samples_split=6, n_estimators=15, random_state=12; total time=   0.0s\n",
      "[CV 4/5] END criterion=gini, max_depth=4, min_samples_leaf=1, min_samples_split=6, n_estimators=15, random_state=12; total time=   0.0s\n",
      "[CV 5/5] END criterion=gini, max_depth=4, min_samples_leaf=1, min_samples_split=6, n_estimators=15, random_state=12; total time=   0.0s\n",
      "[CV 1/5] END criterion=gini, max_depth=4, min_samples_leaf=1, min_samples_split=6, n_estimators=25, random_state=12; total time=   0.0s\n",
      "[CV 2/5] END criterion=gini, max_depth=4, min_samples_leaf=1, min_samples_split=6, n_estimators=25, random_state=12; total time=   0.0s\n",
      "[CV 3/5] END criterion=gini, max_depth=4, min_samples_leaf=1, min_samples_split=6, n_estimators=25, random_state=12; total time=   0.0s\n",
      "[CV 4/5] END criterion=gini, max_depth=4, min_samples_leaf=1, min_samples_split=6, n_estimators=25, random_state=12; total time=   0.0s\n",
      "[CV 5/5] END criterion=gini, max_depth=4, min_samples_leaf=1, min_samples_split=6, n_estimators=25, random_state=12; total time=   0.0s\n",
      "[CV 1/5] END criterion=gini, max_depth=4, min_samples_leaf=1, min_samples_split=6, n_estimators=50, random_state=12; total time=   0.1s\n",
      "[CV 2/5] END criterion=gini, max_depth=4, min_samples_leaf=1, min_samples_split=6, n_estimators=50, random_state=12; total time=   0.1s\n",
      "[CV 3/5] END criterion=gini, max_depth=4, min_samples_leaf=1, min_samples_split=6, n_estimators=50, random_state=12; total time=   0.1s\n",
      "[CV 4/5] END criterion=gini, max_depth=4, min_samples_leaf=1, min_samples_split=6, n_estimators=50, random_state=12; total time=   0.1s\n",
      "[CV 5/5] END criterion=gini, max_depth=4, min_samples_leaf=1, min_samples_split=6, n_estimators=50, random_state=12; total time=   0.0s\n",
      "[CV 1/5] END criterion=gini, max_depth=4, min_samples_leaf=1, min_samples_split=6, n_estimators=100, random_state=12; total time=   0.2s\n",
      "[CV 2/5] END criterion=gini, max_depth=4, min_samples_leaf=1, min_samples_split=6, n_estimators=100, random_state=12; total time=   0.2s\n",
      "[CV 3/5] END criterion=gini, max_depth=4, min_samples_leaf=1, min_samples_split=6, n_estimators=100, random_state=12; total time=   0.1s\n",
      "[CV 4/5] END criterion=gini, max_depth=4, min_samples_leaf=1, min_samples_split=6, n_estimators=100, random_state=12; total time=   0.3s\n",
      "[CV 5/5] END criterion=gini, max_depth=4, min_samples_leaf=1, min_samples_split=6, n_estimators=100, random_state=12; total time=   0.2s\n",
      "[CV 1/5] END criterion=gini, max_depth=4, min_samples_leaf=2, min_samples_split=4, n_estimators=15, random_state=12; total time=   0.0s\n",
      "[CV 2/5] END criterion=gini, max_depth=4, min_samples_leaf=2, min_samples_split=4, n_estimators=15, random_state=12; total time=   0.0s\n",
      "[CV 3/5] END criterion=gini, max_depth=4, min_samples_leaf=2, min_samples_split=4, n_estimators=15, random_state=12; total time=   0.0s\n",
      "[CV 4/5] END criterion=gini, max_depth=4, min_samples_leaf=2, min_samples_split=4, n_estimators=15, random_state=12; total time=   0.0s\n"
     ]
    },
    {
     "name": "stdout",
     "output_type": "stream",
     "text": [
      "[CV 5/5] END criterion=gini, max_depth=4, min_samples_leaf=2, min_samples_split=4, n_estimators=15, random_state=12; total time=   0.0s\n",
      "[CV 1/5] END criterion=gini, max_depth=4, min_samples_leaf=2, min_samples_split=4, n_estimators=25, random_state=12; total time=   0.0s\n",
      "[CV 2/5] END criterion=gini, max_depth=4, min_samples_leaf=2, min_samples_split=4, n_estimators=25, random_state=12; total time=   0.0s\n",
      "[CV 3/5] END criterion=gini, max_depth=4, min_samples_leaf=2, min_samples_split=4, n_estimators=25, random_state=12; total time=   0.0s\n",
      "[CV 4/5] END criterion=gini, max_depth=4, min_samples_leaf=2, min_samples_split=4, n_estimators=25, random_state=12; total time=   0.0s\n",
      "[CV 5/5] END criterion=gini, max_depth=4, min_samples_leaf=2, min_samples_split=4, n_estimators=25, random_state=12; total time=   0.0s\n",
      "[CV 1/5] END criterion=gini, max_depth=4, min_samples_leaf=2, min_samples_split=4, n_estimators=50, random_state=12; total time=   0.0s\n",
      "[CV 2/5] END criterion=gini, max_depth=4, min_samples_leaf=2, min_samples_split=4, n_estimators=50, random_state=12; total time=   0.0s\n",
      "[CV 3/5] END criterion=gini, max_depth=4, min_samples_leaf=2, min_samples_split=4, n_estimators=50, random_state=12; total time=   0.1s\n",
      "[CV 4/5] END criterion=gini, max_depth=4, min_samples_leaf=2, min_samples_split=4, n_estimators=50, random_state=12; total time=   0.0s\n",
      "[CV 5/5] END criterion=gini, max_depth=4, min_samples_leaf=2, min_samples_split=4, n_estimators=50, random_state=12; total time=   0.0s\n",
      "[CV 1/5] END criterion=gini, max_depth=4, min_samples_leaf=2, min_samples_split=4, n_estimators=100, random_state=12; total time=   0.2s\n",
      "[CV 2/5] END criterion=gini, max_depth=4, min_samples_leaf=2, min_samples_split=4, n_estimators=100, random_state=12; total time=   0.2s\n",
      "[CV 3/5] END criterion=gini, max_depth=4, min_samples_leaf=2, min_samples_split=4, n_estimators=100, random_state=12; total time=   0.1s\n",
      "[CV 4/5] END criterion=gini, max_depth=4, min_samples_leaf=2, min_samples_split=4, n_estimators=100, random_state=12; total time=   0.2s\n",
      "[CV 5/5] END criterion=gini, max_depth=4, min_samples_leaf=2, min_samples_split=4, n_estimators=100, random_state=12; total time=   0.2s\n",
      "[CV 1/5] END criterion=gini, max_depth=4, min_samples_leaf=2, min_samples_split=5, n_estimators=15, random_state=12; total time=   0.0s\n",
      "[CV 2/5] END criterion=gini, max_depth=4, min_samples_leaf=2, min_samples_split=5, n_estimators=15, random_state=12; total time=   0.0s\n",
      "[CV 3/5] END criterion=gini, max_depth=4, min_samples_leaf=2, min_samples_split=5, n_estimators=15, random_state=12; total time=   0.0s\n",
      "[CV 4/5] END criterion=gini, max_depth=4, min_samples_leaf=2, min_samples_split=5, n_estimators=15, random_state=12; total time=   0.0s\n",
      "[CV 5/5] END criterion=gini, max_depth=4, min_samples_leaf=2, min_samples_split=5, n_estimators=15, random_state=12; total time=   0.0s\n",
      "[CV 1/5] END criterion=gini, max_depth=4, min_samples_leaf=2, min_samples_split=5, n_estimators=25, random_state=12; total time=   0.0s\n",
      "[CV 2/5] END criterion=gini, max_depth=4, min_samples_leaf=2, min_samples_split=5, n_estimators=25, random_state=12; total time=   0.0s\n",
      "[CV 3/5] END criterion=gini, max_depth=4, min_samples_leaf=2, min_samples_split=5, n_estimators=25, random_state=12; total time=   0.0s\n",
      "[CV 4/5] END criterion=gini, max_depth=4, min_samples_leaf=2, min_samples_split=5, n_estimators=25, random_state=12; total time=   0.0s\n",
      "[CV 5/5] END criterion=gini, max_depth=4, min_samples_leaf=2, min_samples_split=5, n_estimators=25, random_state=12; total time=   0.0s\n",
      "[CV 1/5] END criterion=gini, max_depth=4, min_samples_leaf=2, min_samples_split=5, n_estimators=50, random_state=12; total time=   0.0s\n",
      "[CV 2/5] END criterion=gini, max_depth=4, min_samples_leaf=2, min_samples_split=5, n_estimators=50, random_state=12; total time=   0.0s\n",
      "[CV 3/5] END criterion=gini, max_depth=4, min_samples_leaf=2, min_samples_split=5, n_estimators=50, random_state=12; total time=   0.0s\n",
      "[CV 4/5] END criterion=gini, max_depth=4, min_samples_leaf=2, min_samples_split=5, n_estimators=50, random_state=12; total time=   0.0s\n",
      "[CV 5/5] END criterion=gini, max_depth=4, min_samples_leaf=2, min_samples_split=5, n_estimators=50, random_state=12; total time=   0.0s\n",
      "[CV 1/5] END criterion=gini, max_depth=4, min_samples_leaf=2, min_samples_split=5, n_estimators=100, random_state=12; total time=   0.1s\n",
      "[CV 2/5] END criterion=gini, max_depth=4, min_samples_leaf=2, min_samples_split=5, n_estimators=100, random_state=12; total time=   0.1s\n",
      "[CV 3/5] END criterion=gini, max_depth=4, min_samples_leaf=2, min_samples_split=5, n_estimators=100, random_state=12; total time=   0.1s\n",
      "[CV 4/5] END criterion=gini, max_depth=4, min_samples_leaf=2, min_samples_split=5, n_estimators=100, random_state=12; total time=   0.2s\n",
      "[CV 5/5] END criterion=gini, max_depth=4, min_samples_leaf=2, min_samples_split=5, n_estimators=100, random_state=12; total time=   0.1s\n",
      "[CV 1/5] END criterion=gini, max_depth=4, min_samples_leaf=2, min_samples_split=6, n_estimators=15, random_state=12; total time=   0.0s\n",
      "[CV 2/5] END criterion=gini, max_depth=4, min_samples_leaf=2, min_samples_split=6, n_estimators=15, random_state=12; total time=   0.0s\n",
      "[CV 3/5] END criterion=gini, max_depth=4, min_samples_leaf=2, min_samples_split=6, n_estimators=15, random_state=12; total time=   0.0s\n",
      "[CV 4/5] END criterion=gini, max_depth=4, min_samples_leaf=2, min_samples_split=6, n_estimators=15, random_state=12; total time=   0.0s\n",
      "[CV 5/5] END criterion=gini, max_depth=4, min_samples_leaf=2, min_samples_split=6, n_estimators=15, random_state=12; total time=   0.0s\n",
      "[CV 1/5] END criterion=gini, max_depth=4, min_samples_leaf=2, min_samples_split=6, n_estimators=25, random_state=12; total time=   0.0s\n",
      "[CV 2/5] END criterion=gini, max_depth=4, min_samples_leaf=2, min_samples_split=6, n_estimators=25, random_state=12; total time=   0.0s\n",
      "[CV 3/5] END criterion=gini, max_depth=4, min_samples_leaf=2, min_samples_split=6, n_estimators=25, random_state=12; total time=   0.0s\n",
      "[CV 4/5] END criterion=gini, max_depth=4, min_samples_leaf=2, min_samples_split=6, n_estimators=25, random_state=12; total time=   0.0s\n",
      "[CV 5/5] END criterion=gini, max_depth=4, min_samples_leaf=2, min_samples_split=6, n_estimators=25, random_state=12; total time=   0.0s\n",
      "[CV 1/5] END criterion=gini, max_depth=4, min_samples_leaf=2, min_samples_split=6, n_estimators=50, random_state=12; total time=   0.1s\n",
      "[CV 2/5] END criterion=gini, max_depth=4, min_samples_leaf=2, min_samples_split=6, n_estimators=50, random_state=12; total time=   0.1s\n",
      "[CV 3/5] END criterion=gini, max_depth=4, min_samples_leaf=2, min_samples_split=6, n_estimators=50, random_state=12; total time=   0.1s\n",
      "[CV 4/5] END criterion=gini, max_depth=4, min_samples_leaf=2, min_samples_split=6, n_estimators=50, random_state=12; total time=   0.0s\n",
      "[CV 5/5] END criterion=gini, max_depth=4, min_samples_leaf=2, min_samples_split=6, n_estimators=50, random_state=12; total time=   0.0s\n",
      "[CV 1/5] END criterion=gini, max_depth=4, min_samples_leaf=2, min_samples_split=6, n_estimators=100, random_state=12; total time=   0.2s\n",
      "[CV 2/5] END criterion=gini, max_depth=4, min_samples_leaf=2, min_samples_split=6, n_estimators=100, random_state=12; total time=   0.1s\n",
      "[CV 3/5] END criterion=gini, max_depth=4, min_samples_leaf=2, min_samples_split=6, n_estimators=100, random_state=12; total time=   0.2s\n",
      "[CV 4/5] END criterion=gini, max_depth=4, min_samples_leaf=2, min_samples_split=6, n_estimators=100, random_state=12; total time=   0.2s\n",
      "[CV 5/5] END criterion=gini, max_depth=4, min_samples_leaf=2, min_samples_split=6, n_estimators=100, random_state=12; total time=   0.1s\n",
      "[CV 1/5] END criterion=gini, max_depth=4, min_samples_leaf=3, min_samples_split=4, n_estimators=15, random_state=12; total time=   0.0s\n",
      "[CV 2/5] END criterion=gini, max_depth=4, min_samples_leaf=3, min_samples_split=4, n_estimators=15, random_state=12; total time=   0.0s\n",
      "[CV 3/5] END criterion=gini, max_depth=4, min_samples_leaf=3, min_samples_split=4, n_estimators=15, random_state=12; total time=   0.0s\n",
      "[CV 4/5] END criterion=gini, max_depth=4, min_samples_leaf=3, min_samples_split=4, n_estimators=15, random_state=12; total time=   0.0s\n",
      "[CV 5/5] END criterion=gini, max_depth=4, min_samples_leaf=3, min_samples_split=4, n_estimators=15, random_state=12; total time=   0.0s\n",
      "[CV 1/5] END criterion=gini, max_depth=4, min_samples_leaf=3, min_samples_split=4, n_estimators=25, random_state=12; total time=   0.0s\n",
      "[CV 2/5] END criterion=gini, max_depth=4, min_samples_leaf=3, min_samples_split=4, n_estimators=25, random_state=12; total time=   0.0s\n"
     ]
    },
    {
     "name": "stdout",
     "output_type": "stream",
     "text": [
      "[CV 3/5] END criterion=gini, max_depth=4, min_samples_leaf=3, min_samples_split=4, n_estimators=25, random_state=12; total time=   0.0s\n",
      "[CV 4/5] END criterion=gini, max_depth=4, min_samples_leaf=3, min_samples_split=4, n_estimators=25, random_state=12; total time=   0.0s\n",
      "[CV 5/5] END criterion=gini, max_depth=4, min_samples_leaf=3, min_samples_split=4, n_estimators=25, random_state=12; total time=   0.0s\n",
      "[CV 1/5] END criterion=gini, max_depth=4, min_samples_leaf=3, min_samples_split=4, n_estimators=50, random_state=12; total time=   0.1s\n",
      "[CV 2/5] END criterion=gini, max_depth=4, min_samples_leaf=3, min_samples_split=4, n_estimators=50, random_state=12; total time=   0.0s\n",
      "[CV 3/5] END criterion=gini, max_depth=4, min_samples_leaf=3, min_samples_split=4, n_estimators=50, random_state=12; total time=   0.0s\n",
      "[CV 4/5] END criterion=gini, max_depth=4, min_samples_leaf=3, min_samples_split=4, n_estimators=50, random_state=12; total time=   0.0s\n",
      "[CV 5/5] END criterion=gini, max_depth=4, min_samples_leaf=3, min_samples_split=4, n_estimators=50, random_state=12; total time=   0.0s\n",
      "[CV 1/5] END criterion=gini, max_depth=4, min_samples_leaf=3, min_samples_split=4, n_estimators=100, random_state=12; total time=   0.1s\n",
      "[CV 2/5] END criterion=gini, max_depth=4, min_samples_leaf=3, min_samples_split=4, n_estimators=100, random_state=12; total time=   0.2s\n",
      "[CV 3/5] END criterion=gini, max_depth=4, min_samples_leaf=3, min_samples_split=4, n_estimators=100, random_state=12; total time=   0.2s\n",
      "[CV 4/5] END criterion=gini, max_depth=4, min_samples_leaf=3, min_samples_split=4, n_estimators=100, random_state=12; total time=   0.2s\n",
      "[CV 5/5] END criterion=gini, max_depth=4, min_samples_leaf=3, min_samples_split=4, n_estimators=100, random_state=12; total time=   0.1s\n",
      "[CV 1/5] END criterion=gini, max_depth=4, min_samples_leaf=3, min_samples_split=5, n_estimators=15, random_state=12; total time=   0.0s\n",
      "[CV 2/5] END criterion=gini, max_depth=4, min_samples_leaf=3, min_samples_split=5, n_estimators=15, random_state=12; total time=   0.0s\n",
      "[CV 3/5] END criterion=gini, max_depth=4, min_samples_leaf=3, min_samples_split=5, n_estimators=15, random_state=12; total time=   0.0s\n",
      "[CV 4/5] END criterion=gini, max_depth=4, min_samples_leaf=3, min_samples_split=5, n_estimators=15, random_state=12; total time=   0.0s\n",
      "[CV 5/5] END criterion=gini, max_depth=4, min_samples_leaf=3, min_samples_split=5, n_estimators=15, random_state=12; total time=   0.0s\n",
      "[CV 1/5] END criterion=gini, max_depth=4, min_samples_leaf=3, min_samples_split=5, n_estimators=25, random_state=12; total time=   0.0s\n",
      "[CV 2/5] END criterion=gini, max_depth=4, min_samples_leaf=3, min_samples_split=5, n_estimators=25, random_state=12; total time=   0.0s\n",
      "[CV 3/5] END criterion=gini, max_depth=4, min_samples_leaf=3, min_samples_split=5, n_estimators=25, random_state=12; total time=   0.0s\n",
      "[CV 4/5] END criterion=gini, max_depth=4, min_samples_leaf=3, min_samples_split=5, n_estimators=25, random_state=12; total time=   0.0s\n",
      "[CV 5/5] END criterion=gini, max_depth=4, min_samples_leaf=3, min_samples_split=5, n_estimators=25, random_state=12; total time=   0.0s\n",
      "[CV 1/5] END criterion=gini, max_depth=4, min_samples_leaf=3, min_samples_split=5, n_estimators=50, random_state=12; total time=   0.1s\n",
      "[CV 2/5] END criterion=gini, max_depth=4, min_samples_leaf=3, min_samples_split=5, n_estimators=50, random_state=12; total time=   0.0s\n",
      "[CV 3/5] END criterion=gini, max_depth=4, min_samples_leaf=3, min_samples_split=5, n_estimators=50, random_state=12; total time=   0.0s\n",
      "[CV 4/5] END criterion=gini, max_depth=4, min_samples_leaf=3, min_samples_split=5, n_estimators=50, random_state=12; total time=   0.0s\n",
      "[CV 5/5] END criterion=gini, max_depth=4, min_samples_leaf=3, min_samples_split=5, n_estimators=50, random_state=12; total time=   0.1s\n",
      "[CV 1/5] END criterion=gini, max_depth=4, min_samples_leaf=3, min_samples_split=5, n_estimators=100, random_state=12; total time=   0.2s\n",
      "[CV 2/5] END criterion=gini, max_depth=4, min_samples_leaf=3, min_samples_split=5, n_estimators=100, random_state=12; total time=   0.1s\n",
      "[CV 3/5] END criterion=gini, max_depth=4, min_samples_leaf=3, min_samples_split=5, n_estimators=100, random_state=12; total time=   0.1s\n",
      "[CV 4/5] END criterion=gini, max_depth=4, min_samples_leaf=3, min_samples_split=5, n_estimators=100, random_state=12; total time=   0.2s\n",
      "[CV 5/5] END criterion=gini, max_depth=4, min_samples_leaf=3, min_samples_split=5, n_estimators=100, random_state=12; total time=   0.1s\n",
      "[CV 1/5] END criterion=gini, max_depth=4, min_samples_leaf=3, min_samples_split=6, n_estimators=15, random_state=12; total time=   0.0s\n",
      "[CV 2/5] END criterion=gini, max_depth=4, min_samples_leaf=3, min_samples_split=6, n_estimators=15, random_state=12; total time=   0.0s\n",
      "[CV 3/5] END criterion=gini, max_depth=4, min_samples_leaf=3, min_samples_split=6, n_estimators=15, random_state=12; total time=   0.0s\n",
      "[CV 4/5] END criterion=gini, max_depth=4, min_samples_leaf=3, min_samples_split=6, n_estimators=15, random_state=12; total time=   0.0s\n",
      "[CV 5/5] END criterion=gini, max_depth=4, min_samples_leaf=3, min_samples_split=6, n_estimators=15, random_state=12; total time=   0.0s\n",
      "[CV 1/5] END criterion=gini, max_depth=4, min_samples_leaf=3, min_samples_split=6, n_estimators=25, random_state=12; total time=   0.0s\n",
      "[CV 2/5] END criterion=gini, max_depth=4, min_samples_leaf=3, min_samples_split=6, n_estimators=25, random_state=12; total time=   0.0s\n",
      "[CV 3/5] END criterion=gini, max_depth=4, min_samples_leaf=3, min_samples_split=6, n_estimators=25, random_state=12; total time=   0.0s\n",
      "[CV 4/5] END criterion=gini, max_depth=4, min_samples_leaf=3, min_samples_split=6, n_estimators=25, random_state=12; total time=   0.0s\n",
      "[CV 5/5] END criterion=gini, max_depth=4, min_samples_leaf=3, min_samples_split=6, n_estimators=25, random_state=12; total time=   0.0s\n",
      "[CV 1/5] END criterion=gini, max_depth=4, min_samples_leaf=3, min_samples_split=6, n_estimators=50, random_state=12; total time=   0.1s\n",
      "[CV 2/5] END criterion=gini, max_depth=4, min_samples_leaf=3, min_samples_split=6, n_estimators=50, random_state=12; total time=   0.0s\n",
      "[CV 3/5] END criterion=gini, max_depth=4, min_samples_leaf=3, min_samples_split=6, n_estimators=50, random_state=12; total time=   0.0s\n",
      "[CV 4/5] END criterion=gini, max_depth=4, min_samples_leaf=3, min_samples_split=6, n_estimators=50, random_state=12; total time=   0.0s\n",
      "[CV 5/5] END criterion=gini, max_depth=4, min_samples_leaf=3, min_samples_split=6, n_estimators=50, random_state=12; total time=   0.1s\n",
      "[CV 1/5] END criterion=gini, max_depth=4, min_samples_leaf=3, min_samples_split=6, n_estimators=100, random_state=12; total time=   0.2s\n",
      "[CV 2/5] END criterion=gini, max_depth=4, min_samples_leaf=3, min_samples_split=6, n_estimators=100, random_state=12; total time=   0.2s\n",
      "[CV 3/5] END criterion=gini, max_depth=4, min_samples_leaf=3, min_samples_split=6, n_estimators=100, random_state=12; total time=   0.1s\n",
      "[CV 4/5] END criterion=gini, max_depth=4, min_samples_leaf=3, min_samples_split=6, n_estimators=100, random_state=12; total time=   0.2s\n",
      "[CV 5/5] END criterion=gini, max_depth=4, min_samples_leaf=3, min_samples_split=6, n_estimators=100, random_state=12; total time=   0.2s\n",
      "[CV 1/5] END criterion=gini, max_depth=4, min_samples_leaf=4, min_samples_split=4, n_estimators=15, random_state=12; total time=   0.0s\n",
      "[CV 2/5] END criterion=gini, max_depth=4, min_samples_leaf=4, min_samples_split=4, n_estimators=15, random_state=12; total time=   0.0s\n",
      "[CV 3/5] END criterion=gini, max_depth=4, min_samples_leaf=4, min_samples_split=4, n_estimators=15, random_state=12; total time=   0.0s\n",
      "[CV 4/5] END criterion=gini, max_depth=4, min_samples_leaf=4, min_samples_split=4, n_estimators=15, random_state=12; total time=   0.0s\n",
      "[CV 5/5] END criterion=gini, max_depth=4, min_samples_leaf=4, min_samples_split=4, n_estimators=15, random_state=12; total time=   0.0s\n",
      "[CV 1/5] END criterion=gini, max_depth=4, min_samples_leaf=4, min_samples_split=4, n_estimators=25, random_state=12; total time=   0.0s\n",
      "[CV 2/5] END criterion=gini, max_depth=4, min_samples_leaf=4, min_samples_split=4, n_estimators=25, random_state=12; total time=   0.0s\n",
      "[CV 3/5] END criterion=gini, max_depth=4, min_samples_leaf=4, min_samples_split=4, n_estimators=25, random_state=12; total time=   0.0s\n"
     ]
    },
    {
     "name": "stdout",
     "output_type": "stream",
     "text": [
      "[CV 4/5] END criterion=gini, max_depth=4, min_samples_leaf=4, min_samples_split=4, n_estimators=25, random_state=12; total time=   0.0s\n",
      "[CV 5/5] END criterion=gini, max_depth=4, min_samples_leaf=4, min_samples_split=4, n_estimators=25, random_state=12; total time=   0.0s\n",
      "[CV 1/5] END criterion=gini, max_depth=4, min_samples_leaf=4, min_samples_split=4, n_estimators=50, random_state=12; total time=   0.0s\n",
      "[CV 2/5] END criterion=gini, max_depth=4, min_samples_leaf=4, min_samples_split=4, n_estimators=50, random_state=12; total time=   0.0s\n",
      "[CV 3/5] END criterion=gini, max_depth=4, min_samples_leaf=4, min_samples_split=4, n_estimators=50, random_state=12; total time=   0.0s\n",
      "[CV 4/5] END criterion=gini, max_depth=4, min_samples_leaf=4, min_samples_split=4, n_estimators=50, random_state=12; total time=   0.0s\n",
      "[CV 5/5] END criterion=gini, max_depth=4, min_samples_leaf=4, min_samples_split=4, n_estimators=50, random_state=12; total time=   0.0s\n",
      "[CV 1/5] END criterion=gini, max_depth=4, min_samples_leaf=4, min_samples_split=4, n_estimators=100, random_state=12; total time=   0.1s\n",
      "[CV 2/5] END criterion=gini, max_depth=4, min_samples_leaf=4, min_samples_split=4, n_estimators=100, random_state=12; total time=   0.2s\n",
      "[CV 3/5] END criterion=gini, max_depth=4, min_samples_leaf=4, min_samples_split=4, n_estimators=100, random_state=12; total time=   0.1s\n",
      "[CV 4/5] END criterion=gini, max_depth=4, min_samples_leaf=4, min_samples_split=4, n_estimators=100, random_state=12; total time=   0.2s\n",
      "[CV 5/5] END criterion=gini, max_depth=4, min_samples_leaf=4, min_samples_split=4, n_estimators=100, random_state=12; total time=   0.1s\n",
      "[CV 1/5] END criterion=gini, max_depth=4, min_samples_leaf=4, min_samples_split=5, n_estimators=15, random_state=12; total time=   0.0s\n",
      "[CV 2/5] END criterion=gini, max_depth=4, min_samples_leaf=4, min_samples_split=5, n_estimators=15, random_state=12; total time=   0.0s\n",
      "[CV 3/5] END criterion=gini, max_depth=4, min_samples_leaf=4, min_samples_split=5, n_estimators=15, random_state=12; total time=   0.0s\n",
      "[CV 4/5] END criterion=gini, max_depth=4, min_samples_leaf=4, min_samples_split=5, n_estimators=15, random_state=12; total time=   0.0s\n",
      "[CV 5/5] END criterion=gini, max_depth=4, min_samples_leaf=4, min_samples_split=5, n_estimators=15, random_state=12; total time=   0.0s\n",
      "[CV 1/5] END criterion=gini, max_depth=4, min_samples_leaf=4, min_samples_split=5, n_estimators=25, random_state=12; total time=   0.0s\n",
      "[CV 2/5] END criterion=gini, max_depth=4, min_samples_leaf=4, min_samples_split=5, n_estimators=25, random_state=12; total time=   0.0s\n",
      "[CV 3/5] END criterion=gini, max_depth=4, min_samples_leaf=4, min_samples_split=5, n_estimators=25, random_state=12; total time=   0.0s\n",
      "[CV 4/5] END criterion=gini, max_depth=4, min_samples_leaf=4, min_samples_split=5, n_estimators=25, random_state=12; total time=   0.0s\n",
      "[CV 5/5] END criterion=gini, max_depth=4, min_samples_leaf=4, min_samples_split=5, n_estimators=25, random_state=12; total time=   0.0s\n",
      "[CV 1/5] END criterion=gini, max_depth=4, min_samples_leaf=4, min_samples_split=5, n_estimators=50, random_state=12; total time=   0.0s\n",
      "[CV 2/5] END criterion=gini, max_depth=4, min_samples_leaf=4, min_samples_split=5, n_estimators=50, random_state=12; total time=   0.0s\n",
      "[CV 3/5] END criterion=gini, max_depth=4, min_samples_leaf=4, min_samples_split=5, n_estimators=50, random_state=12; total time=   0.0s\n",
      "[CV 4/5] END criterion=gini, max_depth=4, min_samples_leaf=4, min_samples_split=5, n_estimators=50, random_state=12; total time=   0.0s\n",
      "[CV 5/5] END criterion=gini, max_depth=4, min_samples_leaf=4, min_samples_split=5, n_estimators=50, random_state=12; total time=   0.0s\n",
      "[CV 1/5] END criterion=gini, max_depth=4, min_samples_leaf=4, min_samples_split=5, n_estimators=100, random_state=12; total time=   0.1s\n",
      "[CV 2/5] END criterion=gini, max_depth=4, min_samples_leaf=4, min_samples_split=5, n_estimators=100, random_state=12; total time=   0.1s\n",
      "[CV 3/5] END criterion=gini, max_depth=4, min_samples_leaf=4, min_samples_split=5, n_estimators=100, random_state=12; total time=   0.2s\n",
      "[CV 4/5] END criterion=gini, max_depth=4, min_samples_leaf=4, min_samples_split=5, n_estimators=100, random_state=12; total time=   0.1s\n",
      "[CV 5/5] END criterion=gini, max_depth=4, min_samples_leaf=4, min_samples_split=5, n_estimators=100, random_state=12; total time=   0.2s\n",
      "[CV 1/5] END criterion=gini, max_depth=4, min_samples_leaf=4, min_samples_split=6, n_estimators=15, random_state=12; total time=   0.0s\n",
      "[CV 2/5] END criterion=gini, max_depth=4, min_samples_leaf=4, min_samples_split=6, n_estimators=15, random_state=12; total time=   0.0s\n",
      "[CV 3/5] END criterion=gini, max_depth=4, min_samples_leaf=4, min_samples_split=6, n_estimators=15, random_state=12; total time=   0.0s\n",
      "[CV 4/5] END criterion=gini, max_depth=4, min_samples_leaf=4, min_samples_split=6, n_estimators=15, random_state=12; total time=   0.0s\n",
      "[CV 5/5] END criterion=gini, max_depth=4, min_samples_leaf=4, min_samples_split=6, n_estimators=15, random_state=12; total time=   0.0s\n",
      "[CV 1/5] END criterion=gini, max_depth=4, min_samples_leaf=4, min_samples_split=6, n_estimators=25, random_state=12; total time=   0.0s\n",
      "[CV 2/5] END criterion=gini, max_depth=4, min_samples_leaf=4, min_samples_split=6, n_estimators=25, random_state=12; total time=   0.0s\n",
      "[CV 3/5] END criterion=gini, max_depth=4, min_samples_leaf=4, min_samples_split=6, n_estimators=25, random_state=12; total time=   0.0s\n",
      "[CV 4/5] END criterion=gini, max_depth=4, min_samples_leaf=4, min_samples_split=6, n_estimators=25, random_state=12; total time=   0.0s\n",
      "[CV 5/5] END criterion=gini, max_depth=4, min_samples_leaf=4, min_samples_split=6, n_estimators=25, random_state=12; total time=   0.0s\n",
      "[CV 1/5] END criterion=gini, max_depth=4, min_samples_leaf=4, min_samples_split=6, n_estimators=50, random_state=12; total time=   0.0s\n",
      "[CV 2/5] END criterion=gini, max_depth=4, min_samples_leaf=4, min_samples_split=6, n_estimators=50, random_state=12; total time=   0.0s\n",
      "[CV 3/5] END criterion=gini, max_depth=4, min_samples_leaf=4, min_samples_split=6, n_estimators=50, random_state=12; total time=   0.0s\n",
      "[CV 4/5] END criterion=gini, max_depth=4, min_samples_leaf=4, min_samples_split=6, n_estimators=50, random_state=12; total time=   0.0s\n",
      "[CV 5/5] END criterion=gini, max_depth=4, min_samples_leaf=4, min_samples_split=6, n_estimators=50, random_state=12; total time=   0.0s\n",
      "[CV 1/5] END criterion=gini, max_depth=4, min_samples_leaf=4, min_samples_split=6, n_estimators=100, random_state=12; total time=   0.1s\n",
      "[CV 2/5] END criterion=gini, max_depth=4, min_samples_leaf=4, min_samples_split=6, n_estimators=100, random_state=12; total time=   0.2s\n",
      "[CV 3/5] END criterion=gini, max_depth=4, min_samples_leaf=4, min_samples_split=6, n_estimators=100, random_state=12; total time=   0.1s\n",
      "[CV 4/5] END criterion=gini, max_depth=4, min_samples_leaf=4, min_samples_split=6, n_estimators=100, random_state=12; total time=   0.1s\n",
      "[CV 5/5] END criterion=gini, max_depth=4, min_samples_leaf=4, min_samples_split=6, n_estimators=100, random_state=12; total time=   0.2s\n",
      "[CV 1/5] END criterion=gini, max_depth=5, min_samples_leaf=1, min_samples_split=4, n_estimators=15, random_state=12; total time=   0.0s\n",
      "[CV 2/5] END criterion=gini, max_depth=5, min_samples_leaf=1, min_samples_split=4, n_estimators=15, random_state=12; total time=   0.0s\n",
      "[CV 3/5] END criterion=gini, max_depth=5, min_samples_leaf=1, min_samples_split=4, n_estimators=15, random_state=12; total time=   0.0s\n",
      "[CV 4/5] END criterion=gini, max_depth=5, min_samples_leaf=1, min_samples_split=4, n_estimators=15, random_state=12; total time=   0.0s\n",
      "[CV 5/5] END criterion=gini, max_depth=5, min_samples_leaf=1, min_samples_split=4, n_estimators=15, random_state=12; total time=   0.0s\n",
      "[CV 1/5] END criterion=gini, max_depth=5, min_samples_leaf=1, min_samples_split=4, n_estimators=25, random_state=12; total time=   0.0s\n",
      "[CV 2/5] END criterion=gini, max_depth=5, min_samples_leaf=1, min_samples_split=4, n_estimators=25, random_state=12; total time=   0.0s\n",
      "[CV 3/5] END criterion=gini, max_depth=5, min_samples_leaf=1, min_samples_split=4, n_estimators=25, random_state=12; total time=   0.0s\n",
      "[CV 4/5] END criterion=gini, max_depth=5, min_samples_leaf=1, min_samples_split=4, n_estimators=25, random_state=12; total time=   0.0s\n",
      "[CV 5/5] END criterion=gini, max_depth=5, min_samples_leaf=1, min_samples_split=4, n_estimators=25, random_state=12; total time=   0.0s\n"
     ]
    },
    {
     "name": "stdout",
     "output_type": "stream",
     "text": [
      "[CV 1/5] END criterion=gini, max_depth=5, min_samples_leaf=1, min_samples_split=4, n_estimators=50, random_state=12; total time=   0.0s\n",
      "[CV 2/5] END criterion=gini, max_depth=5, min_samples_leaf=1, min_samples_split=4, n_estimators=50, random_state=12; total time=   0.0s\n",
      "[CV 3/5] END criterion=gini, max_depth=5, min_samples_leaf=1, min_samples_split=4, n_estimators=50, random_state=12; total time=   0.0s\n",
      "[CV 4/5] END criterion=gini, max_depth=5, min_samples_leaf=1, min_samples_split=4, n_estimators=50, random_state=12; total time=   0.0s\n",
      "[CV 5/5] END criterion=gini, max_depth=5, min_samples_leaf=1, min_samples_split=4, n_estimators=50, random_state=12; total time=   0.1s\n",
      "[CV 1/5] END criterion=gini, max_depth=5, min_samples_leaf=1, min_samples_split=4, n_estimators=100, random_state=12; total time=   0.1s\n",
      "[CV 2/5] END criterion=gini, max_depth=5, min_samples_leaf=1, min_samples_split=4, n_estimators=100, random_state=12; total time=   0.1s\n",
      "[CV 3/5] END criterion=gini, max_depth=5, min_samples_leaf=1, min_samples_split=4, n_estimators=100, random_state=12; total time=   0.2s\n",
      "[CV 4/5] END criterion=gini, max_depth=5, min_samples_leaf=1, min_samples_split=4, n_estimators=100, random_state=12; total time=   0.2s\n",
      "[CV 5/5] END criterion=gini, max_depth=5, min_samples_leaf=1, min_samples_split=4, n_estimators=100, random_state=12; total time=   0.1s\n",
      "[CV 1/5] END criterion=gini, max_depth=5, min_samples_leaf=1, min_samples_split=5, n_estimators=15, random_state=12; total time=   0.0s\n",
      "[CV 2/5] END criterion=gini, max_depth=5, min_samples_leaf=1, min_samples_split=5, n_estimators=15, random_state=12; total time=   0.0s\n",
      "[CV 3/5] END criterion=gini, max_depth=5, min_samples_leaf=1, min_samples_split=5, n_estimators=15, random_state=12; total time=   0.0s\n",
      "[CV 4/5] END criterion=gini, max_depth=5, min_samples_leaf=1, min_samples_split=5, n_estimators=15, random_state=12; total time=   0.0s\n",
      "[CV 5/5] END criterion=gini, max_depth=5, min_samples_leaf=1, min_samples_split=5, n_estimators=15, random_state=12; total time=   0.0s\n",
      "[CV 1/5] END criterion=gini, max_depth=5, min_samples_leaf=1, min_samples_split=5, n_estimators=25, random_state=12; total time=   0.0s\n",
      "[CV 2/5] END criterion=gini, max_depth=5, min_samples_leaf=1, min_samples_split=5, n_estimators=25, random_state=12; total time=   0.0s\n",
      "[CV 3/5] END criterion=gini, max_depth=5, min_samples_leaf=1, min_samples_split=5, n_estimators=25, random_state=12; total time=   0.0s\n",
      "[CV 4/5] END criterion=gini, max_depth=5, min_samples_leaf=1, min_samples_split=5, n_estimators=25, random_state=12; total time=   0.0s\n",
      "[CV 5/5] END criterion=gini, max_depth=5, min_samples_leaf=1, min_samples_split=5, n_estimators=25, random_state=12; total time=   0.0s\n",
      "[CV 1/5] END criterion=gini, max_depth=5, min_samples_leaf=1, min_samples_split=5, n_estimators=50, random_state=12; total time=   0.0s\n",
      "[CV 2/5] END criterion=gini, max_depth=5, min_samples_leaf=1, min_samples_split=5, n_estimators=50, random_state=12; total time=   0.0s\n",
      "[CV 3/5] END criterion=gini, max_depth=5, min_samples_leaf=1, min_samples_split=5, n_estimators=50, random_state=12; total time=   0.0s\n",
      "[CV 4/5] END criterion=gini, max_depth=5, min_samples_leaf=1, min_samples_split=5, n_estimators=50, random_state=12; total time=   0.0s\n",
      "[CV 5/5] END criterion=gini, max_depth=5, min_samples_leaf=1, min_samples_split=5, n_estimators=50, random_state=12; total time=   0.0s\n",
      "[CV 1/5] END criterion=gini, max_depth=5, min_samples_leaf=1, min_samples_split=5, n_estimators=100, random_state=12; total time=   0.1s\n",
      "[CV 2/5] END criterion=gini, max_depth=5, min_samples_leaf=1, min_samples_split=5, n_estimators=100, random_state=12; total time=   0.1s\n",
      "[CV 3/5] END criterion=gini, max_depth=5, min_samples_leaf=1, min_samples_split=5, n_estimators=100, random_state=12; total time=   0.2s\n",
      "[CV 4/5] END criterion=gini, max_depth=5, min_samples_leaf=1, min_samples_split=5, n_estimators=100, random_state=12; total time=   0.2s\n",
      "[CV 5/5] END criterion=gini, max_depth=5, min_samples_leaf=1, min_samples_split=5, n_estimators=100, random_state=12; total time=   0.1s\n",
      "[CV 1/5] END criterion=gini, max_depth=5, min_samples_leaf=1, min_samples_split=6, n_estimators=15, random_state=12; total time=   0.0s\n",
      "[CV 2/5] END criterion=gini, max_depth=5, min_samples_leaf=1, min_samples_split=6, n_estimators=15, random_state=12; total time=   0.0s\n",
      "[CV 3/5] END criterion=gini, max_depth=5, min_samples_leaf=1, min_samples_split=6, n_estimators=15, random_state=12; total time=   0.0s\n",
      "[CV 4/5] END criterion=gini, max_depth=5, min_samples_leaf=1, min_samples_split=6, n_estimators=15, random_state=12; total time=   0.0s\n",
      "[CV 5/5] END criterion=gini, max_depth=5, min_samples_leaf=1, min_samples_split=6, n_estimators=15, random_state=12; total time=   0.0s\n",
      "[CV 1/5] END criterion=gini, max_depth=5, min_samples_leaf=1, min_samples_split=6, n_estimators=25, random_state=12; total time=   0.0s\n",
      "[CV 2/5] END criterion=gini, max_depth=5, min_samples_leaf=1, min_samples_split=6, n_estimators=25, random_state=12; total time=   0.0s\n",
      "[CV 3/5] END criterion=gini, max_depth=5, min_samples_leaf=1, min_samples_split=6, n_estimators=25, random_state=12; total time=   0.0s\n",
      "[CV 4/5] END criterion=gini, max_depth=5, min_samples_leaf=1, min_samples_split=6, n_estimators=25, random_state=12; total time=   0.0s\n",
      "[CV 5/5] END criterion=gini, max_depth=5, min_samples_leaf=1, min_samples_split=6, n_estimators=25, random_state=12; total time=   0.0s\n",
      "[CV 1/5] END criterion=gini, max_depth=5, min_samples_leaf=1, min_samples_split=6, n_estimators=50, random_state=12; total time=   0.0s\n",
      "[CV 2/5] END criterion=gini, max_depth=5, min_samples_leaf=1, min_samples_split=6, n_estimators=50, random_state=12; total time=   0.0s\n",
      "[CV 3/5] END criterion=gini, max_depth=5, min_samples_leaf=1, min_samples_split=6, n_estimators=50, random_state=12; total time=   0.0s\n",
      "[CV 4/5] END criterion=gini, max_depth=5, min_samples_leaf=1, min_samples_split=6, n_estimators=50, random_state=12; total time=   0.0s\n",
      "[CV 5/5] END criterion=gini, max_depth=5, min_samples_leaf=1, min_samples_split=6, n_estimators=50, random_state=12; total time=   0.0s\n",
      "[CV 1/5] END criterion=gini, max_depth=5, min_samples_leaf=1, min_samples_split=6, n_estimators=100, random_state=12; total time=   0.2s\n",
      "[CV 2/5] END criterion=gini, max_depth=5, min_samples_leaf=1, min_samples_split=6, n_estimators=100, random_state=12; total time=   0.2s\n",
      "[CV 3/5] END criterion=gini, max_depth=5, min_samples_leaf=1, min_samples_split=6, n_estimators=100, random_state=12; total time=   0.1s\n",
      "[CV 4/5] END criterion=gini, max_depth=5, min_samples_leaf=1, min_samples_split=6, n_estimators=100, random_state=12; total time=   0.2s\n",
      "[CV 5/5] END criterion=gini, max_depth=5, min_samples_leaf=1, min_samples_split=6, n_estimators=100, random_state=12; total time=   0.1s\n",
      "[CV 1/5] END criterion=gini, max_depth=5, min_samples_leaf=2, min_samples_split=4, n_estimators=15, random_state=12; total time=   0.0s\n",
      "[CV 2/5] END criterion=gini, max_depth=5, min_samples_leaf=2, min_samples_split=4, n_estimators=15, random_state=12; total time=   0.0s\n",
      "[CV 3/5] END criterion=gini, max_depth=5, min_samples_leaf=2, min_samples_split=4, n_estimators=15, random_state=12; total time=   0.0s\n",
      "[CV 4/5] END criterion=gini, max_depth=5, min_samples_leaf=2, min_samples_split=4, n_estimators=15, random_state=12; total time=   0.0s\n",
      "[CV 5/5] END criterion=gini, max_depth=5, min_samples_leaf=2, min_samples_split=4, n_estimators=15, random_state=12; total time=   0.0s\n",
      "[CV 1/5] END criterion=gini, max_depth=5, min_samples_leaf=2, min_samples_split=4, n_estimators=25, random_state=12; total time=   0.0s\n",
      "[CV 2/5] END criterion=gini, max_depth=5, min_samples_leaf=2, min_samples_split=4, n_estimators=25, random_state=12; total time=   0.0s\n",
      "[CV 3/5] END criterion=gini, max_depth=5, min_samples_leaf=2, min_samples_split=4, n_estimators=25, random_state=12; total time=   0.0s\n",
      "[CV 4/5] END criterion=gini, max_depth=5, min_samples_leaf=2, min_samples_split=4, n_estimators=25, random_state=12; total time=   0.0s\n",
      "[CV 5/5] END criterion=gini, max_depth=5, min_samples_leaf=2, min_samples_split=4, n_estimators=25, random_state=12; total time=   0.0s\n",
      "[CV 1/5] END criterion=gini, max_depth=5, min_samples_leaf=2, min_samples_split=4, n_estimators=50, random_state=12; total time=   0.1s\n",
      "[CV 2/5] END criterion=gini, max_depth=5, min_samples_leaf=2, min_samples_split=4, n_estimators=50, random_state=12; total time=   0.0s\n"
     ]
    },
    {
     "name": "stdout",
     "output_type": "stream",
     "text": [
      "[CV 3/5] END criterion=gini, max_depth=5, min_samples_leaf=2, min_samples_split=4, n_estimators=50, random_state=12; total time=   0.0s\n",
      "[CV 4/5] END criterion=gini, max_depth=5, min_samples_leaf=2, min_samples_split=4, n_estimators=50, random_state=12; total time=   0.0s\n",
      "[CV 5/5] END criterion=gini, max_depth=5, min_samples_leaf=2, min_samples_split=4, n_estimators=50, random_state=12; total time=   0.0s\n",
      "[CV 1/5] END criterion=gini, max_depth=5, min_samples_leaf=2, min_samples_split=4, n_estimators=100, random_state=12; total time=   0.1s\n",
      "[CV 2/5] END criterion=gini, max_depth=5, min_samples_leaf=2, min_samples_split=4, n_estimators=100, random_state=12; total time=   0.1s\n",
      "[CV 3/5] END criterion=gini, max_depth=5, min_samples_leaf=2, min_samples_split=4, n_estimators=100, random_state=12; total time=   0.1s\n",
      "[CV 4/5] END criterion=gini, max_depth=5, min_samples_leaf=2, min_samples_split=4, n_estimators=100, random_state=12; total time=   0.2s\n",
      "[CV 5/5] END criterion=gini, max_depth=5, min_samples_leaf=2, min_samples_split=4, n_estimators=100, random_state=12; total time=   0.1s\n",
      "[CV 1/5] END criterion=gini, max_depth=5, min_samples_leaf=2, min_samples_split=5, n_estimators=15, random_state=12; total time=   0.0s\n",
      "[CV 2/5] END criterion=gini, max_depth=5, min_samples_leaf=2, min_samples_split=5, n_estimators=15, random_state=12; total time=   0.0s\n",
      "[CV 3/5] END criterion=gini, max_depth=5, min_samples_leaf=2, min_samples_split=5, n_estimators=15, random_state=12; total time=   0.0s\n",
      "[CV 4/5] END criterion=gini, max_depth=5, min_samples_leaf=2, min_samples_split=5, n_estimators=15, random_state=12; total time=   0.0s\n",
      "[CV 5/5] END criterion=gini, max_depth=5, min_samples_leaf=2, min_samples_split=5, n_estimators=15, random_state=12; total time=   0.0s\n",
      "[CV 1/5] END criterion=gini, max_depth=5, min_samples_leaf=2, min_samples_split=5, n_estimators=25, random_state=12; total time=   0.0s\n",
      "[CV 2/5] END criterion=gini, max_depth=5, min_samples_leaf=2, min_samples_split=5, n_estimators=25, random_state=12; total time=   0.0s\n",
      "[CV 3/5] END criterion=gini, max_depth=5, min_samples_leaf=2, min_samples_split=5, n_estimators=25, random_state=12; total time=   0.0s\n",
      "[CV 4/5] END criterion=gini, max_depth=5, min_samples_leaf=2, min_samples_split=5, n_estimators=25, random_state=12; total time=   0.0s\n",
      "[CV 5/5] END criterion=gini, max_depth=5, min_samples_leaf=2, min_samples_split=5, n_estimators=25, random_state=12; total time=   0.0s\n",
      "[CV 1/5] END criterion=gini, max_depth=5, min_samples_leaf=2, min_samples_split=5, n_estimators=50, random_state=12; total time=   0.0s\n",
      "[CV 2/5] END criterion=gini, max_depth=5, min_samples_leaf=2, min_samples_split=5, n_estimators=50, random_state=12; total time=   0.0s\n",
      "[CV 3/5] END criterion=gini, max_depth=5, min_samples_leaf=2, min_samples_split=5, n_estimators=50, random_state=12; total time=   0.0s\n",
      "[CV 4/5] END criterion=gini, max_depth=5, min_samples_leaf=2, min_samples_split=5, n_estimators=50, random_state=12; total time=   0.0s\n",
      "[CV 5/5] END criterion=gini, max_depth=5, min_samples_leaf=2, min_samples_split=5, n_estimators=50, random_state=12; total time=   0.0s\n",
      "[CV 1/5] END criterion=gini, max_depth=5, min_samples_leaf=2, min_samples_split=5, n_estimators=100, random_state=12; total time=   0.1s\n",
      "[CV 2/5] END criterion=gini, max_depth=5, min_samples_leaf=2, min_samples_split=5, n_estimators=100, random_state=12; total time=   0.2s\n",
      "[CV 3/5] END criterion=gini, max_depth=5, min_samples_leaf=2, min_samples_split=5, n_estimators=100, random_state=12; total time=   0.2s\n",
      "[CV 4/5] END criterion=gini, max_depth=5, min_samples_leaf=2, min_samples_split=5, n_estimators=100, random_state=12; total time=   0.2s\n",
      "[CV 5/5] END criterion=gini, max_depth=5, min_samples_leaf=2, min_samples_split=5, n_estimators=100, random_state=12; total time=   0.2s\n",
      "[CV 1/5] END criterion=gini, max_depth=5, min_samples_leaf=2, min_samples_split=6, n_estimators=15, random_state=12; total time=   0.0s\n",
      "[CV 2/5] END criterion=gini, max_depth=5, min_samples_leaf=2, min_samples_split=6, n_estimators=15, random_state=12; total time=   0.0s\n",
      "[CV 3/5] END criterion=gini, max_depth=5, min_samples_leaf=2, min_samples_split=6, n_estimators=15, random_state=12; total time=   0.0s\n",
      "[CV 4/5] END criterion=gini, max_depth=5, min_samples_leaf=2, min_samples_split=6, n_estimators=15, random_state=12; total time=   0.0s\n",
      "[CV 5/5] END criterion=gini, max_depth=5, min_samples_leaf=2, min_samples_split=6, n_estimators=15, random_state=12; total time=   0.0s\n",
      "[CV 1/5] END criterion=gini, max_depth=5, min_samples_leaf=2, min_samples_split=6, n_estimators=25, random_state=12; total time=   0.0s\n",
      "[CV 2/5] END criterion=gini, max_depth=5, min_samples_leaf=2, min_samples_split=6, n_estimators=25, random_state=12; total time=   0.0s\n",
      "[CV 3/5] END criterion=gini, max_depth=5, min_samples_leaf=2, min_samples_split=6, n_estimators=25, random_state=12; total time=   0.0s\n",
      "[CV 4/5] END criterion=gini, max_depth=5, min_samples_leaf=2, min_samples_split=6, n_estimators=25, random_state=12; total time=   0.0s\n",
      "[CV 5/5] END criterion=gini, max_depth=5, min_samples_leaf=2, min_samples_split=6, n_estimators=25, random_state=12; total time=   0.0s\n",
      "[CV 1/5] END criterion=gini, max_depth=5, min_samples_leaf=2, min_samples_split=6, n_estimators=50, random_state=12; total time=   0.1s\n",
      "[CV 2/5] END criterion=gini, max_depth=5, min_samples_leaf=2, min_samples_split=6, n_estimators=50, random_state=12; total time=   0.0s\n",
      "[CV 3/5] END criterion=gini, max_depth=5, min_samples_leaf=2, min_samples_split=6, n_estimators=50, random_state=12; total time=   0.0s\n",
      "[CV 4/5] END criterion=gini, max_depth=5, min_samples_leaf=2, min_samples_split=6, n_estimators=50, random_state=12; total time=   0.0s\n",
      "[CV 5/5] END criterion=gini, max_depth=5, min_samples_leaf=2, min_samples_split=6, n_estimators=50, random_state=12; total time=   0.0s\n",
      "[CV 1/5] END criterion=gini, max_depth=5, min_samples_leaf=2, min_samples_split=6, n_estimators=100, random_state=12; total time=   0.1s\n",
      "[CV 2/5] END criterion=gini, max_depth=5, min_samples_leaf=2, min_samples_split=6, n_estimators=100, random_state=12; total time=   0.1s\n",
      "[CV 3/5] END criterion=gini, max_depth=5, min_samples_leaf=2, min_samples_split=6, n_estimators=100, random_state=12; total time=   0.1s\n",
      "[CV 4/5] END criterion=gini, max_depth=5, min_samples_leaf=2, min_samples_split=6, n_estimators=100, random_state=12; total time=   0.2s\n",
      "[CV 5/5] END criterion=gini, max_depth=5, min_samples_leaf=2, min_samples_split=6, n_estimators=100, random_state=12; total time=   0.1s\n",
      "[CV 1/5] END criterion=gini, max_depth=5, min_samples_leaf=3, min_samples_split=4, n_estimators=15, random_state=12; total time=   0.0s\n",
      "[CV 2/5] END criterion=gini, max_depth=5, min_samples_leaf=3, min_samples_split=4, n_estimators=15, random_state=12; total time=   0.0s\n",
      "[CV 3/5] END criterion=gini, max_depth=5, min_samples_leaf=3, min_samples_split=4, n_estimators=15, random_state=12; total time=   0.0s\n",
      "[CV 4/5] END criterion=gini, max_depth=5, min_samples_leaf=3, min_samples_split=4, n_estimators=15, random_state=12; total time=   0.0s\n",
      "[CV 5/5] END criterion=gini, max_depth=5, min_samples_leaf=3, min_samples_split=4, n_estimators=15, random_state=12; total time=   0.0s\n",
      "[CV 1/5] END criterion=gini, max_depth=5, min_samples_leaf=3, min_samples_split=4, n_estimators=25, random_state=12; total time=   0.0s\n",
      "[CV 2/5] END criterion=gini, max_depth=5, min_samples_leaf=3, min_samples_split=4, n_estimators=25, random_state=12; total time=   0.0s\n",
      "[CV 3/5] END criterion=gini, max_depth=5, min_samples_leaf=3, min_samples_split=4, n_estimators=25, random_state=12; total time=   0.0s\n",
      "[CV 4/5] END criterion=gini, max_depth=5, min_samples_leaf=3, min_samples_split=4, n_estimators=25, random_state=12; total time=   0.0s\n",
      "[CV 5/5] END criterion=gini, max_depth=5, min_samples_leaf=3, min_samples_split=4, n_estimators=25, random_state=12; total time=   0.0s\n",
      "[CV 1/5] END criterion=gini, max_depth=5, min_samples_leaf=3, min_samples_split=4, n_estimators=50, random_state=12; total time=   0.0s\n",
      "[CV 2/5] END criterion=gini, max_depth=5, min_samples_leaf=3, min_samples_split=4, n_estimators=50, random_state=12; total time=   0.0s\n",
      "[CV 3/5] END criterion=gini, max_depth=5, min_samples_leaf=3, min_samples_split=4, n_estimators=50, random_state=12; total time=   0.0s\n"
     ]
    },
    {
     "name": "stdout",
     "output_type": "stream",
     "text": [
      "[CV 4/5] END criterion=gini, max_depth=5, min_samples_leaf=3, min_samples_split=4, n_estimators=50, random_state=12; total time=   0.0s\n",
      "[CV 5/5] END criterion=gini, max_depth=5, min_samples_leaf=3, min_samples_split=4, n_estimators=50, random_state=12; total time=   0.0s\n",
      "[CV 1/5] END criterion=gini, max_depth=5, min_samples_leaf=3, min_samples_split=4, n_estimators=100, random_state=12; total time=   0.2s\n",
      "[CV 2/5] END criterion=gini, max_depth=5, min_samples_leaf=3, min_samples_split=4, n_estimators=100, random_state=12; total time=   0.1s\n",
      "[CV 3/5] END criterion=gini, max_depth=5, min_samples_leaf=3, min_samples_split=4, n_estimators=100, random_state=12; total time=   0.1s\n",
      "[CV 4/5] END criterion=gini, max_depth=5, min_samples_leaf=3, min_samples_split=4, n_estimators=100, random_state=12; total time=   0.1s\n",
      "[CV 5/5] END criterion=gini, max_depth=5, min_samples_leaf=3, min_samples_split=4, n_estimators=100, random_state=12; total time=   0.1s\n",
      "[CV 1/5] END criterion=gini, max_depth=5, min_samples_leaf=3, min_samples_split=5, n_estimators=15, random_state=12; total time=   0.0s\n",
      "[CV 2/5] END criterion=gini, max_depth=5, min_samples_leaf=3, min_samples_split=5, n_estimators=15, random_state=12; total time=   0.0s\n",
      "[CV 3/5] END criterion=gini, max_depth=5, min_samples_leaf=3, min_samples_split=5, n_estimators=15, random_state=12; total time=   0.0s\n",
      "[CV 4/5] END criterion=gini, max_depth=5, min_samples_leaf=3, min_samples_split=5, n_estimators=15, random_state=12; total time=   0.0s\n",
      "[CV 5/5] END criterion=gini, max_depth=5, min_samples_leaf=3, min_samples_split=5, n_estimators=15, random_state=12; total time=   0.0s\n",
      "[CV 1/5] END criterion=gini, max_depth=5, min_samples_leaf=3, min_samples_split=5, n_estimators=25, random_state=12; total time=   0.0s\n",
      "[CV 2/5] END criterion=gini, max_depth=5, min_samples_leaf=3, min_samples_split=5, n_estimators=25, random_state=12; total time=   0.0s\n",
      "[CV 3/5] END criterion=gini, max_depth=5, min_samples_leaf=3, min_samples_split=5, n_estimators=25, random_state=12; total time=   0.0s\n",
      "[CV 4/5] END criterion=gini, max_depth=5, min_samples_leaf=3, min_samples_split=5, n_estimators=25, random_state=12; total time=   0.0s\n",
      "[CV 5/5] END criterion=gini, max_depth=5, min_samples_leaf=3, min_samples_split=5, n_estimators=25, random_state=12; total time=   0.0s\n",
      "[CV 1/5] END criterion=gini, max_depth=5, min_samples_leaf=3, min_samples_split=5, n_estimators=50, random_state=12; total time=   0.1s\n",
      "[CV 2/5] END criterion=gini, max_depth=5, min_samples_leaf=3, min_samples_split=5, n_estimators=50, random_state=12; total time=   0.0s\n",
      "[CV 3/5] END criterion=gini, max_depth=5, min_samples_leaf=3, min_samples_split=5, n_estimators=50, random_state=12; total time=   0.1s\n",
      "[CV 4/5] END criterion=gini, max_depth=5, min_samples_leaf=3, min_samples_split=5, n_estimators=50, random_state=12; total time=   0.0s\n",
      "[CV 5/5] END criterion=gini, max_depth=5, min_samples_leaf=3, min_samples_split=5, n_estimators=50, random_state=12; total time=   0.1s\n",
      "[CV 1/5] END criterion=gini, max_depth=5, min_samples_leaf=3, min_samples_split=5, n_estimators=100, random_state=12; total time=   0.1s\n",
      "[CV 2/5] END criterion=gini, max_depth=5, min_samples_leaf=3, min_samples_split=5, n_estimators=100, random_state=12; total time=   0.1s\n",
      "[CV 3/5] END criterion=gini, max_depth=5, min_samples_leaf=3, min_samples_split=5, n_estimators=100, random_state=12; total time=   0.1s\n",
      "[CV 4/5] END criterion=gini, max_depth=5, min_samples_leaf=3, min_samples_split=5, n_estimators=100, random_state=12; total time=   0.2s\n",
      "[CV 5/5] END criterion=gini, max_depth=5, min_samples_leaf=3, min_samples_split=5, n_estimators=100, random_state=12; total time=   0.1s\n",
      "[CV 1/5] END criterion=gini, max_depth=5, min_samples_leaf=3, min_samples_split=6, n_estimators=15, random_state=12; total time=   0.0s\n",
      "[CV 2/5] END criterion=gini, max_depth=5, min_samples_leaf=3, min_samples_split=6, n_estimators=15, random_state=12; total time=   0.0s\n",
      "[CV 3/5] END criterion=gini, max_depth=5, min_samples_leaf=3, min_samples_split=6, n_estimators=15, random_state=12; total time=   0.0s\n",
      "[CV 4/5] END criterion=gini, max_depth=5, min_samples_leaf=3, min_samples_split=6, n_estimators=15, random_state=12; total time=   0.0s\n",
      "[CV 5/5] END criterion=gini, max_depth=5, min_samples_leaf=3, min_samples_split=6, n_estimators=15, random_state=12; total time=   0.0s\n",
      "[CV 1/5] END criterion=gini, max_depth=5, min_samples_leaf=3, min_samples_split=6, n_estimators=25, random_state=12; total time=   0.0s\n",
      "[CV 2/5] END criterion=gini, max_depth=5, min_samples_leaf=3, min_samples_split=6, n_estimators=25, random_state=12; total time=   0.0s\n",
      "[CV 3/5] END criterion=gini, max_depth=5, min_samples_leaf=3, min_samples_split=6, n_estimators=25, random_state=12; total time=   0.0s\n",
      "[CV 4/5] END criterion=gini, max_depth=5, min_samples_leaf=3, min_samples_split=6, n_estimators=25, random_state=12; total time=   0.0s\n",
      "[CV 5/5] END criterion=gini, max_depth=5, min_samples_leaf=3, min_samples_split=6, n_estimators=25, random_state=12; total time=   0.0s\n",
      "[CV 1/5] END criterion=gini, max_depth=5, min_samples_leaf=3, min_samples_split=6, n_estimators=50, random_state=12; total time=   0.0s\n",
      "[CV 2/5] END criterion=gini, max_depth=5, min_samples_leaf=3, min_samples_split=6, n_estimators=50, random_state=12; total time=   0.0s\n",
      "[CV 3/5] END criterion=gini, max_depth=5, min_samples_leaf=3, min_samples_split=6, n_estimators=50, random_state=12; total time=   0.0s\n",
      "[CV 4/5] END criterion=gini, max_depth=5, min_samples_leaf=3, min_samples_split=6, n_estimators=50, random_state=12; total time=   0.0s\n",
      "[CV 5/5] END criterion=gini, max_depth=5, min_samples_leaf=3, min_samples_split=6, n_estimators=50, random_state=12; total time=   0.0s\n",
      "[CV 1/5] END criterion=gini, max_depth=5, min_samples_leaf=3, min_samples_split=6, n_estimators=100, random_state=12; total time=   0.2s\n",
      "[CV 2/5] END criterion=gini, max_depth=5, min_samples_leaf=3, min_samples_split=6, n_estimators=100, random_state=12; total time=   0.2s\n",
      "[CV 3/5] END criterion=gini, max_depth=5, min_samples_leaf=3, min_samples_split=6, n_estimators=100, random_state=12; total time=   0.2s\n",
      "[CV 4/5] END criterion=gini, max_depth=5, min_samples_leaf=3, min_samples_split=6, n_estimators=100, random_state=12; total time=   0.1s\n",
      "[CV 5/5] END criterion=gini, max_depth=5, min_samples_leaf=3, min_samples_split=6, n_estimators=100, random_state=12; total time=   0.2s\n",
      "[CV 1/5] END criterion=gini, max_depth=5, min_samples_leaf=4, min_samples_split=4, n_estimators=15, random_state=12; total time=   0.0s\n",
      "[CV 2/5] END criterion=gini, max_depth=5, min_samples_leaf=4, min_samples_split=4, n_estimators=15, random_state=12; total time=   0.0s\n",
      "[CV 3/5] END criterion=gini, max_depth=5, min_samples_leaf=4, min_samples_split=4, n_estimators=15, random_state=12; total time=   0.0s\n",
      "[CV 4/5] END criterion=gini, max_depth=5, min_samples_leaf=4, min_samples_split=4, n_estimators=15, random_state=12; total time=   0.0s\n",
      "[CV 5/5] END criterion=gini, max_depth=5, min_samples_leaf=4, min_samples_split=4, n_estimators=15, random_state=12; total time=   0.0s\n",
      "[CV 1/5] END criterion=gini, max_depth=5, min_samples_leaf=4, min_samples_split=4, n_estimators=25, random_state=12; total time=   0.0s\n",
      "[CV 2/5] END criterion=gini, max_depth=5, min_samples_leaf=4, min_samples_split=4, n_estimators=25, random_state=12; total time=   0.0s\n",
      "[CV 3/5] END criterion=gini, max_depth=5, min_samples_leaf=4, min_samples_split=4, n_estimators=25, random_state=12; total time=   0.0s\n",
      "[CV 4/5] END criterion=gini, max_depth=5, min_samples_leaf=4, min_samples_split=4, n_estimators=25, random_state=12; total time=   0.0s\n",
      "[CV 5/5] END criterion=gini, max_depth=5, min_samples_leaf=4, min_samples_split=4, n_estimators=25, random_state=12; total time=   0.0s\n",
      "[CV 1/5] END criterion=gini, max_depth=5, min_samples_leaf=4, min_samples_split=4, n_estimators=50, random_state=12; total time=   0.0s\n",
      "[CV 2/5] END criterion=gini, max_depth=5, min_samples_leaf=4, min_samples_split=4, n_estimators=50, random_state=12; total time=   0.0s\n",
      "[CV 3/5] END criterion=gini, max_depth=5, min_samples_leaf=4, min_samples_split=4, n_estimators=50, random_state=12; total time=   0.0s\n",
      "[CV 4/5] END criterion=gini, max_depth=5, min_samples_leaf=4, min_samples_split=4, n_estimators=50, random_state=12; total time=   0.0s\n",
      "[CV 5/5] END criterion=gini, max_depth=5, min_samples_leaf=4, min_samples_split=4, n_estimators=50, random_state=12; total time=   0.0s\n"
     ]
    },
    {
     "name": "stdout",
     "output_type": "stream",
     "text": [
      "[CV 1/5] END criterion=gini, max_depth=5, min_samples_leaf=4, min_samples_split=4, n_estimators=100, random_state=12; total time=   0.1s\n",
      "[CV 2/5] END criterion=gini, max_depth=5, min_samples_leaf=4, min_samples_split=4, n_estimators=100, random_state=12; total time=   0.1s\n",
      "[CV 3/5] END criterion=gini, max_depth=5, min_samples_leaf=4, min_samples_split=4, n_estimators=100, random_state=12; total time=   0.1s\n",
      "[CV 4/5] END criterion=gini, max_depth=5, min_samples_leaf=4, min_samples_split=4, n_estimators=100, random_state=12; total time=   0.2s\n",
      "[CV 5/5] END criterion=gini, max_depth=5, min_samples_leaf=4, min_samples_split=4, n_estimators=100, random_state=12; total time=   0.1s\n",
      "[CV 1/5] END criterion=gini, max_depth=5, min_samples_leaf=4, min_samples_split=5, n_estimators=15, random_state=12; total time=   0.0s\n",
      "[CV 2/5] END criterion=gini, max_depth=5, min_samples_leaf=4, min_samples_split=5, n_estimators=15, random_state=12; total time=   0.0s\n",
      "[CV 3/5] END criterion=gini, max_depth=5, min_samples_leaf=4, min_samples_split=5, n_estimators=15, random_state=12; total time=   0.0s\n",
      "[CV 4/5] END criterion=gini, max_depth=5, min_samples_leaf=4, min_samples_split=5, n_estimators=15, random_state=12; total time=   0.0s\n",
      "[CV 5/5] END criterion=gini, max_depth=5, min_samples_leaf=4, min_samples_split=5, n_estimators=15, random_state=12; total time=   0.0s\n",
      "[CV 1/5] END criterion=gini, max_depth=5, min_samples_leaf=4, min_samples_split=5, n_estimators=25, random_state=12; total time=   0.0s\n",
      "[CV 2/5] END criterion=gini, max_depth=5, min_samples_leaf=4, min_samples_split=5, n_estimators=25, random_state=12; total time=   0.0s\n",
      "[CV 3/5] END criterion=gini, max_depth=5, min_samples_leaf=4, min_samples_split=5, n_estimators=25, random_state=12; total time=   0.0s\n",
      "[CV 4/5] END criterion=gini, max_depth=5, min_samples_leaf=4, min_samples_split=5, n_estimators=25, random_state=12; total time=   0.0s\n",
      "[CV 5/5] END criterion=gini, max_depth=5, min_samples_leaf=4, min_samples_split=5, n_estimators=25, random_state=12; total time=   0.0s\n",
      "[CV 1/5] END criterion=gini, max_depth=5, min_samples_leaf=4, min_samples_split=5, n_estimators=50, random_state=12; total time=   0.0s\n",
      "[CV 2/5] END criterion=gini, max_depth=5, min_samples_leaf=4, min_samples_split=5, n_estimators=50, random_state=12; total time=   0.0s\n",
      "[CV 3/5] END criterion=gini, max_depth=5, min_samples_leaf=4, min_samples_split=5, n_estimators=50, random_state=12; total time=   0.0s\n",
      "[CV 4/5] END criterion=gini, max_depth=5, min_samples_leaf=4, min_samples_split=5, n_estimators=50, random_state=12; total time=   0.0s\n",
      "[CV 5/5] END criterion=gini, max_depth=5, min_samples_leaf=4, min_samples_split=5, n_estimators=50, random_state=12; total time=   0.0s\n",
      "[CV 1/5] END criterion=gini, max_depth=5, min_samples_leaf=4, min_samples_split=5, n_estimators=100, random_state=12; total time=   0.2s\n",
      "[CV 2/5] END criterion=gini, max_depth=5, min_samples_leaf=4, min_samples_split=5, n_estimators=100, random_state=12; total time=   0.1s\n",
      "[CV 3/5] END criterion=gini, max_depth=5, min_samples_leaf=4, min_samples_split=5, n_estimators=100, random_state=12; total time=   0.1s\n",
      "[CV 4/5] END criterion=gini, max_depth=5, min_samples_leaf=4, min_samples_split=5, n_estimators=100, random_state=12; total time=   0.2s\n",
      "[CV 5/5] END criterion=gini, max_depth=5, min_samples_leaf=4, min_samples_split=5, n_estimators=100, random_state=12; total time=   0.1s\n",
      "[CV 1/5] END criterion=gini, max_depth=5, min_samples_leaf=4, min_samples_split=6, n_estimators=15, random_state=12; total time=   0.0s\n",
      "[CV 2/5] END criterion=gini, max_depth=5, min_samples_leaf=4, min_samples_split=6, n_estimators=15, random_state=12; total time=   0.0s\n",
      "[CV 3/5] END criterion=gini, max_depth=5, min_samples_leaf=4, min_samples_split=6, n_estimators=15, random_state=12; total time=   0.0s\n",
      "[CV 4/5] END criterion=gini, max_depth=5, min_samples_leaf=4, min_samples_split=6, n_estimators=15, random_state=12; total time=   0.0s\n",
      "[CV 5/5] END criterion=gini, max_depth=5, min_samples_leaf=4, min_samples_split=6, n_estimators=15, random_state=12; total time=   0.0s\n",
      "[CV 1/5] END criterion=gini, max_depth=5, min_samples_leaf=4, min_samples_split=6, n_estimators=25, random_state=12; total time=   0.0s\n",
      "[CV 2/5] END criterion=gini, max_depth=5, min_samples_leaf=4, min_samples_split=6, n_estimators=25, random_state=12; total time=   0.0s\n",
      "[CV 3/5] END criterion=gini, max_depth=5, min_samples_leaf=4, min_samples_split=6, n_estimators=25, random_state=12; total time=   0.0s\n",
      "[CV 4/5] END criterion=gini, max_depth=5, min_samples_leaf=4, min_samples_split=6, n_estimators=25, random_state=12; total time=   0.0s\n",
      "[CV 5/5] END criterion=gini, max_depth=5, min_samples_leaf=4, min_samples_split=6, n_estimators=25, random_state=12; total time=   0.0s\n",
      "[CV 1/5] END criterion=gini, max_depth=5, min_samples_leaf=4, min_samples_split=6, n_estimators=50, random_state=12; total time=   0.0s\n",
      "[CV 2/5] END criterion=gini, max_depth=5, min_samples_leaf=4, min_samples_split=6, n_estimators=50, random_state=12; total time=   0.0s\n",
      "[CV 3/5] END criterion=gini, max_depth=5, min_samples_leaf=4, min_samples_split=6, n_estimators=50, random_state=12; total time=   0.0s\n",
      "[CV 4/5] END criterion=gini, max_depth=5, min_samples_leaf=4, min_samples_split=6, n_estimators=50, random_state=12; total time=   0.0s\n",
      "[CV 5/5] END criterion=gini, max_depth=5, min_samples_leaf=4, min_samples_split=6, n_estimators=50, random_state=12; total time=   0.0s\n",
      "[CV 1/5] END criterion=gini, max_depth=5, min_samples_leaf=4, min_samples_split=6, n_estimators=100, random_state=12; total time=   0.2s\n",
      "[CV 2/5] END criterion=gini, max_depth=5, min_samples_leaf=4, min_samples_split=6, n_estimators=100, random_state=12; total time=   0.2s\n",
      "[CV 3/5] END criterion=gini, max_depth=5, min_samples_leaf=4, min_samples_split=6, n_estimators=100, random_state=12; total time=   0.2s\n",
      "[CV 4/5] END criterion=gini, max_depth=5, min_samples_leaf=4, min_samples_split=6, n_estimators=100, random_state=12; total time=   0.2s\n",
      "[CV 5/5] END criterion=gini, max_depth=5, min_samples_leaf=4, min_samples_split=6, n_estimators=100, random_state=12; total time=   0.2s\n",
      "[CV 1/5] END criterion=gini, max_depth=6, min_samples_leaf=1, min_samples_split=4, n_estimators=15, random_state=12; total time=   0.0s\n",
      "[CV 2/5] END criterion=gini, max_depth=6, min_samples_leaf=1, min_samples_split=4, n_estimators=15, random_state=12; total time=   0.0s\n",
      "[CV 3/5] END criterion=gini, max_depth=6, min_samples_leaf=1, min_samples_split=4, n_estimators=15, random_state=12; total time=   0.0s\n",
      "[CV 4/5] END criterion=gini, max_depth=6, min_samples_leaf=1, min_samples_split=4, n_estimators=15, random_state=12; total time=   0.0s\n",
      "[CV 5/5] END criterion=gini, max_depth=6, min_samples_leaf=1, min_samples_split=4, n_estimators=15, random_state=12; total time=   0.0s\n",
      "[CV 1/5] END criterion=gini, max_depth=6, min_samples_leaf=1, min_samples_split=4, n_estimators=25, random_state=12; total time=   0.0s\n",
      "[CV 2/5] END criterion=gini, max_depth=6, min_samples_leaf=1, min_samples_split=4, n_estimators=25, random_state=12; total time=   0.0s\n",
      "[CV 3/5] END criterion=gini, max_depth=6, min_samples_leaf=1, min_samples_split=4, n_estimators=25, random_state=12; total time=   0.0s\n",
      "[CV 4/5] END criterion=gini, max_depth=6, min_samples_leaf=1, min_samples_split=4, n_estimators=25, random_state=12; total time=   0.0s\n",
      "[CV 5/5] END criterion=gini, max_depth=6, min_samples_leaf=1, min_samples_split=4, n_estimators=25, random_state=12; total time=   0.0s\n",
      "[CV 1/5] END criterion=gini, max_depth=6, min_samples_leaf=1, min_samples_split=4, n_estimators=50, random_state=12; total time=   0.0s\n",
      "[CV 2/5] END criterion=gini, max_depth=6, min_samples_leaf=1, min_samples_split=4, n_estimators=50, random_state=12; total time=   0.1s\n",
      "[CV 3/5] END criterion=gini, max_depth=6, min_samples_leaf=1, min_samples_split=4, n_estimators=50, random_state=12; total time=   0.0s\n",
      "[CV 4/5] END criterion=gini, max_depth=6, min_samples_leaf=1, min_samples_split=4, n_estimators=50, random_state=12; total time=   0.0s\n",
      "[CV 5/5] END criterion=gini, max_depth=6, min_samples_leaf=1, min_samples_split=4, n_estimators=50, random_state=12; total time=   0.1s\n",
      "[CV 1/5] END criterion=gini, max_depth=6, min_samples_leaf=1, min_samples_split=4, n_estimators=100, random_state=12; total time=   0.2s\n"
     ]
    },
    {
     "name": "stdout",
     "output_type": "stream",
     "text": [
      "[CV 2/5] END criterion=gini, max_depth=6, min_samples_leaf=1, min_samples_split=4, n_estimators=100, random_state=12; total time=   0.1s\n",
      "[CV 3/5] END criterion=gini, max_depth=6, min_samples_leaf=1, min_samples_split=4, n_estimators=100, random_state=12; total time=   0.2s\n",
      "[CV 4/5] END criterion=gini, max_depth=6, min_samples_leaf=1, min_samples_split=4, n_estimators=100, random_state=12; total time=   0.2s\n",
      "[CV 5/5] END criterion=gini, max_depth=6, min_samples_leaf=1, min_samples_split=4, n_estimators=100, random_state=12; total time=   0.1s\n",
      "[CV 1/5] END criterion=gini, max_depth=6, min_samples_leaf=1, min_samples_split=5, n_estimators=15, random_state=12; total time=   0.0s\n",
      "[CV 2/5] END criterion=gini, max_depth=6, min_samples_leaf=1, min_samples_split=5, n_estimators=15, random_state=12; total time=   0.0s\n",
      "[CV 3/5] END criterion=gini, max_depth=6, min_samples_leaf=1, min_samples_split=5, n_estimators=15, random_state=12; total time=   0.0s\n",
      "[CV 4/5] END criterion=gini, max_depth=6, min_samples_leaf=1, min_samples_split=5, n_estimators=15, random_state=12; total time=   0.0s\n",
      "[CV 5/5] END criterion=gini, max_depth=6, min_samples_leaf=1, min_samples_split=5, n_estimators=15, random_state=12; total time=   0.0s\n",
      "[CV 1/5] END criterion=gini, max_depth=6, min_samples_leaf=1, min_samples_split=5, n_estimators=25, random_state=12; total time=   0.0s\n",
      "[CV 2/5] END criterion=gini, max_depth=6, min_samples_leaf=1, min_samples_split=5, n_estimators=25, random_state=12; total time=   0.0s\n",
      "[CV 3/5] END criterion=gini, max_depth=6, min_samples_leaf=1, min_samples_split=5, n_estimators=25, random_state=12; total time=   0.0s\n",
      "[CV 4/5] END criterion=gini, max_depth=6, min_samples_leaf=1, min_samples_split=5, n_estimators=25, random_state=12; total time=   0.0s\n",
      "[CV 5/5] END criterion=gini, max_depth=6, min_samples_leaf=1, min_samples_split=5, n_estimators=25, random_state=12; total time=   0.0s\n",
      "[CV 1/5] END criterion=gini, max_depth=6, min_samples_leaf=1, min_samples_split=5, n_estimators=50, random_state=12; total time=   0.0s\n",
      "[CV 2/5] END criterion=gini, max_depth=6, min_samples_leaf=1, min_samples_split=5, n_estimators=50, random_state=12; total time=   0.0s\n",
      "[CV 3/5] END criterion=gini, max_depth=6, min_samples_leaf=1, min_samples_split=5, n_estimators=50, random_state=12; total time=   0.0s\n",
      "[CV 4/5] END criterion=gini, max_depth=6, min_samples_leaf=1, min_samples_split=5, n_estimators=50, random_state=12; total time=   0.0s\n",
      "[CV 5/5] END criterion=gini, max_depth=6, min_samples_leaf=1, min_samples_split=5, n_estimators=50, random_state=12; total time=   0.0s\n",
      "[CV 1/5] END criterion=gini, max_depth=6, min_samples_leaf=1, min_samples_split=5, n_estimators=100, random_state=12; total time=   0.1s\n",
      "[CV 2/5] END criterion=gini, max_depth=6, min_samples_leaf=1, min_samples_split=5, n_estimators=100, random_state=12; total time=   0.1s\n",
      "[CV 3/5] END criterion=gini, max_depth=6, min_samples_leaf=1, min_samples_split=5, n_estimators=100, random_state=12; total time=   0.2s\n",
      "[CV 4/5] END criterion=gini, max_depth=6, min_samples_leaf=1, min_samples_split=5, n_estimators=100, random_state=12; total time=   0.2s\n",
      "[CV 5/5] END criterion=gini, max_depth=6, min_samples_leaf=1, min_samples_split=5, n_estimators=100, random_state=12; total time=   0.2s\n",
      "[CV 1/5] END criterion=gini, max_depth=6, min_samples_leaf=1, min_samples_split=6, n_estimators=15, random_state=12; total time=   0.0s\n",
      "[CV 2/5] END criterion=gini, max_depth=6, min_samples_leaf=1, min_samples_split=6, n_estimators=15, random_state=12; total time=   0.0s\n",
      "[CV 3/5] END criterion=gini, max_depth=6, min_samples_leaf=1, min_samples_split=6, n_estimators=15, random_state=12; total time=   0.0s\n",
      "[CV 4/5] END criterion=gini, max_depth=6, min_samples_leaf=1, min_samples_split=6, n_estimators=15, random_state=12; total time=   0.0s\n",
      "[CV 5/5] END criterion=gini, max_depth=6, min_samples_leaf=1, min_samples_split=6, n_estimators=15, random_state=12; total time=   0.0s\n",
      "[CV 1/5] END criterion=gini, max_depth=6, min_samples_leaf=1, min_samples_split=6, n_estimators=25, random_state=12; total time=   0.0s\n",
      "[CV 2/5] END criterion=gini, max_depth=6, min_samples_leaf=1, min_samples_split=6, n_estimators=25, random_state=12; total time=   0.0s\n",
      "[CV 3/5] END criterion=gini, max_depth=6, min_samples_leaf=1, min_samples_split=6, n_estimators=25, random_state=12; total time=   0.0s\n",
      "[CV 4/5] END criterion=gini, max_depth=6, min_samples_leaf=1, min_samples_split=6, n_estimators=25, random_state=12; total time=   0.0s\n",
      "[CV 5/5] END criterion=gini, max_depth=6, min_samples_leaf=1, min_samples_split=6, n_estimators=25, random_state=12; total time=   0.0s\n",
      "[CV 1/5] END criterion=gini, max_depth=6, min_samples_leaf=1, min_samples_split=6, n_estimators=50, random_state=12; total time=   0.0s\n",
      "[CV 2/5] END criterion=gini, max_depth=6, min_samples_leaf=1, min_samples_split=6, n_estimators=50, random_state=12; total time=   0.0s\n",
      "[CV 3/5] END criterion=gini, max_depth=6, min_samples_leaf=1, min_samples_split=6, n_estimators=50, random_state=12; total time=   0.0s\n",
      "[CV 4/5] END criterion=gini, max_depth=6, min_samples_leaf=1, min_samples_split=6, n_estimators=50, random_state=12; total time=   0.0s\n",
      "[CV 5/5] END criterion=gini, max_depth=6, min_samples_leaf=1, min_samples_split=6, n_estimators=50, random_state=12; total time=   0.0s\n",
      "[CV 1/5] END criterion=gini, max_depth=6, min_samples_leaf=1, min_samples_split=6, n_estimators=100, random_state=12; total time=   0.1s\n",
      "[CV 2/5] END criterion=gini, max_depth=6, min_samples_leaf=1, min_samples_split=6, n_estimators=100, random_state=12; total time=   0.1s\n",
      "[CV 3/5] END criterion=gini, max_depth=6, min_samples_leaf=1, min_samples_split=6, n_estimators=100, random_state=12; total time=   0.1s\n",
      "[CV 4/5] END criterion=gini, max_depth=6, min_samples_leaf=1, min_samples_split=6, n_estimators=100, random_state=12; total time=   0.1s\n",
      "[CV 5/5] END criterion=gini, max_depth=6, min_samples_leaf=1, min_samples_split=6, n_estimators=100, random_state=12; total time=   0.1s\n",
      "[CV 1/5] END criterion=gini, max_depth=6, min_samples_leaf=2, min_samples_split=4, n_estimators=15, random_state=12; total time=   0.0s\n",
      "[CV 2/5] END criterion=gini, max_depth=6, min_samples_leaf=2, min_samples_split=4, n_estimators=15, random_state=12; total time=   0.0s\n",
      "[CV 3/5] END criterion=gini, max_depth=6, min_samples_leaf=2, min_samples_split=4, n_estimators=15, random_state=12; total time=   0.0s\n",
      "[CV 4/5] END criterion=gini, max_depth=6, min_samples_leaf=2, min_samples_split=4, n_estimators=15, random_state=12; total time=   0.0s\n",
      "[CV 5/5] END criterion=gini, max_depth=6, min_samples_leaf=2, min_samples_split=4, n_estimators=15, random_state=12; total time=   0.0s\n",
      "[CV 1/5] END criterion=gini, max_depth=6, min_samples_leaf=2, min_samples_split=4, n_estimators=25, random_state=12; total time=   0.0s\n",
      "[CV 2/5] END criterion=gini, max_depth=6, min_samples_leaf=2, min_samples_split=4, n_estimators=25, random_state=12; total time=   0.0s\n",
      "[CV 3/5] END criterion=gini, max_depth=6, min_samples_leaf=2, min_samples_split=4, n_estimators=25, random_state=12; total time=   0.0s\n",
      "[CV 4/5] END criterion=gini, max_depth=6, min_samples_leaf=2, min_samples_split=4, n_estimators=25, random_state=12; total time=   0.0s\n",
      "[CV 5/5] END criterion=gini, max_depth=6, min_samples_leaf=2, min_samples_split=4, n_estimators=25, random_state=12; total time=   0.0s\n",
      "[CV 1/5] END criterion=gini, max_depth=6, min_samples_leaf=2, min_samples_split=4, n_estimators=50, random_state=12; total time=   0.0s\n",
      "[CV 2/5] END criterion=gini, max_depth=6, min_samples_leaf=2, min_samples_split=4, n_estimators=50, random_state=12; total time=   0.0s\n",
      "[CV 3/5] END criterion=gini, max_depth=6, min_samples_leaf=2, min_samples_split=4, n_estimators=50, random_state=12; total time=   0.0s\n",
      "[CV 4/5] END criterion=gini, max_depth=6, min_samples_leaf=2, min_samples_split=4, n_estimators=50, random_state=12; total time=   0.0s\n",
      "[CV 5/5] END criterion=gini, max_depth=6, min_samples_leaf=2, min_samples_split=4, n_estimators=50, random_state=12; total time=   0.0s\n",
      "[CV 1/5] END criterion=gini, max_depth=6, min_samples_leaf=2, min_samples_split=4, n_estimators=100, random_state=12; total time=   0.2s\n",
      "[CV 2/5] END criterion=gini, max_depth=6, min_samples_leaf=2, min_samples_split=4, n_estimators=100, random_state=12; total time=   0.2s\n"
     ]
    },
    {
     "name": "stdout",
     "output_type": "stream",
     "text": [
      "[CV 3/5] END criterion=gini, max_depth=6, min_samples_leaf=2, min_samples_split=4, n_estimators=100, random_state=12; total time=   0.1s\n",
      "[CV 4/5] END criterion=gini, max_depth=6, min_samples_leaf=2, min_samples_split=4, n_estimators=100, random_state=12; total time=   0.1s\n",
      "[CV 5/5] END criterion=gini, max_depth=6, min_samples_leaf=2, min_samples_split=4, n_estimators=100, random_state=12; total time=   0.2s\n",
      "[CV 1/5] END criterion=gini, max_depth=6, min_samples_leaf=2, min_samples_split=5, n_estimators=15, random_state=12; total time=   0.0s\n",
      "[CV 2/5] END criterion=gini, max_depth=6, min_samples_leaf=2, min_samples_split=5, n_estimators=15, random_state=12; total time=   0.0s\n",
      "[CV 3/5] END criterion=gini, max_depth=6, min_samples_leaf=2, min_samples_split=5, n_estimators=15, random_state=12; total time=   0.0s\n",
      "[CV 4/5] END criterion=gini, max_depth=6, min_samples_leaf=2, min_samples_split=5, n_estimators=15, random_state=12; total time=   0.0s\n",
      "[CV 5/5] END criterion=gini, max_depth=6, min_samples_leaf=2, min_samples_split=5, n_estimators=15, random_state=12; total time=   0.0s\n",
      "[CV 1/5] END criterion=gini, max_depth=6, min_samples_leaf=2, min_samples_split=5, n_estimators=25, random_state=12; total time=   0.0s\n",
      "[CV 2/5] END criterion=gini, max_depth=6, min_samples_leaf=2, min_samples_split=5, n_estimators=25, random_state=12; total time=   0.0s\n",
      "[CV 3/5] END criterion=gini, max_depth=6, min_samples_leaf=2, min_samples_split=5, n_estimators=25, random_state=12; total time=   0.0s\n",
      "[CV 4/5] END criterion=gini, max_depth=6, min_samples_leaf=2, min_samples_split=5, n_estimators=25, random_state=12; total time=   0.0s\n",
      "[CV 5/5] END criterion=gini, max_depth=6, min_samples_leaf=2, min_samples_split=5, n_estimators=25, random_state=12; total time=   0.0s\n",
      "[CV 1/5] END criterion=gini, max_depth=6, min_samples_leaf=2, min_samples_split=5, n_estimators=50, random_state=12; total time=   0.1s\n",
      "[CV 2/5] END criterion=gini, max_depth=6, min_samples_leaf=2, min_samples_split=5, n_estimators=50, random_state=12; total time=   0.0s\n",
      "[CV 3/5] END criterion=gini, max_depth=6, min_samples_leaf=2, min_samples_split=5, n_estimators=50, random_state=12; total time=   0.1s\n",
      "[CV 4/5] END criterion=gini, max_depth=6, min_samples_leaf=2, min_samples_split=5, n_estimators=50, random_state=12; total time=   0.0s\n",
      "[CV 5/5] END criterion=gini, max_depth=6, min_samples_leaf=2, min_samples_split=5, n_estimators=50, random_state=12; total time=   0.0s\n",
      "[CV 1/5] END criterion=gini, max_depth=6, min_samples_leaf=2, min_samples_split=5, n_estimators=100, random_state=12; total time=   0.2s\n",
      "[CV 2/5] END criterion=gini, max_depth=6, min_samples_leaf=2, min_samples_split=5, n_estimators=100, random_state=12; total time=   0.1s\n",
      "[CV 3/5] END criterion=gini, max_depth=6, min_samples_leaf=2, min_samples_split=5, n_estimators=100, random_state=12; total time=   0.2s\n",
      "[CV 4/5] END criterion=gini, max_depth=6, min_samples_leaf=2, min_samples_split=5, n_estimators=100, random_state=12; total time=   0.1s\n",
      "[CV 5/5] END criterion=gini, max_depth=6, min_samples_leaf=2, min_samples_split=5, n_estimators=100, random_state=12; total time=   0.1s\n",
      "[CV 1/5] END criterion=gini, max_depth=6, min_samples_leaf=2, min_samples_split=6, n_estimators=15, random_state=12; total time=   0.0s\n",
      "[CV 2/5] END criterion=gini, max_depth=6, min_samples_leaf=2, min_samples_split=6, n_estimators=15, random_state=12; total time=   0.0s\n",
      "[CV 3/5] END criterion=gini, max_depth=6, min_samples_leaf=2, min_samples_split=6, n_estimators=15, random_state=12; total time=   0.0s\n",
      "[CV 4/5] END criterion=gini, max_depth=6, min_samples_leaf=2, min_samples_split=6, n_estimators=15, random_state=12; total time=   0.0s\n",
      "[CV 5/5] END criterion=gini, max_depth=6, min_samples_leaf=2, min_samples_split=6, n_estimators=15, random_state=12; total time=   0.0s\n",
      "[CV 1/5] END criterion=gini, max_depth=6, min_samples_leaf=2, min_samples_split=6, n_estimators=25, random_state=12; total time=   0.0s\n",
      "[CV 2/5] END criterion=gini, max_depth=6, min_samples_leaf=2, min_samples_split=6, n_estimators=25, random_state=12; total time=   0.0s\n",
      "[CV 3/5] END criterion=gini, max_depth=6, min_samples_leaf=2, min_samples_split=6, n_estimators=25, random_state=12; total time=   0.0s\n",
      "[CV 4/5] END criterion=gini, max_depth=6, min_samples_leaf=2, min_samples_split=6, n_estimators=25, random_state=12; total time=   0.0s\n",
      "[CV 5/5] END criterion=gini, max_depth=6, min_samples_leaf=2, min_samples_split=6, n_estimators=25, random_state=12; total time=   0.0s\n",
      "[CV 1/5] END criterion=gini, max_depth=6, min_samples_leaf=2, min_samples_split=6, n_estimators=50, random_state=12; total time=   0.0s\n",
      "[CV 2/5] END criterion=gini, max_depth=6, min_samples_leaf=2, min_samples_split=6, n_estimators=50, random_state=12; total time=   0.0s\n",
      "[CV 3/5] END criterion=gini, max_depth=6, min_samples_leaf=2, min_samples_split=6, n_estimators=50, random_state=12; total time=   0.0s\n",
      "[CV 4/5] END criterion=gini, max_depth=6, min_samples_leaf=2, min_samples_split=6, n_estimators=50, random_state=12; total time=   0.0s\n",
      "[CV 5/5] END criterion=gini, max_depth=6, min_samples_leaf=2, min_samples_split=6, n_estimators=50, random_state=12; total time=   0.0s\n",
      "[CV 1/5] END criterion=gini, max_depth=6, min_samples_leaf=2, min_samples_split=6, n_estimators=100, random_state=12; total time=   0.2s\n",
      "[CV 2/5] END criterion=gini, max_depth=6, min_samples_leaf=2, min_samples_split=6, n_estimators=100, random_state=12; total time=   0.1s\n",
      "[CV 3/5] END criterion=gini, max_depth=6, min_samples_leaf=2, min_samples_split=6, n_estimators=100, random_state=12; total time=   0.1s\n",
      "[CV 4/5] END criterion=gini, max_depth=6, min_samples_leaf=2, min_samples_split=6, n_estimators=100, random_state=12; total time=   0.1s\n",
      "[CV 5/5] END criterion=gini, max_depth=6, min_samples_leaf=2, min_samples_split=6, n_estimators=100, random_state=12; total time=   0.1s\n",
      "[CV 1/5] END criterion=gini, max_depth=6, min_samples_leaf=3, min_samples_split=4, n_estimators=15, random_state=12; total time=   0.0s\n",
      "[CV 2/5] END criterion=gini, max_depth=6, min_samples_leaf=3, min_samples_split=4, n_estimators=15, random_state=12; total time=   0.0s\n",
      "[CV 3/5] END criterion=gini, max_depth=6, min_samples_leaf=3, min_samples_split=4, n_estimators=15, random_state=12; total time=   0.0s\n",
      "[CV 4/5] END criterion=gini, max_depth=6, min_samples_leaf=3, min_samples_split=4, n_estimators=15, random_state=12; total time=   0.0s\n",
      "[CV 5/5] END criterion=gini, max_depth=6, min_samples_leaf=3, min_samples_split=4, n_estimators=15, random_state=12; total time=   0.0s\n",
      "[CV 1/5] END criterion=gini, max_depth=6, min_samples_leaf=3, min_samples_split=4, n_estimators=25, random_state=12; total time=   0.0s\n",
      "[CV 2/5] END criterion=gini, max_depth=6, min_samples_leaf=3, min_samples_split=4, n_estimators=25, random_state=12; total time=   0.0s\n",
      "[CV 3/5] END criterion=gini, max_depth=6, min_samples_leaf=3, min_samples_split=4, n_estimators=25, random_state=12; total time=   0.0s\n",
      "[CV 4/5] END criterion=gini, max_depth=6, min_samples_leaf=3, min_samples_split=4, n_estimators=25, random_state=12; total time=   0.0s\n",
      "[CV 5/5] END criterion=gini, max_depth=6, min_samples_leaf=3, min_samples_split=4, n_estimators=25, random_state=12; total time=   0.0s\n",
      "[CV 1/5] END criterion=gini, max_depth=6, min_samples_leaf=3, min_samples_split=4, n_estimators=50, random_state=12; total time=   0.0s\n",
      "[CV 2/5] END criterion=gini, max_depth=6, min_samples_leaf=3, min_samples_split=4, n_estimators=50, random_state=12; total time=   0.0s\n",
      "[CV 3/5] END criterion=gini, max_depth=6, min_samples_leaf=3, min_samples_split=4, n_estimators=50, random_state=12; total time=   0.0s\n",
      "[CV 4/5] END criterion=gini, max_depth=6, min_samples_leaf=3, min_samples_split=4, n_estimators=50, random_state=12; total time=   0.0s\n",
      "[CV 5/5] END criterion=gini, max_depth=6, min_samples_leaf=3, min_samples_split=4, n_estimators=50, random_state=12; total time=   0.0s\n",
      "[CV 1/5] END criterion=gini, max_depth=6, min_samples_leaf=3, min_samples_split=4, n_estimators=100, random_state=12; total time=   0.2s\n",
      "[CV 2/5] END criterion=gini, max_depth=6, min_samples_leaf=3, min_samples_split=4, n_estimators=100, random_state=12; total time=   0.1s\n",
      "[CV 3/5] END criterion=gini, max_depth=6, min_samples_leaf=3, min_samples_split=4, n_estimators=100, random_state=12; total time=   0.2s\n"
     ]
    },
    {
     "name": "stdout",
     "output_type": "stream",
     "text": [
      "[CV 4/5] END criterion=gini, max_depth=6, min_samples_leaf=3, min_samples_split=4, n_estimators=100, random_state=12; total time=   0.2s\n",
      "[CV 5/5] END criterion=gini, max_depth=6, min_samples_leaf=3, min_samples_split=4, n_estimators=100, random_state=12; total time=   0.1s\n",
      "[CV 1/5] END criterion=gini, max_depth=6, min_samples_leaf=3, min_samples_split=5, n_estimators=15, random_state=12; total time=   0.0s\n",
      "[CV 2/5] END criterion=gini, max_depth=6, min_samples_leaf=3, min_samples_split=5, n_estimators=15, random_state=12; total time=   0.0s\n",
      "[CV 3/5] END criterion=gini, max_depth=6, min_samples_leaf=3, min_samples_split=5, n_estimators=15, random_state=12; total time=   0.0s\n",
      "[CV 4/5] END criterion=gini, max_depth=6, min_samples_leaf=3, min_samples_split=5, n_estimators=15, random_state=12; total time=   0.0s\n",
      "[CV 5/5] END criterion=gini, max_depth=6, min_samples_leaf=3, min_samples_split=5, n_estimators=15, random_state=12; total time=   0.0s\n",
      "[CV 1/5] END criterion=gini, max_depth=6, min_samples_leaf=3, min_samples_split=5, n_estimators=25, random_state=12; total time=   0.0s\n",
      "[CV 2/5] END criterion=gini, max_depth=6, min_samples_leaf=3, min_samples_split=5, n_estimators=25, random_state=12; total time=   0.0s\n",
      "[CV 3/5] END criterion=gini, max_depth=6, min_samples_leaf=3, min_samples_split=5, n_estimators=25, random_state=12; total time=   0.0s\n",
      "[CV 4/5] END criterion=gini, max_depth=6, min_samples_leaf=3, min_samples_split=5, n_estimators=25, random_state=12; total time=   0.0s\n",
      "[CV 5/5] END criterion=gini, max_depth=6, min_samples_leaf=3, min_samples_split=5, n_estimators=25, random_state=12; total time=   0.0s\n",
      "[CV 1/5] END criterion=gini, max_depth=6, min_samples_leaf=3, min_samples_split=5, n_estimators=50, random_state=12; total time=   0.0s\n",
      "[CV 2/5] END criterion=gini, max_depth=6, min_samples_leaf=3, min_samples_split=5, n_estimators=50, random_state=12; total time=   0.0s\n",
      "[CV 3/5] END criterion=gini, max_depth=6, min_samples_leaf=3, min_samples_split=5, n_estimators=50, random_state=12; total time=   0.0s\n",
      "[CV 4/5] END criterion=gini, max_depth=6, min_samples_leaf=3, min_samples_split=5, n_estimators=50, random_state=12; total time=   0.0s\n",
      "[CV 5/5] END criterion=gini, max_depth=6, min_samples_leaf=3, min_samples_split=5, n_estimators=50, random_state=12; total time=   0.1s\n",
      "[CV 1/5] END criterion=gini, max_depth=6, min_samples_leaf=3, min_samples_split=5, n_estimators=100, random_state=12; total time=   0.1s\n",
      "[CV 2/5] END criterion=gini, max_depth=6, min_samples_leaf=3, min_samples_split=5, n_estimators=100, random_state=12; total time=   0.1s\n",
      "[CV 3/5] END criterion=gini, max_depth=6, min_samples_leaf=3, min_samples_split=5, n_estimators=100, random_state=12; total time=   0.1s\n",
      "[CV 4/5] END criterion=gini, max_depth=6, min_samples_leaf=3, min_samples_split=5, n_estimators=100, random_state=12; total time=   0.2s\n",
      "[CV 5/5] END criterion=gini, max_depth=6, min_samples_leaf=3, min_samples_split=5, n_estimators=100, random_state=12; total time=   0.1s\n",
      "[CV 1/5] END criterion=gini, max_depth=6, min_samples_leaf=3, min_samples_split=6, n_estimators=15, random_state=12; total time=   0.0s\n",
      "[CV 2/5] END criterion=gini, max_depth=6, min_samples_leaf=3, min_samples_split=6, n_estimators=15, random_state=12; total time=   0.0s\n",
      "[CV 3/5] END criterion=gini, max_depth=6, min_samples_leaf=3, min_samples_split=6, n_estimators=15, random_state=12; total time=   0.0s\n",
      "[CV 4/5] END criterion=gini, max_depth=6, min_samples_leaf=3, min_samples_split=6, n_estimators=15, random_state=12; total time=   0.0s\n",
      "[CV 5/5] END criterion=gini, max_depth=6, min_samples_leaf=3, min_samples_split=6, n_estimators=15, random_state=12; total time=   0.0s\n",
      "[CV 1/5] END criterion=gini, max_depth=6, min_samples_leaf=3, min_samples_split=6, n_estimators=25, random_state=12; total time=   0.0s\n",
      "[CV 2/5] END criterion=gini, max_depth=6, min_samples_leaf=3, min_samples_split=6, n_estimators=25, random_state=12; total time=   0.0s\n",
      "[CV 3/5] END criterion=gini, max_depth=6, min_samples_leaf=3, min_samples_split=6, n_estimators=25, random_state=12; total time=   0.0s\n",
      "[CV 4/5] END criterion=gini, max_depth=6, min_samples_leaf=3, min_samples_split=6, n_estimators=25, random_state=12; total time=   0.0s\n",
      "[CV 5/5] END criterion=gini, max_depth=6, min_samples_leaf=3, min_samples_split=6, n_estimators=25, random_state=12; total time=   0.0s\n",
      "[CV 1/5] END criterion=gini, max_depth=6, min_samples_leaf=3, min_samples_split=6, n_estimators=50, random_state=12; total time=   0.1s\n",
      "[CV 2/5] END criterion=gini, max_depth=6, min_samples_leaf=3, min_samples_split=6, n_estimators=50, random_state=12; total time=   0.0s\n",
      "[CV 3/5] END criterion=gini, max_depth=6, min_samples_leaf=3, min_samples_split=6, n_estimators=50, random_state=12; total time=   0.0s\n",
      "[CV 4/5] END criterion=gini, max_depth=6, min_samples_leaf=3, min_samples_split=6, n_estimators=50, random_state=12; total time=   0.0s\n",
      "[CV 5/5] END criterion=gini, max_depth=6, min_samples_leaf=3, min_samples_split=6, n_estimators=50, random_state=12; total time=   0.0s\n",
      "[CV 1/5] END criterion=gini, max_depth=6, min_samples_leaf=3, min_samples_split=6, n_estimators=100, random_state=12; total time=   0.1s\n",
      "[CV 2/5] END criterion=gini, max_depth=6, min_samples_leaf=3, min_samples_split=6, n_estimators=100, random_state=12; total time=   0.2s\n",
      "[CV 3/5] END criterion=gini, max_depth=6, min_samples_leaf=3, min_samples_split=6, n_estimators=100, random_state=12; total time=   0.2s\n",
      "[CV 4/5] END criterion=gini, max_depth=6, min_samples_leaf=3, min_samples_split=6, n_estimators=100, random_state=12; total time=   0.1s\n",
      "[CV 5/5] END criterion=gini, max_depth=6, min_samples_leaf=3, min_samples_split=6, n_estimators=100, random_state=12; total time=   0.2s\n",
      "[CV 1/5] END criterion=gini, max_depth=6, min_samples_leaf=4, min_samples_split=4, n_estimators=15, random_state=12; total time=   0.0s\n",
      "[CV 2/5] END criterion=gini, max_depth=6, min_samples_leaf=4, min_samples_split=4, n_estimators=15, random_state=12; total time=   0.0s\n",
      "[CV 3/5] END criterion=gini, max_depth=6, min_samples_leaf=4, min_samples_split=4, n_estimators=15, random_state=12; total time=   0.0s\n",
      "[CV 4/5] END criterion=gini, max_depth=6, min_samples_leaf=4, min_samples_split=4, n_estimators=15, random_state=12; total time=   0.0s\n",
      "[CV 5/5] END criterion=gini, max_depth=6, min_samples_leaf=4, min_samples_split=4, n_estimators=15, random_state=12; total time=   0.0s\n",
      "[CV 1/5] END criterion=gini, max_depth=6, min_samples_leaf=4, min_samples_split=4, n_estimators=25, random_state=12; total time=   0.0s\n",
      "[CV 2/5] END criterion=gini, max_depth=6, min_samples_leaf=4, min_samples_split=4, n_estimators=25, random_state=12; total time=   0.0s\n",
      "[CV 3/5] END criterion=gini, max_depth=6, min_samples_leaf=4, min_samples_split=4, n_estimators=25, random_state=12; total time=   0.0s\n",
      "[CV 4/5] END criterion=gini, max_depth=6, min_samples_leaf=4, min_samples_split=4, n_estimators=25, random_state=12; total time=   0.0s\n",
      "[CV 5/5] END criterion=gini, max_depth=6, min_samples_leaf=4, min_samples_split=4, n_estimators=25, random_state=12; total time=   0.0s\n",
      "[CV 1/5] END criterion=gini, max_depth=6, min_samples_leaf=4, min_samples_split=4, n_estimators=50, random_state=12; total time=   0.0s\n",
      "[CV 2/5] END criterion=gini, max_depth=6, min_samples_leaf=4, min_samples_split=4, n_estimators=50, random_state=12; total time=   0.0s\n",
      "[CV 3/5] END criterion=gini, max_depth=6, min_samples_leaf=4, min_samples_split=4, n_estimators=50, random_state=12; total time=   0.1s\n",
      "[CV 4/5] END criterion=gini, max_depth=6, min_samples_leaf=4, min_samples_split=4, n_estimators=50, random_state=12; total time=   0.0s\n",
      "[CV 5/5] END criterion=gini, max_depth=6, min_samples_leaf=4, min_samples_split=4, n_estimators=50, random_state=12; total time=   0.1s\n",
      "[CV 1/5] END criterion=gini, max_depth=6, min_samples_leaf=4, min_samples_split=4, n_estimators=100, random_state=12; total time=   0.1s\n",
      "[CV 2/5] END criterion=gini, max_depth=6, min_samples_leaf=4, min_samples_split=4, n_estimators=100, random_state=12; total time=   0.2s\n",
      "[CV 3/5] END criterion=gini, max_depth=6, min_samples_leaf=4, min_samples_split=4, n_estimators=100, random_state=12; total time=   0.2s\n",
      "[CV 4/5] END criterion=gini, max_depth=6, min_samples_leaf=4, min_samples_split=4, n_estimators=100, random_state=12; total time=   0.1s\n"
     ]
    },
    {
     "name": "stdout",
     "output_type": "stream",
     "text": [
      "[CV 5/5] END criterion=gini, max_depth=6, min_samples_leaf=4, min_samples_split=4, n_estimators=100, random_state=12; total time=   0.2s\n",
      "[CV 1/5] END criterion=gini, max_depth=6, min_samples_leaf=4, min_samples_split=5, n_estimators=15, random_state=12; total time=   0.0s\n",
      "[CV 2/5] END criterion=gini, max_depth=6, min_samples_leaf=4, min_samples_split=5, n_estimators=15, random_state=12; total time=   0.0s\n",
      "[CV 3/5] END criterion=gini, max_depth=6, min_samples_leaf=4, min_samples_split=5, n_estimators=15, random_state=12; total time=   0.0s\n",
      "[CV 4/5] END criterion=gini, max_depth=6, min_samples_leaf=4, min_samples_split=5, n_estimators=15, random_state=12; total time=   0.0s\n",
      "[CV 5/5] END criterion=gini, max_depth=6, min_samples_leaf=4, min_samples_split=5, n_estimators=15, random_state=12; total time=   0.0s\n",
      "[CV 1/5] END criterion=gini, max_depth=6, min_samples_leaf=4, min_samples_split=5, n_estimators=25, random_state=12; total time=   0.0s\n",
      "[CV 2/5] END criterion=gini, max_depth=6, min_samples_leaf=4, min_samples_split=5, n_estimators=25, random_state=12; total time=   0.0s\n",
      "[CV 3/5] END criterion=gini, max_depth=6, min_samples_leaf=4, min_samples_split=5, n_estimators=25, random_state=12; total time=   0.0s\n",
      "[CV 4/5] END criterion=gini, max_depth=6, min_samples_leaf=4, min_samples_split=5, n_estimators=25, random_state=12; total time=   0.0s\n",
      "[CV 5/5] END criterion=gini, max_depth=6, min_samples_leaf=4, min_samples_split=5, n_estimators=25, random_state=12; total time=   0.0s\n",
      "[CV 1/5] END criterion=gini, max_depth=6, min_samples_leaf=4, min_samples_split=5, n_estimators=50, random_state=12; total time=   0.1s\n",
      "[CV 2/5] END criterion=gini, max_depth=6, min_samples_leaf=4, min_samples_split=5, n_estimators=50, random_state=12; total time=   0.0s\n",
      "[CV 3/5] END criterion=gini, max_depth=6, min_samples_leaf=4, min_samples_split=5, n_estimators=50, random_state=12; total time=   0.0s\n",
      "[CV 4/5] END criterion=gini, max_depth=6, min_samples_leaf=4, min_samples_split=5, n_estimators=50, random_state=12; total time=   0.0s\n",
      "[CV 5/5] END criterion=gini, max_depth=6, min_samples_leaf=4, min_samples_split=5, n_estimators=50, random_state=12; total time=   0.0s\n",
      "[CV 1/5] END criterion=gini, max_depth=6, min_samples_leaf=4, min_samples_split=5, n_estimators=100, random_state=12; total time=   0.2s\n",
      "[CV 2/5] END criterion=gini, max_depth=6, min_samples_leaf=4, min_samples_split=5, n_estimators=100, random_state=12; total time=   0.1s\n",
      "[CV 3/5] END criterion=gini, max_depth=6, min_samples_leaf=4, min_samples_split=5, n_estimators=100, random_state=12; total time=   0.1s\n",
      "[CV 4/5] END criterion=gini, max_depth=6, min_samples_leaf=4, min_samples_split=5, n_estimators=100, random_state=12; total time=   0.2s\n",
      "[CV 5/5] END criterion=gini, max_depth=6, min_samples_leaf=4, min_samples_split=5, n_estimators=100, random_state=12; total time=   0.2s\n",
      "[CV 1/5] END criterion=gini, max_depth=6, min_samples_leaf=4, min_samples_split=6, n_estimators=15, random_state=12; total time=   0.0s\n",
      "[CV 2/5] END criterion=gini, max_depth=6, min_samples_leaf=4, min_samples_split=6, n_estimators=15, random_state=12; total time=   0.0s\n",
      "[CV 3/5] END criterion=gini, max_depth=6, min_samples_leaf=4, min_samples_split=6, n_estimators=15, random_state=12; total time=   0.0s\n",
      "[CV 4/5] END criterion=gini, max_depth=6, min_samples_leaf=4, min_samples_split=6, n_estimators=15, random_state=12; total time=   0.0s\n",
      "[CV 5/5] END criterion=gini, max_depth=6, min_samples_leaf=4, min_samples_split=6, n_estimators=15, random_state=12; total time=   0.0s\n",
      "[CV 1/5] END criterion=gini, max_depth=6, min_samples_leaf=4, min_samples_split=6, n_estimators=25, random_state=12; total time=   0.0s\n",
      "[CV 2/5] END criterion=gini, max_depth=6, min_samples_leaf=4, min_samples_split=6, n_estimators=25, random_state=12; total time=   0.0s\n",
      "[CV 3/5] END criterion=gini, max_depth=6, min_samples_leaf=4, min_samples_split=6, n_estimators=25, random_state=12; total time=   0.0s\n",
      "[CV 4/5] END criterion=gini, max_depth=6, min_samples_leaf=4, min_samples_split=6, n_estimators=25, random_state=12; total time=   0.0s\n",
      "[CV 5/5] END criterion=gini, max_depth=6, min_samples_leaf=4, min_samples_split=6, n_estimators=25, random_state=12; total time=   0.0s\n",
      "[CV 1/5] END criterion=gini, max_depth=6, min_samples_leaf=4, min_samples_split=6, n_estimators=50, random_state=12; total time=   0.0s\n",
      "[CV 2/5] END criterion=gini, max_depth=6, min_samples_leaf=4, min_samples_split=6, n_estimators=50, random_state=12; total time=   0.0s\n",
      "[CV 3/5] END criterion=gini, max_depth=6, min_samples_leaf=4, min_samples_split=6, n_estimators=50, random_state=12; total time=   0.0s\n",
      "[CV 4/5] END criterion=gini, max_depth=6, min_samples_leaf=4, min_samples_split=6, n_estimators=50, random_state=12; total time=   0.0s\n",
      "[CV 5/5] END criterion=gini, max_depth=6, min_samples_leaf=4, min_samples_split=6, n_estimators=50, random_state=12; total time=   0.0s\n",
      "[CV 1/5] END criterion=gini, max_depth=6, min_samples_leaf=4, min_samples_split=6, n_estimators=100, random_state=12; total time=   0.1s\n",
      "[CV 2/5] END criterion=gini, max_depth=6, min_samples_leaf=4, min_samples_split=6, n_estimators=100, random_state=12; total time=   0.2s\n",
      "[CV 3/5] END criterion=gini, max_depth=6, min_samples_leaf=4, min_samples_split=6, n_estimators=100, random_state=12; total time=   0.2s\n",
      "[CV 4/5] END criterion=gini, max_depth=6, min_samples_leaf=4, min_samples_split=6, n_estimators=100, random_state=12; total time=   0.2s\n",
      "[CV 5/5] END criterion=gini, max_depth=6, min_samples_leaf=4, min_samples_split=6, n_estimators=100, random_state=12; total time=   0.1s\n",
      "[CV 1/5] END criterion=entropy, max_depth=4, min_samples_leaf=1, min_samples_split=4, n_estimators=15, random_state=12; total time=   0.0s\n",
      "[CV 2/5] END criterion=entropy, max_depth=4, min_samples_leaf=1, min_samples_split=4, n_estimators=15, random_state=12; total time=   0.0s\n",
      "[CV 3/5] END criterion=entropy, max_depth=4, min_samples_leaf=1, min_samples_split=4, n_estimators=15, random_state=12; total time=   0.0s\n",
      "[CV 4/5] END criterion=entropy, max_depth=4, min_samples_leaf=1, min_samples_split=4, n_estimators=15, random_state=12; total time=   0.0s\n",
      "[CV 5/5] END criterion=entropy, max_depth=4, min_samples_leaf=1, min_samples_split=4, n_estimators=15, random_state=12; total time=   0.0s\n",
      "[CV 1/5] END criterion=entropy, max_depth=4, min_samples_leaf=1, min_samples_split=4, n_estimators=25, random_state=12; total time=   0.0s\n",
      "[CV 2/5] END criterion=entropy, max_depth=4, min_samples_leaf=1, min_samples_split=4, n_estimators=25, random_state=12; total time=   0.0s\n",
      "[CV 3/5] END criterion=entropy, max_depth=4, min_samples_leaf=1, min_samples_split=4, n_estimators=25, random_state=12; total time=   0.0s\n",
      "[CV 4/5] END criterion=entropy, max_depth=4, min_samples_leaf=1, min_samples_split=4, n_estimators=25, random_state=12; total time=   0.0s\n",
      "[CV 5/5] END criterion=entropy, max_depth=4, min_samples_leaf=1, min_samples_split=4, n_estimators=25, random_state=12; total time=   0.0s\n",
      "[CV 1/5] END criterion=entropy, max_depth=4, min_samples_leaf=1, min_samples_split=4, n_estimators=50, random_state=12; total time=   0.1s\n",
      "[CV 2/5] END criterion=entropy, max_depth=4, min_samples_leaf=1, min_samples_split=4, n_estimators=50, random_state=12; total time=   0.0s\n",
      "[CV 3/5] END criterion=entropy, max_depth=4, min_samples_leaf=1, min_samples_split=4, n_estimators=50, random_state=12; total time=   0.0s\n",
      "[CV 4/5] END criterion=entropy, max_depth=4, min_samples_leaf=1, min_samples_split=4, n_estimators=50, random_state=12; total time=   0.0s\n",
      "[CV 5/5] END criterion=entropy, max_depth=4, min_samples_leaf=1, min_samples_split=4, n_estimators=50, random_state=12; total time=   0.0s\n",
      "[CV 1/5] END criterion=entropy, max_depth=4, min_samples_leaf=1, min_samples_split=4, n_estimators=100, random_state=12; total time=   0.1s\n",
      "[CV 2/5] END criterion=entropy, max_depth=4, min_samples_leaf=1, min_samples_split=4, n_estimators=100, random_state=12; total time=   0.2s\n",
      "[CV 3/5] END criterion=entropy, max_depth=4, min_samples_leaf=1, min_samples_split=4, n_estimators=100, random_state=12; total time=   0.1s\n",
      "[CV 4/5] END criterion=entropy, max_depth=4, min_samples_leaf=1, min_samples_split=4, n_estimators=100, random_state=12; total time=   0.2s\n"
     ]
    },
    {
     "name": "stdout",
     "output_type": "stream",
     "text": [
      "[CV 5/5] END criterion=entropy, max_depth=4, min_samples_leaf=1, min_samples_split=4, n_estimators=100, random_state=12; total time=   0.2s\n",
      "[CV 1/5] END criterion=entropy, max_depth=4, min_samples_leaf=1, min_samples_split=5, n_estimators=15, random_state=12; total time=   0.0s\n",
      "[CV 2/5] END criterion=entropy, max_depth=4, min_samples_leaf=1, min_samples_split=5, n_estimators=15, random_state=12; total time=   0.0s\n",
      "[CV 3/5] END criterion=entropy, max_depth=4, min_samples_leaf=1, min_samples_split=5, n_estimators=15, random_state=12; total time=   0.0s\n",
      "[CV 4/5] END criterion=entropy, max_depth=4, min_samples_leaf=1, min_samples_split=5, n_estimators=15, random_state=12; total time=   0.0s\n",
      "[CV 5/5] END criterion=entropy, max_depth=4, min_samples_leaf=1, min_samples_split=5, n_estimators=15, random_state=12; total time=   0.0s\n",
      "[CV 1/5] END criterion=entropy, max_depth=4, min_samples_leaf=1, min_samples_split=5, n_estimators=25, random_state=12; total time=   0.0s\n",
      "[CV 2/5] END criterion=entropy, max_depth=4, min_samples_leaf=1, min_samples_split=5, n_estimators=25, random_state=12; total time=   0.0s\n",
      "[CV 3/5] END criterion=entropy, max_depth=4, min_samples_leaf=1, min_samples_split=5, n_estimators=25, random_state=12; total time=   0.0s\n",
      "[CV 4/5] END criterion=entropy, max_depth=4, min_samples_leaf=1, min_samples_split=5, n_estimators=25, random_state=12; total time=   0.0s\n",
      "[CV 5/5] END criterion=entropy, max_depth=4, min_samples_leaf=1, min_samples_split=5, n_estimators=25, random_state=12; total time=   0.0s\n",
      "[CV 1/5] END criterion=entropy, max_depth=4, min_samples_leaf=1, min_samples_split=5, n_estimators=50, random_state=12; total time=   0.0s\n",
      "[CV 2/5] END criterion=entropy, max_depth=4, min_samples_leaf=1, min_samples_split=5, n_estimators=50, random_state=12; total time=   0.0s\n",
      "[CV 3/5] END criterion=entropy, max_depth=4, min_samples_leaf=1, min_samples_split=5, n_estimators=50, random_state=12; total time=   0.0s\n",
      "[CV 4/5] END criterion=entropy, max_depth=4, min_samples_leaf=1, min_samples_split=5, n_estimators=50, random_state=12; total time=   0.0s\n",
      "[CV 5/5] END criterion=entropy, max_depth=4, min_samples_leaf=1, min_samples_split=5, n_estimators=50, random_state=12; total time=   0.0s\n",
      "[CV 1/5] END criterion=entropy, max_depth=4, min_samples_leaf=1, min_samples_split=5, n_estimators=100, random_state=12; total time=   0.1s\n",
      "[CV 2/5] END criterion=entropy, max_depth=4, min_samples_leaf=1, min_samples_split=5, n_estimators=100, random_state=12; total time=   0.1s\n",
      "[CV 3/5] END criterion=entropy, max_depth=4, min_samples_leaf=1, min_samples_split=5, n_estimators=100, random_state=12; total time=   0.2s\n",
      "[CV 4/5] END criterion=entropy, max_depth=4, min_samples_leaf=1, min_samples_split=5, n_estimators=100, random_state=12; total time=   0.1s\n",
      "[CV 5/5] END criterion=entropy, max_depth=4, min_samples_leaf=1, min_samples_split=5, n_estimators=100, random_state=12; total time=   0.1s\n",
      "[CV 1/5] END criterion=entropy, max_depth=4, min_samples_leaf=1, min_samples_split=6, n_estimators=15, random_state=12; total time=   0.0s\n",
      "[CV 2/5] END criterion=entropy, max_depth=4, min_samples_leaf=1, min_samples_split=6, n_estimators=15, random_state=12; total time=   0.0s\n",
      "[CV 3/5] END criterion=entropy, max_depth=4, min_samples_leaf=1, min_samples_split=6, n_estimators=15, random_state=12; total time=   0.0s\n",
      "[CV 4/5] END criterion=entropy, max_depth=4, min_samples_leaf=1, min_samples_split=6, n_estimators=15, random_state=12; total time=   0.0s\n",
      "[CV 5/5] END criterion=entropy, max_depth=4, min_samples_leaf=1, min_samples_split=6, n_estimators=15, random_state=12; total time=   0.0s\n",
      "[CV 1/5] END criterion=entropy, max_depth=4, min_samples_leaf=1, min_samples_split=6, n_estimators=25, random_state=12; total time=   0.0s\n",
      "[CV 2/5] END criterion=entropy, max_depth=4, min_samples_leaf=1, min_samples_split=6, n_estimators=25, random_state=12; total time=   0.0s\n",
      "[CV 3/5] END criterion=entropy, max_depth=4, min_samples_leaf=1, min_samples_split=6, n_estimators=25, random_state=12; total time=   0.0s\n",
      "[CV 4/5] END criterion=entropy, max_depth=4, min_samples_leaf=1, min_samples_split=6, n_estimators=25, random_state=12; total time=   0.0s\n",
      "[CV 5/5] END criterion=entropy, max_depth=4, min_samples_leaf=1, min_samples_split=6, n_estimators=25, random_state=12; total time=   0.0s\n",
      "[CV 1/5] END criterion=entropy, max_depth=4, min_samples_leaf=1, min_samples_split=6, n_estimators=50, random_state=12; total time=   0.0s\n",
      "[CV 2/5] END criterion=entropy, max_depth=4, min_samples_leaf=1, min_samples_split=6, n_estimators=50, random_state=12; total time=   0.0s\n",
      "[CV 3/5] END criterion=entropy, max_depth=4, min_samples_leaf=1, min_samples_split=6, n_estimators=50, random_state=12; total time=   0.0s\n",
      "[CV 4/5] END criterion=entropy, max_depth=4, min_samples_leaf=1, min_samples_split=6, n_estimators=50, random_state=12; total time=   0.0s\n",
      "[CV 5/5] END criterion=entropy, max_depth=4, min_samples_leaf=1, min_samples_split=6, n_estimators=50, random_state=12; total time=   0.0s\n",
      "[CV 1/5] END criterion=entropy, max_depth=4, min_samples_leaf=1, min_samples_split=6, n_estimators=100, random_state=12; total time=   0.1s\n",
      "[CV 2/5] END criterion=entropy, max_depth=4, min_samples_leaf=1, min_samples_split=6, n_estimators=100, random_state=12; total time=   0.2s\n",
      "[CV 3/5] END criterion=entropy, max_depth=4, min_samples_leaf=1, min_samples_split=6, n_estimators=100, random_state=12; total time=   0.1s\n",
      "[CV 4/5] END criterion=entropy, max_depth=4, min_samples_leaf=1, min_samples_split=6, n_estimators=100, random_state=12; total time=   0.2s\n",
      "[CV 5/5] END criterion=entropy, max_depth=4, min_samples_leaf=1, min_samples_split=6, n_estimators=100, random_state=12; total time=   0.2s\n",
      "[CV 1/5] END criterion=entropy, max_depth=4, min_samples_leaf=2, min_samples_split=4, n_estimators=15, random_state=12; total time=   0.0s\n",
      "[CV 2/5] END criterion=entropy, max_depth=4, min_samples_leaf=2, min_samples_split=4, n_estimators=15, random_state=12; total time=   0.0s\n",
      "[CV 3/5] END criterion=entropy, max_depth=4, min_samples_leaf=2, min_samples_split=4, n_estimators=15, random_state=12; total time=   0.0s\n",
      "[CV 4/5] END criterion=entropy, max_depth=4, min_samples_leaf=2, min_samples_split=4, n_estimators=15, random_state=12; total time=   0.0s\n",
      "[CV 5/5] END criterion=entropy, max_depth=4, min_samples_leaf=2, min_samples_split=4, n_estimators=15, random_state=12; total time=   0.0s\n",
      "[CV 1/5] END criterion=entropy, max_depth=4, min_samples_leaf=2, min_samples_split=4, n_estimators=25, random_state=12; total time=   0.0s\n",
      "[CV 2/5] END criterion=entropy, max_depth=4, min_samples_leaf=2, min_samples_split=4, n_estimators=25, random_state=12; total time=   0.0s\n",
      "[CV 3/5] END criterion=entropy, max_depth=4, min_samples_leaf=2, min_samples_split=4, n_estimators=25, random_state=12; total time=   0.0s\n",
      "[CV 4/5] END criterion=entropy, max_depth=4, min_samples_leaf=2, min_samples_split=4, n_estimators=25, random_state=12; total time=   0.0s\n",
      "[CV 5/5] END criterion=entropy, max_depth=4, min_samples_leaf=2, min_samples_split=4, n_estimators=25, random_state=12; total time=   0.0s\n",
      "[CV 1/5] END criterion=entropy, max_depth=4, min_samples_leaf=2, min_samples_split=4, n_estimators=50, random_state=12; total time=   0.0s\n",
      "[CV 2/5] END criterion=entropy, max_depth=4, min_samples_leaf=2, min_samples_split=4, n_estimators=50, random_state=12; total time=   0.0s\n",
      "[CV 3/5] END criterion=entropy, max_depth=4, min_samples_leaf=2, min_samples_split=4, n_estimators=50, random_state=12; total time=   0.0s\n",
      "[CV 4/5] END criterion=entropy, max_depth=4, min_samples_leaf=2, min_samples_split=4, n_estimators=50, random_state=12; total time=   0.0s\n",
      "[CV 5/5] END criterion=entropy, max_depth=4, min_samples_leaf=2, min_samples_split=4, n_estimators=50, random_state=12; total time=   0.0s\n",
      "[CV 1/5] END criterion=entropy, max_depth=4, min_samples_leaf=2, min_samples_split=4, n_estimators=100, random_state=12; total time=   0.1s\n",
      "[CV 2/5] END criterion=entropy, max_depth=4, min_samples_leaf=2, min_samples_split=4, n_estimators=100, random_state=12; total time=   0.1s\n",
      "[CV 3/5] END criterion=entropy, max_depth=4, min_samples_leaf=2, min_samples_split=4, n_estimators=100, random_state=12; total time=   0.1s\n"
     ]
    },
    {
     "name": "stdout",
     "output_type": "stream",
     "text": [
      "[CV 4/5] END criterion=entropy, max_depth=4, min_samples_leaf=2, min_samples_split=4, n_estimators=100, random_state=12; total time=   0.2s\n",
      "[CV 5/5] END criterion=entropy, max_depth=4, min_samples_leaf=2, min_samples_split=4, n_estimators=100, random_state=12; total time=   0.2s\n",
      "[CV 1/5] END criterion=entropy, max_depth=4, min_samples_leaf=2, min_samples_split=5, n_estimators=15, random_state=12; total time=   0.0s\n",
      "[CV 2/5] END criterion=entropy, max_depth=4, min_samples_leaf=2, min_samples_split=5, n_estimators=15, random_state=12; total time=   0.0s\n",
      "[CV 3/5] END criterion=entropy, max_depth=4, min_samples_leaf=2, min_samples_split=5, n_estimators=15, random_state=12; total time=   0.0s\n",
      "[CV 4/5] END criterion=entropy, max_depth=4, min_samples_leaf=2, min_samples_split=5, n_estimators=15, random_state=12; total time=   0.0s\n",
      "[CV 5/5] END criterion=entropy, max_depth=4, min_samples_leaf=2, min_samples_split=5, n_estimators=15, random_state=12; total time=   0.0s\n",
      "[CV 1/5] END criterion=entropy, max_depth=4, min_samples_leaf=2, min_samples_split=5, n_estimators=25, random_state=12; total time=   0.0s\n",
      "[CV 2/5] END criterion=entropy, max_depth=4, min_samples_leaf=2, min_samples_split=5, n_estimators=25, random_state=12; total time=   0.0s\n",
      "[CV 3/5] END criterion=entropy, max_depth=4, min_samples_leaf=2, min_samples_split=5, n_estimators=25, random_state=12; total time=   0.0s\n",
      "[CV 4/5] END criterion=entropy, max_depth=4, min_samples_leaf=2, min_samples_split=5, n_estimators=25, random_state=12; total time=   0.0s\n",
      "[CV 5/5] END criterion=entropy, max_depth=4, min_samples_leaf=2, min_samples_split=5, n_estimators=25, random_state=12; total time=   0.0s\n",
      "[CV 1/5] END criterion=entropy, max_depth=4, min_samples_leaf=2, min_samples_split=5, n_estimators=50, random_state=12; total time=   0.1s\n",
      "[CV 2/5] END criterion=entropy, max_depth=4, min_samples_leaf=2, min_samples_split=5, n_estimators=50, random_state=12; total time=   0.0s\n",
      "[CV 3/5] END criterion=entropy, max_depth=4, min_samples_leaf=2, min_samples_split=5, n_estimators=50, random_state=12; total time=   0.0s\n",
      "[CV 4/5] END criterion=entropy, max_depth=4, min_samples_leaf=2, min_samples_split=5, n_estimators=50, random_state=12; total time=   0.0s\n",
      "[CV 5/5] END criterion=entropy, max_depth=4, min_samples_leaf=2, min_samples_split=5, n_estimators=50, random_state=12; total time=   0.0s\n",
      "[CV 1/5] END criterion=entropy, max_depth=4, min_samples_leaf=2, min_samples_split=5, n_estimators=100, random_state=12; total time=   0.2s\n",
      "[CV 2/5] END criterion=entropy, max_depth=4, min_samples_leaf=2, min_samples_split=5, n_estimators=100, random_state=12; total time=   0.1s\n",
      "[CV 3/5] END criterion=entropy, max_depth=4, min_samples_leaf=2, min_samples_split=5, n_estimators=100, random_state=12; total time=   0.1s\n",
      "[CV 4/5] END criterion=entropy, max_depth=4, min_samples_leaf=2, min_samples_split=5, n_estimators=100, random_state=12; total time=   0.1s\n",
      "[CV 5/5] END criterion=entropy, max_depth=4, min_samples_leaf=2, min_samples_split=5, n_estimators=100, random_state=12; total time=   0.2s\n",
      "[CV 1/5] END criterion=entropy, max_depth=4, min_samples_leaf=2, min_samples_split=6, n_estimators=15, random_state=12; total time=   0.0s\n",
      "[CV 2/5] END criterion=entropy, max_depth=4, min_samples_leaf=2, min_samples_split=6, n_estimators=15, random_state=12; total time=   0.0s\n",
      "[CV 3/5] END criterion=entropy, max_depth=4, min_samples_leaf=2, min_samples_split=6, n_estimators=15, random_state=12; total time=   0.0s\n",
      "[CV 4/5] END criterion=entropy, max_depth=4, min_samples_leaf=2, min_samples_split=6, n_estimators=15, random_state=12; total time=   0.0s\n",
      "[CV 5/5] END criterion=entropy, max_depth=4, min_samples_leaf=2, min_samples_split=6, n_estimators=15, random_state=12; total time=   0.0s\n",
      "[CV 1/5] END criterion=entropy, max_depth=4, min_samples_leaf=2, min_samples_split=6, n_estimators=25, random_state=12; total time=   0.0s\n",
      "[CV 2/5] END criterion=entropy, max_depth=4, min_samples_leaf=2, min_samples_split=6, n_estimators=25, random_state=12; total time=   0.0s\n",
      "[CV 3/5] END criterion=entropy, max_depth=4, min_samples_leaf=2, min_samples_split=6, n_estimators=25, random_state=12; total time=   0.0s\n",
      "[CV 4/5] END criterion=entropy, max_depth=4, min_samples_leaf=2, min_samples_split=6, n_estimators=25, random_state=12; total time=   0.0s\n",
      "[CV 5/5] END criterion=entropy, max_depth=4, min_samples_leaf=2, min_samples_split=6, n_estimators=25, random_state=12; total time=   0.0s\n",
      "[CV 1/5] END criterion=entropy, max_depth=4, min_samples_leaf=2, min_samples_split=6, n_estimators=50, random_state=12; total time=   0.0s\n",
      "[CV 2/5] END criterion=entropy, max_depth=4, min_samples_leaf=2, min_samples_split=6, n_estimators=50, random_state=12; total time=   0.0s\n",
      "[CV 3/5] END criterion=entropy, max_depth=4, min_samples_leaf=2, min_samples_split=6, n_estimators=50, random_state=12; total time=   0.0s\n",
      "[CV 4/5] END criterion=entropy, max_depth=4, min_samples_leaf=2, min_samples_split=6, n_estimators=50, random_state=12; total time=   0.0s\n",
      "[CV 5/5] END criterion=entropy, max_depth=4, min_samples_leaf=2, min_samples_split=6, n_estimators=50, random_state=12; total time=   0.0s\n",
      "[CV 1/5] END criterion=entropy, max_depth=4, min_samples_leaf=2, min_samples_split=6, n_estimators=100, random_state=12; total time=   0.2s\n",
      "[CV 2/5] END criterion=entropy, max_depth=4, min_samples_leaf=2, min_samples_split=6, n_estimators=100, random_state=12; total time=   0.2s\n",
      "[CV 3/5] END criterion=entropy, max_depth=4, min_samples_leaf=2, min_samples_split=6, n_estimators=100, random_state=12; total time=   0.2s\n",
      "[CV 4/5] END criterion=entropy, max_depth=4, min_samples_leaf=2, min_samples_split=6, n_estimators=100, random_state=12; total time=   0.2s\n",
      "[CV 5/5] END criterion=entropy, max_depth=4, min_samples_leaf=2, min_samples_split=6, n_estimators=100, random_state=12; total time=   0.1s\n",
      "[CV 1/5] END criterion=entropy, max_depth=4, min_samples_leaf=3, min_samples_split=4, n_estimators=15, random_state=12; total time=   0.0s\n",
      "[CV 2/5] END criterion=entropy, max_depth=4, min_samples_leaf=3, min_samples_split=4, n_estimators=15, random_state=12; total time=   0.0s\n",
      "[CV 3/5] END criterion=entropy, max_depth=4, min_samples_leaf=3, min_samples_split=4, n_estimators=15, random_state=12; total time=   0.0s\n",
      "[CV 4/5] END criterion=entropy, max_depth=4, min_samples_leaf=3, min_samples_split=4, n_estimators=15, random_state=12; total time=   0.0s\n",
      "[CV 5/5] END criterion=entropy, max_depth=4, min_samples_leaf=3, min_samples_split=4, n_estimators=15, random_state=12; total time=   0.0s\n",
      "[CV 1/5] END criterion=entropy, max_depth=4, min_samples_leaf=3, min_samples_split=4, n_estimators=25, random_state=12; total time=   0.0s\n",
      "[CV 2/5] END criterion=entropy, max_depth=4, min_samples_leaf=3, min_samples_split=4, n_estimators=25, random_state=12; total time=   0.0s\n",
      "[CV 3/5] END criterion=entropy, max_depth=4, min_samples_leaf=3, min_samples_split=4, n_estimators=25, random_state=12; total time=   0.0s\n",
      "[CV 4/5] END criterion=entropy, max_depth=4, min_samples_leaf=3, min_samples_split=4, n_estimators=25, random_state=12; total time=   0.0s\n",
      "[CV 5/5] END criterion=entropy, max_depth=4, min_samples_leaf=3, min_samples_split=4, n_estimators=25, random_state=12; total time=   0.0s\n",
      "[CV 1/5] END criterion=entropy, max_depth=4, min_samples_leaf=3, min_samples_split=4, n_estimators=50, random_state=12; total time=   0.1s\n",
      "[CV 2/5] END criterion=entropy, max_depth=4, min_samples_leaf=3, min_samples_split=4, n_estimators=50, random_state=12; total time=   0.1s\n",
      "[CV 3/5] END criterion=entropy, max_depth=4, min_samples_leaf=3, min_samples_split=4, n_estimators=50, random_state=12; total time=   0.1s\n",
      "[CV 4/5] END criterion=entropy, max_depth=4, min_samples_leaf=3, min_samples_split=4, n_estimators=50, random_state=12; total time=   0.0s\n",
      "[CV 5/5] END criterion=entropy, max_depth=4, min_samples_leaf=3, min_samples_split=4, n_estimators=50, random_state=12; total time=   0.0s\n",
      "[CV 1/5] END criterion=entropy, max_depth=4, min_samples_leaf=3, min_samples_split=4, n_estimators=100, random_state=12; total time=   0.1s\n",
      "[CV 2/5] END criterion=entropy, max_depth=4, min_samples_leaf=3, min_samples_split=4, n_estimators=100, random_state=12; total time=   0.1s\n"
     ]
    },
    {
     "name": "stdout",
     "output_type": "stream",
     "text": [
      "[CV 3/5] END criterion=entropy, max_depth=4, min_samples_leaf=3, min_samples_split=4, n_estimators=100, random_state=12; total time=   0.1s\n",
      "[CV 4/5] END criterion=entropy, max_depth=4, min_samples_leaf=3, min_samples_split=4, n_estimators=100, random_state=12; total time=   0.2s\n",
      "[CV 5/5] END criterion=entropy, max_depth=4, min_samples_leaf=3, min_samples_split=4, n_estimators=100, random_state=12; total time=   0.2s\n",
      "[CV 1/5] END criterion=entropy, max_depth=4, min_samples_leaf=3, min_samples_split=5, n_estimators=15, random_state=12; total time=   0.0s\n",
      "[CV 2/5] END criterion=entropy, max_depth=4, min_samples_leaf=3, min_samples_split=5, n_estimators=15, random_state=12; total time=   0.0s\n",
      "[CV 3/5] END criterion=entropy, max_depth=4, min_samples_leaf=3, min_samples_split=5, n_estimators=15, random_state=12; total time=   0.0s\n",
      "[CV 4/5] END criterion=entropy, max_depth=4, min_samples_leaf=3, min_samples_split=5, n_estimators=15, random_state=12; total time=   0.0s\n",
      "[CV 5/5] END criterion=entropy, max_depth=4, min_samples_leaf=3, min_samples_split=5, n_estimators=15, random_state=12; total time=   0.0s\n",
      "[CV 1/5] END criterion=entropy, max_depth=4, min_samples_leaf=3, min_samples_split=5, n_estimators=25, random_state=12; total time=   0.0s\n",
      "[CV 2/5] END criterion=entropy, max_depth=4, min_samples_leaf=3, min_samples_split=5, n_estimators=25, random_state=12; total time=   0.0s\n",
      "[CV 3/5] END criterion=entropy, max_depth=4, min_samples_leaf=3, min_samples_split=5, n_estimators=25, random_state=12; total time=   0.0s\n",
      "[CV 4/5] END criterion=entropy, max_depth=4, min_samples_leaf=3, min_samples_split=5, n_estimators=25, random_state=12; total time=   0.0s\n",
      "[CV 5/5] END criterion=entropy, max_depth=4, min_samples_leaf=3, min_samples_split=5, n_estimators=25, random_state=12; total time=   0.0s\n",
      "[CV 1/5] END criterion=entropy, max_depth=4, min_samples_leaf=3, min_samples_split=5, n_estimators=50, random_state=12; total time=   0.0s\n",
      "[CV 2/5] END criterion=entropy, max_depth=4, min_samples_leaf=3, min_samples_split=5, n_estimators=50, random_state=12; total time=   0.0s\n",
      "[CV 3/5] END criterion=entropy, max_depth=4, min_samples_leaf=3, min_samples_split=5, n_estimators=50, random_state=12; total time=   0.1s\n",
      "[CV 4/5] END criterion=entropy, max_depth=4, min_samples_leaf=3, min_samples_split=5, n_estimators=50, random_state=12; total time=   0.0s\n",
      "[CV 5/5] END criterion=entropy, max_depth=4, min_samples_leaf=3, min_samples_split=5, n_estimators=50, random_state=12; total time=   0.0s\n",
      "[CV 1/5] END criterion=entropy, max_depth=4, min_samples_leaf=3, min_samples_split=5, n_estimators=100, random_state=12; total time=   0.1s\n",
      "[CV 2/5] END criterion=entropy, max_depth=4, min_samples_leaf=3, min_samples_split=5, n_estimators=100, random_state=12; total time=   0.1s\n",
      "[CV 3/5] END criterion=entropy, max_depth=4, min_samples_leaf=3, min_samples_split=5, n_estimators=100, random_state=12; total time=   0.1s\n",
      "[CV 4/5] END criterion=entropy, max_depth=4, min_samples_leaf=3, min_samples_split=5, n_estimators=100, random_state=12; total time=   0.1s\n",
      "[CV 5/5] END criterion=entropy, max_depth=4, min_samples_leaf=3, min_samples_split=5, n_estimators=100, random_state=12; total time=   0.1s\n",
      "[CV 1/5] END criterion=entropy, max_depth=4, min_samples_leaf=3, min_samples_split=6, n_estimators=15, random_state=12; total time=   0.0s\n",
      "[CV 2/5] END criterion=entropy, max_depth=4, min_samples_leaf=3, min_samples_split=6, n_estimators=15, random_state=12; total time=   0.0s\n",
      "[CV 3/5] END criterion=entropy, max_depth=4, min_samples_leaf=3, min_samples_split=6, n_estimators=15, random_state=12; total time=   0.0s\n",
      "[CV 4/5] END criterion=entropy, max_depth=4, min_samples_leaf=3, min_samples_split=6, n_estimators=15, random_state=12; total time=   0.0s\n",
      "[CV 5/5] END criterion=entropy, max_depth=4, min_samples_leaf=3, min_samples_split=6, n_estimators=15, random_state=12; total time=   0.0s\n",
      "[CV 1/5] END criterion=entropy, max_depth=4, min_samples_leaf=3, min_samples_split=6, n_estimators=25, random_state=12; total time=   0.0s\n",
      "[CV 2/5] END criterion=entropy, max_depth=4, min_samples_leaf=3, min_samples_split=6, n_estimators=25, random_state=12; total time=   0.0s\n",
      "[CV 3/5] END criterion=entropy, max_depth=4, min_samples_leaf=3, min_samples_split=6, n_estimators=25, random_state=12; total time=   0.0s\n",
      "[CV 4/5] END criterion=entropy, max_depth=4, min_samples_leaf=3, min_samples_split=6, n_estimators=25, random_state=12; total time=   0.0s\n",
      "[CV 5/5] END criterion=entropy, max_depth=4, min_samples_leaf=3, min_samples_split=6, n_estimators=25, random_state=12; total time=   0.0s\n",
      "[CV 1/5] END criterion=entropy, max_depth=4, min_samples_leaf=3, min_samples_split=6, n_estimators=50, random_state=12; total time=   0.0s\n",
      "[CV 2/5] END criterion=entropy, max_depth=4, min_samples_leaf=3, min_samples_split=6, n_estimators=50, random_state=12; total time=   0.0s\n",
      "[CV 3/5] END criterion=entropy, max_depth=4, min_samples_leaf=3, min_samples_split=6, n_estimators=50, random_state=12; total time=   0.1s\n",
      "[CV 4/5] END criterion=entropy, max_depth=4, min_samples_leaf=3, min_samples_split=6, n_estimators=50, random_state=12; total time=   0.0s\n",
      "[CV 5/5] END criterion=entropy, max_depth=4, min_samples_leaf=3, min_samples_split=6, n_estimators=50, random_state=12; total time=   0.0s\n",
      "[CV 1/5] END criterion=entropy, max_depth=4, min_samples_leaf=3, min_samples_split=6, n_estimators=100, random_state=12; total time=   0.1s\n",
      "[CV 2/5] END criterion=entropy, max_depth=4, min_samples_leaf=3, min_samples_split=6, n_estimators=100, random_state=12; total time=   0.2s\n",
      "[CV 3/5] END criterion=entropy, max_depth=4, min_samples_leaf=3, min_samples_split=6, n_estimators=100, random_state=12; total time=   0.1s\n",
      "[CV 4/5] END criterion=entropy, max_depth=4, min_samples_leaf=3, min_samples_split=6, n_estimators=100, random_state=12; total time=   0.1s\n",
      "[CV 5/5] END criterion=entropy, max_depth=4, min_samples_leaf=3, min_samples_split=6, n_estimators=100, random_state=12; total time=   0.1s\n",
      "[CV 1/5] END criterion=entropy, max_depth=4, min_samples_leaf=4, min_samples_split=4, n_estimators=15, random_state=12; total time=   0.0s\n",
      "[CV 2/5] END criterion=entropy, max_depth=4, min_samples_leaf=4, min_samples_split=4, n_estimators=15, random_state=12; total time=   0.0s\n",
      "[CV 3/5] END criterion=entropy, max_depth=4, min_samples_leaf=4, min_samples_split=4, n_estimators=15, random_state=12; total time=   0.0s\n",
      "[CV 4/5] END criterion=entropy, max_depth=4, min_samples_leaf=4, min_samples_split=4, n_estimators=15, random_state=12; total time=   0.0s\n",
      "[CV 5/5] END criterion=entropy, max_depth=4, min_samples_leaf=4, min_samples_split=4, n_estimators=15, random_state=12; total time=   0.0s\n",
      "[CV 1/5] END criterion=entropy, max_depth=4, min_samples_leaf=4, min_samples_split=4, n_estimators=25, random_state=12; total time=   0.0s\n",
      "[CV 2/5] END criterion=entropy, max_depth=4, min_samples_leaf=4, min_samples_split=4, n_estimators=25, random_state=12; total time=   0.0s\n",
      "[CV 3/5] END criterion=entropy, max_depth=4, min_samples_leaf=4, min_samples_split=4, n_estimators=25, random_state=12; total time=   0.0s\n",
      "[CV 4/5] END criterion=entropy, max_depth=4, min_samples_leaf=4, min_samples_split=4, n_estimators=25, random_state=12; total time=   0.0s\n",
      "[CV 5/5] END criterion=entropy, max_depth=4, min_samples_leaf=4, min_samples_split=4, n_estimators=25, random_state=12; total time=   0.0s\n",
      "[CV 1/5] END criterion=entropy, max_depth=4, min_samples_leaf=4, min_samples_split=4, n_estimators=50, random_state=12; total time=   0.0s\n",
      "[CV 2/5] END criterion=entropy, max_depth=4, min_samples_leaf=4, min_samples_split=4, n_estimators=50, random_state=12; total time=   0.0s\n",
      "[CV 3/5] END criterion=entropy, max_depth=4, min_samples_leaf=4, min_samples_split=4, n_estimators=50, random_state=12; total time=   0.0s\n",
      "[CV 4/5] END criterion=entropy, max_depth=4, min_samples_leaf=4, min_samples_split=4, n_estimators=50, random_state=12; total time=   0.0s\n",
      "[CV 5/5] END criterion=entropy, max_depth=4, min_samples_leaf=4, min_samples_split=4, n_estimators=50, random_state=12; total time=   0.1s\n",
      "[CV 1/5] END criterion=entropy, max_depth=4, min_samples_leaf=4, min_samples_split=4, n_estimators=100, random_state=12; total time=   0.2s\n"
     ]
    },
    {
     "name": "stdout",
     "output_type": "stream",
     "text": [
      "[CV 2/5] END criterion=entropy, max_depth=4, min_samples_leaf=4, min_samples_split=4, n_estimators=100, random_state=12; total time=   0.2s\n",
      "[CV 3/5] END criterion=entropy, max_depth=4, min_samples_leaf=4, min_samples_split=4, n_estimators=100, random_state=12; total time=   0.1s\n",
      "[CV 4/5] END criterion=entropy, max_depth=4, min_samples_leaf=4, min_samples_split=4, n_estimators=100, random_state=12; total time=   0.2s\n",
      "[CV 5/5] END criterion=entropy, max_depth=4, min_samples_leaf=4, min_samples_split=4, n_estimators=100, random_state=12; total time=   0.2s\n",
      "[CV 1/5] END criterion=entropy, max_depth=4, min_samples_leaf=4, min_samples_split=5, n_estimators=15, random_state=12; total time=   0.0s\n",
      "[CV 2/5] END criterion=entropy, max_depth=4, min_samples_leaf=4, min_samples_split=5, n_estimators=15, random_state=12; total time=   0.0s\n",
      "[CV 3/5] END criterion=entropy, max_depth=4, min_samples_leaf=4, min_samples_split=5, n_estimators=15, random_state=12; total time=   0.0s\n",
      "[CV 4/5] END criterion=entropy, max_depth=4, min_samples_leaf=4, min_samples_split=5, n_estimators=15, random_state=12; total time=   0.0s\n",
      "[CV 5/5] END criterion=entropy, max_depth=4, min_samples_leaf=4, min_samples_split=5, n_estimators=15, random_state=12; total time=   0.0s\n",
      "[CV 1/5] END criterion=entropy, max_depth=4, min_samples_leaf=4, min_samples_split=5, n_estimators=25, random_state=12; total time=   0.0s\n",
      "[CV 2/5] END criterion=entropy, max_depth=4, min_samples_leaf=4, min_samples_split=5, n_estimators=25, random_state=12; total time=   0.0s\n",
      "[CV 3/5] END criterion=entropy, max_depth=4, min_samples_leaf=4, min_samples_split=5, n_estimators=25, random_state=12; total time=   0.0s\n",
      "[CV 4/5] END criterion=entropy, max_depth=4, min_samples_leaf=4, min_samples_split=5, n_estimators=25, random_state=12; total time=   0.0s\n",
      "[CV 5/5] END criterion=entropy, max_depth=4, min_samples_leaf=4, min_samples_split=5, n_estimators=25, random_state=12; total time=   0.0s\n",
      "[CV 1/5] END criterion=entropy, max_depth=4, min_samples_leaf=4, min_samples_split=5, n_estimators=50, random_state=12; total time=   0.0s\n",
      "[CV 2/5] END criterion=entropy, max_depth=4, min_samples_leaf=4, min_samples_split=5, n_estimators=50, random_state=12; total time=   0.0s\n",
      "[CV 3/5] END criterion=entropy, max_depth=4, min_samples_leaf=4, min_samples_split=5, n_estimators=50, random_state=12; total time=   0.0s\n",
      "[CV 4/5] END criterion=entropy, max_depth=4, min_samples_leaf=4, min_samples_split=5, n_estimators=50, random_state=12; total time=   0.1s\n",
      "[CV 5/5] END criterion=entropy, max_depth=4, min_samples_leaf=4, min_samples_split=5, n_estimators=50, random_state=12; total time=   0.0s\n",
      "[CV 1/5] END criterion=entropy, max_depth=4, min_samples_leaf=4, min_samples_split=5, n_estimators=100, random_state=12; total time=   0.1s\n",
      "[CV 2/5] END criterion=entropy, max_depth=4, min_samples_leaf=4, min_samples_split=5, n_estimators=100, random_state=12; total time=   0.2s\n",
      "[CV 3/5] END criterion=entropy, max_depth=4, min_samples_leaf=4, min_samples_split=5, n_estimators=100, random_state=12; total time=   0.1s\n",
      "[CV 4/5] END criterion=entropy, max_depth=4, min_samples_leaf=4, min_samples_split=5, n_estimators=100, random_state=12; total time=   0.2s\n",
      "[CV 5/5] END criterion=entropy, max_depth=4, min_samples_leaf=4, min_samples_split=5, n_estimators=100, random_state=12; total time=   0.1s\n",
      "[CV 1/5] END criterion=entropy, max_depth=4, min_samples_leaf=4, min_samples_split=6, n_estimators=15, random_state=12; total time=   0.0s\n",
      "[CV 2/5] END criterion=entropy, max_depth=4, min_samples_leaf=4, min_samples_split=6, n_estimators=15, random_state=12; total time=   0.0s\n",
      "[CV 3/5] END criterion=entropy, max_depth=4, min_samples_leaf=4, min_samples_split=6, n_estimators=15, random_state=12; total time=   0.0s\n",
      "[CV 4/5] END criterion=entropy, max_depth=4, min_samples_leaf=4, min_samples_split=6, n_estimators=15, random_state=12; total time=   0.0s\n",
      "[CV 5/5] END criterion=entropy, max_depth=4, min_samples_leaf=4, min_samples_split=6, n_estimators=15, random_state=12; total time=   0.0s\n",
      "[CV 1/5] END criterion=entropy, max_depth=4, min_samples_leaf=4, min_samples_split=6, n_estimators=25, random_state=12; total time=   0.0s\n",
      "[CV 2/5] END criterion=entropy, max_depth=4, min_samples_leaf=4, min_samples_split=6, n_estimators=25, random_state=12; total time=   0.0s\n",
      "[CV 3/5] END criterion=entropy, max_depth=4, min_samples_leaf=4, min_samples_split=6, n_estimators=25, random_state=12; total time=   0.0s\n",
      "[CV 4/5] END criterion=entropy, max_depth=4, min_samples_leaf=4, min_samples_split=6, n_estimators=25, random_state=12; total time=   0.0s\n",
      "[CV 5/5] END criterion=entropy, max_depth=4, min_samples_leaf=4, min_samples_split=6, n_estimators=25, random_state=12; total time=   0.0s\n",
      "[CV 1/5] END criterion=entropy, max_depth=4, min_samples_leaf=4, min_samples_split=6, n_estimators=50, random_state=12; total time=   0.0s\n",
      "[CV 2/5] END criterion=entropy, max_depth=4, min_samples_leaf=4, min_samples_split=6, n_estimators=50, random_state=12; total time=   0.0s\n",
      "[CV 3/5] END criterion=entropy, max_depth=4, min_samples_leaf=4, min_samples_split=6, n_estimators=50, random_state=12; total time=   0.0s\n",
      "[CV 4/5] END criterion=entropy, max_depth=4, min_samples_leaf=4, min_samples_split=6, n_estimators=50, random_state=12; total time=   0.0s\n",
      "[CV 5/5] END criterion=entropy, max_depth=4, min_samples_leaf=4, min_samples_split=6, n_estimators=50, random_state=12; total time=   0.0s\n",
      "[CV 1/5] END criterion=entropy, max_depth=4, min_samples_leaf=4, min_samples_split=6, n_estimators=100, random_state=12; total time=   0.1s\n",
      "[CV 2/5] END criterion=entropy, max_depth=4, min_samples_leaf=4, min_samples_split=6, n_estimators=100, random_state=12; total time=   0.2s\n",
      "[CV 3/5] END criterion=entropy, max_depth=4, min_samples_leaf=4, min_samples_split=6, n_estimators=100, random_state=12; total time=   0.1s\n",
      "[CV 4/5] END criterion=entropy, max_depth=4, min_samples_leaf=4, min_samples_split=6, n_estimators=100, random_state=12; total time=   0.1s\n",
      "[CV 5/5] END criterion=entropy, max_depth=4, min_samples_leaf=4, min_samples_split=6, n_estimators=100, random_state=12; total time=   0.1s\n",
      "[CV 1/5] END criterion=entropy, max_depth=5, min_samples_leaf=1, min_samples_split=4, n_estimators=15, random_state=12; total time=   0.0s\n",
      "[CV 2/5] END criterion=entropy, max_depth=5, min_samples_leaf=1, min_samples_split=4, n_estimators=15, random_state=12; total time=   0.0s\n",
      "[CV 3/5] END criterion=entropy, max_depth=5, min_samples_leaf=1, min_samples_split=4, n_estimators=15, random_state=12; total time=   0.0s\n",
      "[CV 4/5] END criterion=entropy, max_depth=5, min_samples_leaf=1, min_samples_split=4, n_estimators=15, random_state=12; total time=   0.0s\n",
      "[CV 5/5] END criterion=entropy, max_depth=5, min_samples_leaf=1, min_samples_split=4, n_estimators=15, random_state=12; total time=   0.0s\n",
      "[CV 1/5] END criterion=entropy, max_depth=5, min_samples_leaf=1, min_samples_split=4, n_estimators=25, random_state=12; total time=   0.0s\n",
      "[CV 2/5] END criterion=entropy, max_depth=5, min_samples_leaf=1, min_samples_split=4, n_estimators=25, random_state=12; total time=   0.0s\n",
      "[CV 3/5] END criterion=entropy, max_depth=5, min_samples_leaf=1, min_samples_split=4, n_estimators=25, random_state=12; total time=   0.0s\n",
      "[CV 4/5] END criterion=entropy, max_depth=5, min_samples_leaf=1, min_samples_split=4, n_estimators=25, random_state=12; total time=   0.0s\n",
      "[CV 5/5] END criterion=entropy, max_depth=5, min_samples_leaf=1, min_samples_split=4, n_estimators=25, random_state=12; total time=   0.0s\n",
      "[CV 1/5] END criterion=entropy, max_depth=5, min_samples_leaf=1, min_samples_split=4, n_estimators=50, random_state=12; total time=   0.1s\n",
      "[CV 2/5] END criterion=entropy, max_depth=5, min_samples_leaf=1, min_samples_split=4, n_estimators=50, random_state=12; total time=   0.0s\n",
      "[CV 3/5] END criterion=entropy, max_depth=5, min_samples_leaf=1, min_samples_split=4, n_estimators=50, random_state=12; total time=   0.0s\n",
      "[CV 4/5] END criterion=entropy, max_depth=5, min_samples_leaf=1, min_samples_split=4, n_estimators=50, random_state=12; total time=   0.0s\n",
      "[CV 5/5] END criterion=entropy, max_depth=5, min_samples_leaf=1, min_samples_split=4, n_estimators=50, random_state=12; total time=   0.0s\n"
     ]
    },
    {
     "name": "stdout",
     "output_type": "stream",
     "text": [
      "[CV 1/5] END criterion=entropy, max_depth=5, min_samples_leaf=1, min_samples_split=4, n_estimators=100, random_state=12; total time=   0.2s\n",
      "[CV 2/5] END criterion=entropy, max_depth=5, min_samples_leaf=1, min_samples_split=4, n_estimators=100, random_state=12; total time=   0.1s\n",
      "[CV 3/5] END criterion=entropy, max_depth=5, min_samples_leaf=1, min_samples_split=4, n_estimators=100, random_state=12; total time=   0.1s\n",
      "[CV 4/5] END criterion=entropy, max_depth=5, min_samples_leaf=1, min_samples_split=4, n_estimators=100, random_state=12; total time=   0.2s\n",
      "[CV 5/5] END criterion=entropy, max_depth=5, min_samples_leaf=1, min_samples_split=4, n_estimators=100, random_state=12; total time=   0.2s\n",
      "[CV 1/5] END criterion=entropy, max_depth=5, min_samples_leaf=1, min_samples_split=5, n_estimators=15, random_state=12; total time=   0.0s\n",
      "[CV 2/5] END criterion=entropy, max_depth=5, min_samples_leaf=1, min_samples_split=5, n_estimators=15, random_state=12; total time=   0.0s\n",
      "[CV 3/5] END criterion=entropy, max_depth=5, min_samples_leaf=1, min_samples_split=5, n_estimators=15, random_state=12; total time=   0.0s\n",
      "[CV 4/5] END criterion=entropy, max_depth=5, min_samples_leaf=1, min_samples_split=5, n_estimators=15, random_state=12; total time=   0.0s\n",
      "[CV 5/5] END criterion=entropy, max_depth=5, min_samples_leaf=1, min_samples_split=5, n_estimators=15, random_state=12; total time=   0.0s\n",
      "[CV 1/5] END criterion=entropy, max_depth=5, min_samples_leaf=1, min_samples_split=5, n_estimators=25, random_state=12; total time=   0.0s\n",
      "[CV 2/5] END criterion=entropy, max_depth=5, min_samples_leaf=1, min_samples_split=5, n_estimators=25, random_state=12; total time=   0.0s\n",
      "[CV 3/5] END criterion=entropy, max_depth=5, min_samples_leaf=1, min_samples_split=5, n_estimators=25, random_state=12; total time=   0.0s\n",
      "[CV 4/5] END criterion=entropy, max_depth=5, min_samples_leaf=1, min_samples_split=5, n_estimators=25, random_state=12; total time=   0.0s\n",
      "[CV 5/5] END criterion=entropy, max_depth=5, min_samples_leaf=1, min_samples_split=5, n_estimators=25, random_state=12; total time=   0.0s\n",
      "[CV 1/5] END criterion=entropy, max_depth=5, min_samples_leaf=1, min_samples_split=5, n_estimators=50, random_state=12; total time=   0.0s\n",
      "[CV 2/5] END criterion=entropy, max_depth=5, min_samples_leaf=1, min_samples_split=5, n_estimators=50, random_state=12; total time=   0.0s\n",
      "[CV 3/5] END criterion=entropy, max_depth=5, min_samples_leaf=1, min_samples_split=5, n_estimators=50, random_state=12; total time=   0.0s\n",
      "[CV 4/5] END criterion=entropy, max_depth=5, min_samples_leaf=1, min_samples_split=5, n_estimators=50, random_state=12; total time=   0.1s\n",
      "[CV 5/5] END criterion=entropy, max_depth=5, min_samples_leaf=1, min_samples_split=5, n_estimators=50, random_state=12; total time=   0.0s\n",
      "[CV 1/5] END criterion=entropy, max_depth=5, min_samples_leaf=1, min_samples_split=5, n_estimators=100, random_state=12; total time=   0.1s\n",
      "[CV 2/5] END criterion=entropy, max_depth=5, min_samples_leaf=1, min_samples_split=5, n_estimators=100, random_state=12; total time=   0.2s\n",
      "[CV 3/5] END criterion=entropy, max_depth=5, min_samples_leaf=1, min_samples_split=5, n_estimators=100, random_state=12; total time=   0.1s\n",
      "[CV 4/5] END criterion=entropy, max_depth=5, min_samples_leaf=1, min_samples_split=5, n_estimators=100, random_state=12; total time=   0.2s\n",
      "[CV 5/5] END criterion=entropy, max_depth=5, min_samples_leaf=1, min_samples_split=5, n_estimators=100, random_state=12; total time=   0.1s\n",
      "[CV 1/5] END criterion=entropy, max_depth=5, min_samples_leaf=1, min_samples_split=6, n_estimators=15, random_state=12; total time=   0.0s\n",
      "[CV 2/5] END criterion=entropy, max_depth=5, min_samples_leaf=1, min_samples_split=6, n_estimators=15, random_state=12; total time=   0.0s\n",
      "[CV 3/5] END criterion=entropy, max_depth=5, min_samples_leaf=1, min_samples_split=6, n_estimators=15, random_state=12; total time=   0.0s\n",
      "[CV 4/5] END criterion=entropy, max_depth=5, min_samples_leaf=1, min_samples_split=6, n_estimators=15, random_state=12; total time=   0.0s\n",
      "[CV 5/5] END criterion=entropy, max_depth=5, min_samples_leaf=1, min_samples_split=6, n_estimators=15, random_state=12; total time=   0.0s\n",
      "[CV 1/5] END criterion=entropy, max_depth=5, min_samples_leaf=1, min_samples_split=6, n_estimators=25, random_state=12; total time=   0.0s\n",
      "[CV 2/5] END criterion=entropy, max_depth=5, min_samples_leaf=1, min_samples_split=6, n_estimators=25, random_state=12; total time=   0.0s\n",
      "[CV 3/5] END criterion=entropy, max_depth=5, min_samples_leaf=1, min_samples_split=6, n_estimators=25, random_state=12; total time=   0.0s\n",
      "[CV 4/5] END criterion=entropy, max_depth=5, min_samples_leaf=1, min_samples_split=6, n_estimators=25, random_state=12; total time=   0.0s\n",
      "[CV 5/5] END criterion=entropy, max_depth=5, min_samples_leaf=1, min_samples_split=6, n_estimators=25, random_state=12; total time=   0.0s\n",
      "[CV 1/5] END criterion=entropy, max_depth=5, min_samples_leaf=1, min_samples_split=6, n_estimators=50, random_state=12; total time=   0.1s\n",
      "[CV 2/5] END criterion=entropy, max_depth=5, min_samples_leaf=1, min_samples_split=6, n_estimators=50, random_state=12; total time=   0.0s\n",
      "[CV 3/5] END criterion=entropy, max_depth=5, min_samples_leaf=1, min_samples_split=6, n_estimators=50, random_state=12; total time=   0.0s\n",
      "[CV 4/5] END criterion=entropy, max_depth=5, min_samples_leaf=1, min_samples_split=6, n_estimators=50, random_state=12; total time=   0.0s\n",
      "[CV 5/5] END criterion=entropy, max_depth=5, min_samples_leaf=1, min_samples_split=6, n_estimators=50, random_state=12; total time=   0.0s\n",
      "[CV 1/5] END criterion=entropy, max_depth=5, min_samples_leaf=1, min_samples_split=6, n_estimators=100, random_state=12; total time=   0.2s\n",
      "[CV 2/5] END criterion=entropy, max_depth=5, min_samples_leaf=1, min_samples_split=6, n_estimators=100, random_state=12; total time=   0.2s\n",
      "[CV 3/5] END criterion=entropy, max_depth=5, min_samples_leaf=1, min_samples_split=6, n_estimators=100, random_state=12; total time=   0.1s\n",
      "[CV 4/5] END criterion=entropy, max_depth=5, min_samples_leaf=1, min_samples_split=6, n_estimators=100, random_state=12; total time=   0.2s\n",
      "[CV 5/5] END criterion=entropy, max_depth=5, min_samples_leaf=1, min_samples_split=6, n_estimators=100, random_state=12; total time=   0.2s\n",
      "[CV 1/5] END criterion=entropy, max_depth=5, min_samples_leaf=2, min_samples_split=4, n_estimators=15, random_state=12; total time=   0.0s\n",
      "[CV 2/5] END criterion=entropy, max_depth=5, min_samples_leaf=2, min_samples_split=4, n_estimators=15, random_state=12; total time=   0.0s\n",
      "[CV 3/5] END criterion=entropy, max_depth=5, min_samples_leaf=2, min_samples_split=4, n_estimators=15, random_state=12; total time=   0.0s\n",
      "[CV 4/5] END criterion=entropy, max_depth=5, min_samples_leaf=2, min_samples_split=4, n_estimators=15, random_state=12; total time=   0.0s\n",
      "[CV 5/5] END criterion=entropy, max_depth=5, min_samples_leaf=2, min_samples_split=4, n_estimators=15, random_state=12; total time=   0.0s\n",
      "[CV 1/5] END criterion=entropy, max_depth=5, min_samples_leaf=2, min_samples_split=4, n_estimators=25, random_state=12; total time=   0.0s\n",
      "[CV 2/5] END criterion=entropy, max_depth=5, min_samples_leaf=2, min_samples_split=4, n_estimators=25, random_state=12; total time=   0.0s\n",
      "[CV 3/5] END criterion=entropy, max_depth=5, min_samples_leaf=2, min_samples_split=4, n_estimators=25, random_state=12; total time=   0.0s\n",
      "[CV 4/5] END criterion=entropy, max_depth=5, min_samples_leaf=2, min_samples_split=4, n_estimators=25, random_state=12; total time=   0.0s\n",
      "[CV 5/5] END criterion=entropy, max_depth=5, min_samples_leaf=2, min_samples_split=4, n_estimators=25, random_state=12; total time=   0.0s\n",
      "[CV 1/5] END criterion=entropy, max_depth=5, min_samples_leaf=2, min_samples_split=4, n_estimators=50, random_state=12; total time=   0.0s\n",
      "[CV 2/5] END criterion=entropy, max_depth=5, min_samples_leaf=2, min_samples_split=4, n_estimators=50, random_state=12; total time=   0.0s\n",
      "[CV 3/5] END criterion=entropy, max_depth=5, min_samples_leaf=2, min_samples_split=4, n_estimators=50, random_state=12; total time=   0.0s\n",
      "[CV 4/5] END criterion=entropy, max_depth=5, min_samples_leaf=2, min_samples_split=4, n_estimators=50, random_state=12; total time=   0.0s\n"
     ]
    },
    {
     "name": "stdout",
     "output_type": "stream",
     "text": [
      "[CV 5/5] END criterion=entropy, max_depth=5, min_samples_leaf=2, min_samples_split=4, n_estimators=50, random_state=12; total time=   0.1s\n",
      "[CV 1/5] END criterion=entropy, max_depth=5, min_samples_leaf=2, min_samples_split=4, n_estimators=100, random_state=12; total time=   0.2s\n",
      "[CV 2/5] END criterion=entropy, max_depth=5, min_samples_leaf=2, min_samples_split=4, n_estimators=100, random_state=12; total time=   0.1s\n",
      "[CV 3/5] END criterion=entropy, max_depth=5, min_samples_leaf=2, min_samples_split=4, n_estimators=100, random_state=12; total time=   0.1s\n",
      "[CV 4/5] END criterion=entropy, max_depth=5, min_samples_leaf=2, min_samples_split=4, n_estimators=100, random_state=12; total time=   0.2s\n",
      "[CV 5/5] END criterion=entropy, max_depth=5, min_samples_leaf=2, min_samples_split=4, n_estimators=100, random_state=12; total time=   0.2s\n",
      "[CV 1/5] END criterion=entropy, max_depth=5, min_samples_leaf=2, min_samples_split=5, n_estimators=15, random_state=12; total time=   0.0s\n",
      "[CV 2/5] END criterion=entropy, max_depth=5, min_samples_leaf=2, min_samples_split=5, n_estimators=15, random_state=12; total time=   0.0s\n",
      "[CV 3/5] END criterion=entropy, max_depth=5, min_samples_leaf=2, min_samples_split=5, n_estimators=15, random_state=12; total time=   0.0s\n",
      "[CV 4/5] END criterion=entropy, max_depth=5, min_samples_leaf=2, min_samples_split=5, n_estimators=15, random_state=12; total time=   0.0s\n",
      "[CV 5/5] END criterion=entropy, max_depth=5, min_samples_leaf=2, min_samples_split=5, n_estimators=15, random_state=12; total time=   0.0s\n",
      "[CV 1/5] END criterion=entropy, max_depth=5, min_samples_leaf=2, min_samples_split=5, n_estimators=25, random_state=12; total time=   0.0s\n",
      "[CV 2/5] END criterion=entropy, max_depth=5, min_samples_leaf=2, min_samples_split=5, n_estimators=25, random_state=12; total time=   0.0s\n",
      "[CV 3/5] END criterion=entropy, max_depth=5, min_samples_leaf=2, min_samples_split=5, n_estimators=25, random_state=12; total time=   0.0s\n",
      "[CV 4/5] END criterion=entropy, max_depth=5, min_samples_leaf=2, min_samples_split=5, n_estimators=25, random_state=12; total time=   0.0s\n",
      "[CV 5/5] END criterion=entropy, max_depth=5, min_samples_leaf=2, min_samples_split=5, n_estimators=25, random_state=12; total time=   0.0s\n",
      "[CV 1/5] END criterion=entropy, max_depth=5, min_samples_leaf=2, min_samples_split=5, n_estimators=50, random_state=12; total time=   0.0s\n",
      "[CV 2/5] END criterion=entropy, max_depth=5, min_samples_leaf=2, min_samples_split=5, n_estimators=50, random_state=12; total time=   0.0s\n",
      "[CV 3/5] END criterion=entropy, max_depth=5, min_samples_leaf=2, min_samples_split=5, n_estimators=50, random_state=12; total time=   0.0s\n",
      "[CV 4/5] END criterion=entropy, max_depth=5, min_samples_leaf=2, min_samples_split=5, n_estimators=50, random_state=12; total time=   0.0s\n",
      "[CV 5/5] END criterion=entropy, max_depth=5, min_samples_leaf=2, min_samples_split=5, n_estimators=50, random_state=12; total time=   0.0s\n",
      "[CV 1/5] END criterion=entropy, max_depth=5, min_samples_leaf=2, min_samples_split=5, n_estimators=100, random_state=12; total time=   0.2s\n",
      "[CV 2/5] END criterion=entropy, max_depth=5, min_samples_leaf=2, min_samples_split=5, n_estimators=100, random_state=12; total time=   0.1s\n",
      "[CV 3/5] END criterion=entropy, max_depth=5, min_samples_leaf=2, min_samples_split=5, n_estimators=100, random_state=12; total time=   0.1s\n",
      "[CV 4/5] END criterion=entropy, max_depth=5, min_samples_leaf=2, min_samples_split=5, n_estimators=100, random_state=12; total time=   0.2s\n",
      "[CV 5/5] END criterion=entropy, max_depth=5, min_samples_leaf=2, min_samples_split=5, n_estimators=100, random_state=12; total time=   0.2s\n",
      "[CV 1/5] END criterion=entropy, max_depth=5, min_samples_leaf=2, min_samples_split=6, n_estimators=15, random_state=12; total time=   0.0s\n",
      "[CV 2/5] END criterion=entropy, max_depth=5, min_samples_leaf=2, min_samples_split=6, n_estimators=15, random_state=12; total time=   0.0s\n",
      "[CV 3/5] END criterion=entropy, max_depth=5, min_samples_leaf=2, min_samples_split=6, n_estimators=15, random_state=12; total time=   0.0s\n",
      "[CV 4/5] END criterion=entropy, max_depth=5, min_samples_leaf=2, min_samples_split=6, n_estimators=15, random_state=12; total time=   0.0s\n",
      "[CV 5/5] END criterion=entropy, max_depth=5, min_samples_leaf=2, min_samples_split=6, n_estimators=15, random_state=12; total time=   0.0s\n",
      "[CV 1/5] END criterion=entropy, max_depth=5, min_samples_leaf=2, min_samples_split=6, n_estimators=25, random_state=12; total time=   0.0s\n",
      "[CV 2/5] END criterion=entropy, max_depth=5, min_samples_leaf=2, min_samples_split=6, n_estimators=25, random_state=12; total time=   0.0s\n",
      "[CV 3/5] END criterion=entropy, max_depth=5, min_samples_leaf=2, min_samples_split=6, n_estimators=25, random_state=12; total time=   0.0s\n",
      "[CV 4/5] END criterion=entropy, max_depth=5, min_samples_leaf=2, min_samples_split=6, n_estimators=25, random_state=12; total time=   0.0s\n",
      "[CV 5/5] END criterion=entropy, max_depth=5, min_samples_leaf=2, min_samples_split=6, n_estimators=25, random_state=12; total time=   0.0s\n",
      "[CV 1/5] END criterion=entropy, max_depth=5, min_samples_leaf=2, min_samples_split=6, n_estimators=50, random_state=12; total time=   0.0s\n",
      "[CV 2/5] END criterion=entropy, max_depth=5, min_samples_leaf=2, min_samples_split=6, n_estimators=50, random_state=12; total time=   0.0s\n",
      "[CV 3/5] END criterion=entropy, max_depth=5, min_samples_leaf=2, min_samples_split=6, n_estimators=50, random_state=12; total time=   0.0s\n",
      "[CV 4/5] END criterion=entropy, max_depth=5, min_samples_leaf=2, min_samples_split=6, n_estimators=50, random_state=12; total time=   0.0s\n",
      "[CV 5/5] END criterion=entropy, max_depth=5, min_samples_leaf=2, min_samples_split=6, n_estimators=50, random_state=12; total time=   0.0s\n",
      "[CV 1/5] END criterion=entropy, max_depth=5, min_samples_leaf=2, min_samples_split=6, n_estimators=100, random_state=12; total time=   0.1s\n",
      "[CV 2/5] END criterion=entropy, max_depth=5, min_samples_leaf=2, min_samples_split=6, n_estimators=100, random_state=12; total time=   0.1s\n",
      "[CV 3/5] END criterion=entropy, max_depth=5, min_samples_leaf=2, min_samples_split=6, n_estimators=100, random_state=12; total time=   0.1s\n",
      "[CV 4/5] END criterion=entropy, max_depth=5, min_samples_leaf=2, min_samples_split=6, n_estimators=100, random_state=12; total time=   0.2s\n",
      "[CV 5/5] END criterion=entropy, max_depth=5, min_samples_leaf=2, min_samples_split=6, n_estimators=100, random_state=12; total time=   0.2s\n",
      "[CV 1/5] END criterion=entropy, max_depth=5, min_samples_leaf=3, min_samples_split=4, n_estimators=15, random_state=12; total time=   0.0s\n",
      "[CV 2/5] END criterion=entropy, max_depth=5, min_samples_leaf=3, min_samples_split=4, n_estimators=15, random_state=12; total time=   0.0s\n",
      "[CV 3/5] END criterion=entropy, max_depth=5, min_samples_leaf=3, min_samples_split=4, n_estimators=15, random_state=12; total time=   0.0s\n",
      "[CV 4/5] END criterion=entropy, max_depth=5, min_samples_leaf=3, min_samples_split=4, n_estimators=15, random_state=12; total time=   0.0s\n",
      "[CV 5/5] END criterion=entropy, max_depth=5, min_samples_leaf=3, min_samples_split=4, n_estimators=15, random_state=12; total time=   0.0s\n",
      "[CV 1/5] END criterion=entropy, max_depth=5, min_samples_leaf=3, min_samples_split=4, n_estimators=25, random_state=12; total time=   0.0s\n",
      "[CV 2/5] END criterion=entropy, max_depth=5, min_samples_leaf=3, min_samples_split=4, n_estimators=25, random_state=12; total time=   0.0s\n",
      "[CV 3/5] END criterion=entropy, max_depth=5, min_samples_leaf=3, min_samples_split=4, n_estimators=25, random_state=12; total time=   0.0s\n",
      "[CV 4/5] END criterion=entropy, max_depth=5, min_samples_leaf=3, min_samples_split=4, n_estimators=25, random_state=12; total time=   0.0s\n",
      "[CV 5/5] END criterion=entropy, max_depth=5, min_samples_leaf=3, min_samples_split=4, n_estimators=25, random_state=12; total time=   0.0s\n",
      "[CV 1/5] END criterion=entropy, max_depth=5, min_samples_leaf=3, min_samples_split=4, n_estimators=50, random_state=12; total time=   0.0s\n",
      "[CV 2/5] END criterion=entropy, max_depth=5, min_samples_leaf=3, min_samples_split=4, n_estimators=50, random_state=12; total time=   0.0s\n",
      "[CV 3/5] END criterion=entropy, max_depth=5, min_samples_leaf=3, min_samples_split=4, n_estimators=50, random_state=12; total time=   0.0s\n"
     ]
    },
    {
     "name": "stdout",
     "output_type": "stream",
     "text": [
      "[CV 4/5] END criterion=entropy, max_depth=5, min_samples_leaf=3, min_samples_split=4, n_estimators=50, random_state=12; total time=   0.0s\n",
      "[CV 5/5] END criterion=entropy, max_depth=5, min_samples_leaf=3, min_samples_split=4, n_estimators=50, random_state=12; total time=   0.0s\n",
      "[CV 1/5] END criterion=entropy, max_depth=5, min_samples_leaf=3, min_samples_split=4, n_estimators=100, random_state=12; total time=   0.2s\n",
      "[CV 2/5] END criterion=entropy, max_depth=5, min_samples_leaf=3, min_samples_split=4, n_estimators=100, random_state=12; total time=   0.1s\n",
      "[CV 3/5] END criterion=entropy, max_depth=5, min_samples_leaf=3, min_samples_split=4, n_estimators=100, random_state=12; total time=   0.2s\n",
      "[CV 4/5] END criterion=entropy, max_depth=5, min_samples_leaf=3, min_samples_split=4, n_estimators=100, random_state=12; total time=   0.2s\n",
      "[CV 5/5] END criterion=entropy, max_depth=5, min_samples_leaf=3, min_samples_split=4, n_estimators=100, random_state=12; total time=   0.2s\n",
      "[CV 1/5] END criterion=entropy, max_depth=5, min_samples_leaf=3, min_samples_split=5, n_estimators=15, random_state=12; total time=   0.0s\n",
      "[CV 2/5] END criterion=entropy, max_depth=5, min_samples_leaf=3, min_samples_split=5, n_estimators=15, random_state=12; total time=   0.0s\n",
      "[CV 3/5] END criterion=entropy, max_depth=5, min_samples_leaf=3, min_samples_split=5, n_estimators=15, random_state=12; total time=   0.0s\n",
      "[CV 4/5] END criterion=entropy, max_depth=5, min_samples_leaf=3, min_samples_split=5, n_estimators=15, random_state=12; total time=   0.0s\n",
      "[CV 5/5] END criterion=entropy, max_depth=5, min_samples_leaf=3, min_samples_split=5, n_estimators=15, random_state=12; total time=   0.0s\n",
      "[CV 1/5] END criterion=entropy, max_depth=5, min_samples_leaf=3, min_samples_split=5, n_estimators=25, random_state=12; total time=   0.0s\n",
      "[CV 2/5] END criterion=entropy, max_depth=5, min_samples_leaf=3, min_samples_split=5, n_estimators=25, random_state=12; total time=   0.0s\n",
      "[CV 3/5] END criterion=entropy, max_depth=5, min_samples_leaf=3, min_samples_split=5, n_estimators=25, random_state=12; total time=   0.0s\n",
      "[CV 4/5] END criterion=entropy, max_depth=5, min_samples_leaf=3, min_samples_split=5, n_estimators=25, random_state=12; total time=   0.0s\n",
      "[CV 5/5] END criterion=entropy, max_depth=5, min_samples_leaf=3, min_samples_split=5, n_estimators=25, random_state=12; total time=   0.1s\n",
      "[CV 1/5] END criterion=entropy, max_depth=5, min_samples_leaf=3, min_samples_split=5, n_estimators=50, random_state=12; total time=   0.1s\n",
      "[CV 2/5] END criterion=entropy, max_depth=5, min_samples_leaf=3, min_samples_split=5, n_estimators=50, random_state=12; total time=   0.1s\n",
      "[CV 3/5] END criterion=entropy, max_depth=5, min_samples_leaf=3, min_samples_split=5, n_estimators=50, random_state=12; total time=   0.1s\n",
      "[CV 4/5] END criterion=entropy, max_depth=5, min_samples_leaf=3, min_samples_split=5, n_estimators=50, random_state=12; total time=   0.1s\n",
      "[CV 5/5] END criterion=entropy, max_depth=5, min_samples_leaf=3, min_samples_split=5, n_estimators=50, random_state=12; total time=   0.1s\n",
      "[CV 1/5] END criterion=entropy, max_depth=5, min_samples_leaf=3, min_samples_split=5, n_estimators=100, random_state=12; total time=   0.2s\n",
      "[CV 2/5] END criterion=entropy, max_depth=5, min_samples_leaf=3, min_samples_split=5, n_estimators=100, random_state=12; total time=   0.2s\n",
      "[CV 3/5] END criterion=entropy, max_depth=5, min_samples_leaf=3, min_samples_split=5, n_estimators=100, random_state=12; total time=   0.3s\n",
      "[CV 4/5] END criterion=entropy, max_depth=5, min_samples_leaf=3, min_samples_split=5, n_estimators=100, random_state=12; total time=   0.2s\n",
      "[CV 5/5] END criterion=entropy, max_depth=5, min_samples_leaf=3, min_samples_split=5, n_estimators=100, random_state=12; total time=   0.2s\n",
      "[CV 1/5] END criterion=entropy, max_depth=5, min_samples_leaf=3, min_samples_split=6, n_estimators=15, random_state=12; total time=   0.0s\n",
      "[CV 2/5] END criterion=entropy, max_depth=5, min_samples_leaf=3, min_samples_split=6, n_estimators=15, random_state=12; total time=   0.0s\n",
      "[CV 3/5] END criterion=entropy, max_depth=5, min_samples_leaf=3, min_samples_split=6, n_estimators=15, random_state=12; total time=   0.0s\n",
      "[CV 4/5] END criterion=entropy, max_depth=5, min_samples_leaf=3, min_samples_split=6, n_estimators=15, random_state=12; total time=   0.0s\n",
      "[CV 5/5] END criterion=entropy, max_depth=5, min_samples_leaf=3, min_samples_split=6, n_estimators=15, random_state=12; total time=   0.0s\n",
      "[CV 1/5] END criterion=entropy, max_depth=5, min_samples_leaf=3, min_samples_split=6, n_estimators=25, random_state=12; total time=   0.0s\n",
      "[CV 2/5] END criterion=entropy, max_depth=5, min_samples_leaf=3, min_samples_split=6, n_estimators=25, random_state=12; total time=   0.0s\n",
      "[CV 3/5] END criterion=entropy, max_depth=5, min_samples_leaf=3, min_samples_split=6, n_estimators=25, random_state=12; total time=   0.0s\n",
      "[CV 4/5] END criterion=entropy, max_depth=5, min_samples_leaf=3, min_samples_split=6, n_estimators=25, random_state=12; total time=   0.0s\n",
      "[CV 5/5] END criterion=entropy, max_depth=5, min_samples_leaf=3, min_samples_split=6, n_estimators=25, random_state=12; total time=   0.0s\n",
      "[CV 1/5] END criterion=entropy, max_depth=5, min_samples_leaf=3, min_samples_split=6, n_estimators=50, random_state=12; total time=   0.0s\n",
      "[CV 2/5] END criterion=entropy, max_depth=5, min_samples_leaf=3, min_samples_split=6, n_estimators=50, random_state=12; total time=   0.0s\n",
      "[CV 3/5] END criterion=entropy, max_depth=5, min_samples_leaf=3, min_samples_split=6, n_estimators=50, random_state=12; total time=   0.1s\n",
      "[CV 4/5] END criterion=entropy, max_depth=5, min_samples_leaf=3, min_samples_split=6, n_estimators=50, random_state=12; total time=   0.0s\n",
      "[CV 5/5] END criterion=entropy, max_depth=5, min_samples_leaf=3, min_samples_split=6, n_estimators=50, random_state=12; total time=   0.0s\n",
      "[CV 1/5] END criterion=entropy, max_depth=5, min_samples_leaf=3, min_samples_split=6, n_estimators=100, random_state=12; total time=   0.2s\n",
      "[CV 2/5] END criterion=entropy, max_depth=5, min_samples_leaf=3, min_samples_split=6, n_estimators=100, random_state=12; total time=   0.2s\n",
      "[CV 3/5] END criterion=entropy, max_depth=5, min_samples_leaf=3, min_samples_split=6, n_estimators=100, random_state=12; total time=   0.2s\n",
      "[CV 4/5] END criterion=entropy, max_depth=5, min_samples_leaf=3, min_samples_split=6, n_estimators=100, random_state=12; total time=   0.2s\n",
      "[CV 5/5] END criterion=entropy, max_depth=5, min_samples_leaf=3, min_samples_split=6, n_estimators=100, random_state=12; total time=   0.2s\n",
      "[CV 1/5] END criterion=entropy, max_depth=5, min_samples_leaf=4, min_samples_split=4, n_estimators=15, random_state=12; total time=   0.0s\n",
      "[CV 2/5] END criterion=entropy, max_depth=5, min_samples_leaf=4, min_samples_split=4, n_estimators=15, random_state=12; total time=   0.0s\n",
      "[CV 3/5] END criterion=entropy, max_depth=5, min_samples_leaf=4, min_samples_split=4, n_estimators=15, random_state=12; total time=   0.0s\n",
      "[CV 4/5] END criterion=entropy, max_depth=5, min_samples_leaf=4, min_samples_split=4, n_estimators=15, random_state=12; total time=   0.0s\n",
      "[CV 5/5] END criterion=entropy, max_depth=5, min_samples_leaf=4, min_samples_split=4, n_estimators=15, random_state=12; total time=   0.0s\n",
      "[CV 1/5] END criterion=entropy, max_depth=5, min_samples_leaf=4, min_samples_split=4, n_estimators=25, random_state=12; total time=   0.0s\n",
      "[CV 2/5] END criterion=entropy, max_depth=5, min_samples_leaf=4, min_samples_split=4, n_estimators=25, random_state=12; total time=   0.0s\n",
      "[CV 3/5] END criterion=entropy, max_depth=5, min_samples_leaf=4, min_samples_split=4, n_estimators=25, random_state=12; total time=   0.0s\n",
      "[CV 4/5] END criterion=entropy, max_depth=5, min_samples_leaf=4, min_samples_split=4, n_estimators=25, random_state=12; total time=   0.0s\n",
      "[CV 5/5] END criterion=entropy, max_depth=5, min_samples_leaf=4, min_samples_split=4, n_estimators=25, random_state=12; total time=   0.0s\n",
      "[CV 1/5] END criterion=entropy, max_depth=5, min_samples_leaf=4, min_samples_split=4, n_estimators=50, random_state=12; total time=   0.1s\n",
      "[CV 2/5] END criterion=entropy, max_depth=5, min_samples_leaf=4, min_samples_split=4, n_estimators=50, random_state=12; total time=   0.1s\n",
      "[CV 3/5] END criterion=entropy, max_depth=5, min_samples_leaf=4, min_samples_split=4, n_estimators=50, random_state=12; total time=   0.1s\n"
     ]
    },
    {
     "name": "stdout",
     "output_type": "stream",
     "text": [
      "[CV 4/5] END criterion=entropy, max_depth=5, min_samples_leaf=4, min_samples_split=4, n_estimators=50, random_state=12; total time=   0.1s\n",
      "[CV 5/5] END criterion=entropy, max_depth=5, min_samples_leaf=4, min_samples_split=4, n_estimators=50, random_state=12; total time=   0.1s\n",
      "[CV 1/5] END criterion=entropy, max_depth=5, min_samples_leaf=4, min_samples_split=4, n_estimators=100, random_state=12; total time=   0.2s\n",
      "[CV 2/5] END criterion=entropy, max_depth=5, min_samples_leaf=4, min_samples_split=4, n_estimators=100, random_state=12; total time=   0.2s\n",
      "[CV 3/5] END criterion=entropy, max_depth=5, min_samples_leaf=4, min_samples_split=4, n_estimators=100, random_state=12; total time=   0.2s\n",
      "[CV 4/5] END criterion=entropy, max_depth=5, min_samples_leaf=4, min_samples_split=4, n_estimators=100, random_state=12; total time=   0.2s\n",
      "[CV 5/5] END criterion=entropy, max_depth=5, min_samples_leaf=4, min_samples_split=4, n_estimators=100, random_state=12; total time=   0.2s\n",
      "[CV 1/5] END criterion=entropy, max_depth=5, min_samples_leaf=4, min_samples_split=5, n_estimators=15, random_state=12; total time=   0.0s\n",
      "[CV 2/5] END criterion=entropy, max_depth=5, min_samples_leaf=4, min_samples_split=5, n_estimators=15, random_state=12; total time=   0.0s\n",
      "[CV 3/5] END criterion=entropy, max_depth=5, min_samples_leaf=4, min_samples_split=5, n_estimators=15, random_state=12; total time=   0.0s\n",
      "[CV 4/5] END criterion=entropy, max_depth=5, min_samples_leaf=4, min_samples_split=5, n_estimators=15, random_state=12; total time=   0.0s\n",
      "[CV 5/5] END criterion=entropy, max_depth=5, min_samples_leaf=4, min_samples_split=5, n_estimators=15, random_state=12; total time=   0.0s\n",
      "[CV 1/5] END criterion=entropy, max_depth=5, min_samples_leaf=4, min_samples_split=5, n_estimators=25, random_state=12; total time=   0.0s\n",
      "[CV 2/5] END criterion=entropy, max_depth=5, min_samples_leaf=4, min_samples_split=5, n_estimators=25, random_state=12; total time=   0.0s\n",
      "[CV 3/5] END criterion=entropy, max_depth=5, min_samples_leaf=4, min_samples_split=5, n_estimators=25, random_state=12; total time=   0.0s\n",
      "[CV 4/5] END criterion=entropy, max_depth=5, min_samples_leaf=4, min_samples_split=5, n_estimators=25, random_state=12; total time=   0.0s\n",
      "[CV 5/5] END criterion=entropy, max_depth=5, min_samples_leaf=4, min_samples_split=5, n_estimators=25, random_state=12; total time=   0.0s\n",
      "[CV 1/5] END criterion=entropy, max_depth=5, min_samples_leaf=4, min_samples_split=5, n_estimators=50, random_state=12; total time=   0.1s\n",
      "[CV 2/5] END criterion=entropy, max_depth=5, min_samples_leaf=4, min_samples_split=5, n_estimators=50, random_state=12; total time=   0.1s\n",
      "[CV 3/5] END criterion=entropy, max_depth=5, min_samples_leaf=4, min_samples_split=5, n_estimators=50, random_state=12; total time=   0.1s\n",
      "[CV 4/5] END criterion=entropy, max_depth=5, min_samples_leaf=4, min_samples_split=5, n_estimators=50, random_state=12; total time=   0.1s\n",
      "[CV 5/5] END criterion=entropy, max_depth=5, min_samples_leaf=4, min_samples_split=5, n_estimators=50, random_state=12; total time=   0.1s\n",
      "[CV 1/5] END criterion=entropy, max_depth=5, min_samples_leaf=4, min_samples_split=5, n_estimators=100, random_state=12; total time=   0.2s\n",
      "[CV 2/5] END criterion=entropy, max_depth=5, min_samples_leaf=4, min_samples_split=5, n_estimators=100, random_state=12; total time=   0.2s\n",
      "[CV 3/5] END criterion=entropy, max_depth=5, min_samples_leaf=4, min_samples_split=5, n_estimators=100, random_state=12; total time=   0.2s\n",
      "[CV 4/5] END criterion=entropy, max_depth=5, min_samples_leaf=4, min_samples_split=5, n_estimators=100, random_state=12; total time=   0.2s\n",
      "[CV 5/5] END criterion=entropy, max_depth=5, min_samples_leaf=4, min_samples_split=5, n_estimators=100, random_state=12; total time=   0.2s\n",
      "[CV 1/5] END criterion=entropy, max_depth=5, min_samples_leaf=4, min_samples_split=6, n_estimators=15, random_state=12; total time=   0.0s\n",
      "[CV 2/5] END criterion=entropy, max_depth=5, min_samples_leaf=4, min_samples_split=6, n_estimators=15, random_state=12; total time=   0.0s\n",
      "[CV 3/5] END criterion=entropy, max_depth=5, min_samples_leaf=4, min_samples_split=6, n_estimators=15, random_state=12; total time=   0.0s\n",
      "[CV 4/5] END criterion=entropy, max_depth=5, min_samples_leaf=4, min_samples_split=6, n_estimators=15, random_state=12; total time=   0.0s\n",
      "[CV 5/5] END criterion=entropy, max_depth=5, min_samples_leaf=4, min_samples_split=6, n_estimators=15, random_state=12; total time=   0.0s\n",
      "[CV 1/5] END criterion=entropy, max_depth=5, min_samples_leaf=4, min_samples_split=6, n_estimators=25, random_state=12; total time=   0.0s\n",
      "[CV 2/5] END criterion=entropy, max_depth=5, min_samples_leaf=4, min_samples_split=6, n_estimators=25, random_state=12; total time=   0.0s\n",
      "[CV 3/5] END criterion=entropy, max_depth=5, min_samples_leaf=4, min_samples_split=6, n_estimators=25, random_state=12; total time=   0.0s\n",
      "[CV 4/5] END criterion=entropy, max_depth=5, min_samples_leaf=4, min_samples_split=6, n_estimators=25, random_state=12; total time=   0.0s\n",
      "[CV 5/5] END criterion=entropy, max_depth=5, min_samples_leaf=4, min_samples_split=6, n_estimators=25, random_state=12; total time=   0.0s\n",
      "[CV 1/5] END criterion=entropy, max_depth=5, min_samples_leaf=4, min_samples_split=6, n_estimators=50, random_state=12; total time=   0.1s\n",
      "[CV 2/5] END criterion=entropy, max_depth=5, min_samples_leaf=4, min_samples_split=6, n_estimators=50, random_state=12; total time=   0.0s\n",
      "[CV 3/5] END criterion=entropy, max_depth=5, min_samples_leaf=4, min_samples_split=6, n_estimators=50, random_state=12; total time=   0.1s\n",
      "[CV 4/5] END criterion=entropy, max_depth=5, min_samples_leaf=4, min_samples_split=6, n_estimators=50, random_state=12; total time=   0.1s\n",
      "[CV 5/5] END criterion=entropy, max_depth=5, min_samples_leaf=4, min_samples_split=6, n_estimators=50, random_state=12; total time=   0.1s\n",
      "[CV 1/5] END criterion=entropy, max_depth=5, min_samples_leaf=4, min_samples_split=6, n_estimators=100, random_state=12; total time=   0.2s\n",
      "[CV 2/5] END criterion=entropy, max_depth=5, min_samples_leaf=4, min_samples_split=6, n_estimators=100, random_state=12; total time=   0.2s\n",
      "[CV 3/5] END criterion=entropy, max_depth=5, min_samples_leaf=4, min_samples_split=6, n_estimators=100, random_state=12; total time=   0.2s\n",
      "[CV 4/5] END criterion=entropy, max_depth=5, min_samples_leaf=4, min_samples_split=6, n_estimators=100, random_state=12; total time=   0.2s\n",
      "[CV 5/5] END criterion=entropy, max_depth=5, min_samples_leaf=4, min_samples_split=6, n_estimators=100, random_state=12; total time=   0.2s\n",
      "[CV 1/5] END criterion=entropy, max_depth=6, min_samples_leaf=1, min_samples_split=4, n_estimators=15, random_state=12; total time=   0.0s\n",
      "[CV 2/5] END criterion=entropy, max_depth=6, min_samples_leaf=1, min_samples_split=4, n_estimators=15, random_state=12; total time=   0.0s\n",
      "[CV 3/5] END criterion=entropy, max_depth=6, min_samples_leaf=1, min_samples_split=4, n_estimators=15, random_state=12; total time=   0.0s\n",
      "[CV 4/5] END criterion=entropy, max_depth=6, min_samples_leaf=1, min_samples_split=4, n_estimators=15, random_state=12; total time=   0.0s\n",
      "[CV 5/5] END criterion=entropy, max_depth=6, min_samples_leaf=1, min_samples_split=4, n_estimators=15, random_state=12; total time=   0.0s\n",
      "[CV 1/5] END criterion=entropy, max_depth=6, min_samples_leaf=1, min_samples_split=4, n_estimators=25, random_state=12; total time=   0.0s\n",
      "[CV 2/5] END criterion=entropy, max_depth=6, min_samples_leaf=1, min_samples_split=4, n_estimators=25, random_state=12; total time=   0.0s\n",
      "[CV 3/5] END criterion=entropy, max_depth=6, min_samples_leaf=1, min_samples_split=4, n_estimators=25, random_state=12; total time=   0.0s\n",
      "[CV 4/5] END criterion=entropy, max_depth=6, min_samples_leaf=1, min_samples_split=4, n_estimators=25, random_state=12; total time=   0.0s\n",
      "[CV 5/5] END criterion=entropy, max_depth=6, min_samples_leaf=1, min_samples_split=4, n_estimators=25, random_state=12; total time=   0.0s\n",
      "[CV 1/5] END criterion=entropy, max_depth=6, min_samples_leaf=1, min_samples_split=4, n_estimators=50, random_state=12; total time=   0.1s\n",
      "[CV 2/5] END criterion=entropy, max_depth=6, min_samples_leaf=1, min_samples_split=4, n_estimators=50, random_state=12; total time=   0.1s\n"
     ]
    },
    {
     "name": "stdout",
     "output_type": "stream",
     "text": [
      "[CV 3/5] END criterion=entropy, max_depth=6, min_samples_leaf=1, min_samples_split=4, n_estimators=50, random_state=12; total time=   0.1s\n",
      "[CV 4/5] END criterion=entropy, max_depth=6, min_samples_leaf=1, min_samples_split=4, n_estimators=50, random_state=12; total time=   0.1s\n",
      "[CV 5/5] END criterion=entropy, max_depth=6, min_samples_leaf=1, min_samples_split=4, n_estimators=50, random_state=12; total time=   0.1s\n",
      "[CV 1/5] END criterion=entropy, max_depth=6, min_samples_leaf=1, min_samples_split=4, n_estimators=100, random_state=12; total time=   0.2s\n",
      "[CV 2/5] END criterion=entropy, max_depth=6, min_samples_leaf=1, min_samples_split=4, n_estimators=100, random_state=12; total time=   0.2s\n",
      "[CV 3/5] END criterion=entropy, max_depth=6, min_samples_leaf=1, min_samples_split=4, n_estimators=100, random_state=12; total time=   0.2s\n",
      "[CV 4/5] END criterion=entropy, max_depth=6, min_samples_leaf=1, min_samples_split=4, n_estimators=100, random_state=12; total time=   0.2s\n",
      "[CV 5/5] END criterion=entropy, max_depth=6, min_samples_leaf=1, min_samples_split=4, n_estimators=100, random_state=12; total time=   0.2s\n",
      "[CV 1/5] END criterion=entropy, max_depth=6, min_samples_leaf=1, min_samples_split=5, n_estimators=15, random_state=12; total time=   0.0s\n",
      "[CV 2/5] END criterion=entropy, max_depth=6, min_samples_leaf=1, min_samples_split=5, n_estimators=15, random_state=12; total time=   0.0s\n",
      "[CV 3/5] END criterion=entropy, max_depth=6, min_samples_leaf=1, min_samples_split=5, n_estimators=15, random_state=12; total time=   0.0s\n",
      "[CV 4/5] END criterion=entropy, max_depth=6, min_samples_leaf=1, min_samples_split=5, n_estimators=15, random_state=12; total time=   0.0s\n",
      "[CV 5/5] END criterion=entropy, max_depth=6, min_samples_leaf=1, min_samples_split=5, n_estimators=15, random_state=12; total time=   0.0s\n",
      "[CV 1/5] END criterion=entropy, max_depth=6, min_samples_leaf=1, min_samples_split=5, n_estimators=25, random_state=12; total time=   0.0s\n",
      "[CV 2/5] END criterion=entropy, max_depth=6, min_samples_leaf=1, min_samples_split=5, n_estimators=25, random_state=12; total time=   0.0s\n",
      "[CV 3/5] END criterion=entropy, max_depth=6, min_samples_leaf=1, min_samples_split=5, n_estimators=25, random_state=12; total time=   0.0s\n",
      "[CV 4/5] END criterion=entropy, max_depth=6, min_samples_leaf=1, min_samples_split=5, n_estimators=25, random_state=12; total time=   0.0s\n",
      "[CV 5/5] END criterion=entropy, max_depth=6, min_samples_leaf=1, min_samples_split=5, n_estimators=25, random_state=12; total time=   0.0s\n",
      "[CV 1/5] END criterion=entropy, max_depth=6, min_samples_leaf=1, min_samples_split=5, n_estimators=50, random_state=12; total time=   0.1s\n",
      "[CV 2/5] END criterion=entropy, max_depth=6, min_samples_leaf=1, min_samples_split=5, n_estimators=50, random_state=12; total time=   0.1s\n",
      "[CV 3/5] END criterion=entropy, max_depth=6, min_samples_leaf=1, min_samples_split=5, n_estimators=50, random_state=12; total time=   0.1s\n",
      "[CV 4/5] END criterion=entropy, max_depth=6, min_samples_leaf=1, min_samples_split=5, n_estimators=50, random_state=12; total time=   0.1s\n",
      "[CV 5/5] END criterion=entropy, max_depth=6, min_samples_leaf=1, min_samples_split=5, n_estimators=50, random_state=12; total time=   0.1s\n",
      "[CV 1/5] END criterion=entropy, max_depth=6, min_samples_leaf=1, min_samples_split=5, n_estimators=100, random_state=12; total time=   0.2s\n",
      "[CV 2/5] END criterion=entropy, max_depth=6, min_samples_leaf=1, min_samples_split=5, n_estimators=100, random_state=12; total time=   0.2s\n",
      "[CV 3/5] END criterion=entropy, max_depth=6, min_samples_leaf=1, min_samples_split=5, n_estimators=100, random_state=12; total time=   0.2s\n",
      "[CV 4/5] END criterion=entropy, max_depth=6, min_samples_leaf=1, min_samples_split=5, n_estimators=100, random_state=12; total time=   0.2s\n",
      "[CV 5/5] END criterion=entropy, max_depth=6, min_samples_leaf=1, min_samples_split=5, n_estimators=100, random_state=12; total time=   0.2s\n",
      "[CV 1/5] END criterion=entropy, max_depth=6, min_samples_leaf=1, min_samples_split=6, n_estimators=15, random_state=12; total time=   0.0s\n",
      "[CV 2/5] END criterion=entropy, max_depth=6, min_samples_leaf=1, min_samples_split=6, n_estimators=15, random_state=12; total time=   0.0s\n",
      "[CV 3/5] END criterion=entropy, max_depth=6, min_samples_leaf=1, min_samples_split=6, n_estimators=15, random_state=12; total time=   0.0s\n",
      "[CV 4/5] END criterion=entropy, max_depth=6, min_samples_leaf=1, min_samples_split=6, n_estimators=15, random_state=12; total time=   0.0s\n",
      "[CV 5/5] END criterion=entropy, max_depth=6, min_samples_leaf=1, min_samples_split=6, n_estimators=15, random_state=12; total time=   0.0s\n",
      "[CV 1/5] END criterion=entropy, max_depth=6, min_samples_leaf=1, min_samples_split=6, n_estimators=25, random_state=12; total time=   0.0s\n",
      "[CV 2/5] END criterion=entropy, max_depth=6, min_samples_leaf=1, min_samples_split=6, n_estimators=25, random_state=12; total time=   0.0s\n",
      "[CV 3/5] END criterion=entropy, max_depth=6, min_samples_leaf=1, min_samples_split=6, n_estimators=25, random_state=12; total time=   0.0s\n",
      "[CV 4/5] END criterion=entropy, max_depth=6, min_samples_leaf=1, min_samples_split=6, n_estimators=25, random_state=12; total time=   0.0s\n",
      "[CV 5/5] END criterion=entropy, max_depth=6, min_samples_leaf=1, min_samples_split=6, n_estimators=25, random_state=12; total time=   0.0s\n",
      "[CV 1/5] END criterion=entropy, max_depth=6, min_samples_leaf=1, min_samples_split=6, n_estimators=50, random_state=12; total time=   0.1s\n",
      "[CV 2/5] END criterion=entropy, max_depth=6, min_samples_leaf=1, min_samples_split=6, n_estimators=50, random_state=12; total time=   0.0s\n",
      "[CV 3/5] END criterion=entropy, max_depth=6, min_samples_leaf=1, min_samples_split=6, n_estimators=50, random_state=12; total time=   0.1s\n",
      "[CV 4/5] END criterion=entropy, max_depth=6, min_samples_leaf=1, min_samples_split=6, n_estimators=50, random_state=12; total time=   0.1s\n",
      "[CV 5/5] END criterion=entropy, max_depth=6, min_samples_leaf=1, min_samples_split=6, n_estimators=50, random_state=12; total time=   0.1s\n",
      "[CV 1/5] END criterion=entropy, max_depth=6, min_samples_leaf=1, min_samples_split=6, n_estimators=100, random_state=12; total time=   0.2s\n",
      "[CV 2/5] END criterion=entropy, max_depth=6, min_samples_leaf=1, min_samples_split=6, n_estimators=100, random_state=12; total time=   0.2s\n",
      "[CV 3/5] END criterion=entropy, max_depth=6, min_samples_leaf=1, min_samples_split=6, n_estimators=100, random_state=12; total time=   0.2s\n",
      "[CV 4/5] END criterion=entropy, max_depth=6, min_samples_leaf=1, min_samples_split=6, n_estimators=100, random_state=12; total time=   0.2s\n",
      "[CV 5/5] END criterion=entropy, max_depth=6, min_samples_leaf=1, min_samples_split=6, n_estimators=100, random_state=12; total time=   0.2s\n",
      "[CV 1/5] END criterion=entropy, max_depth=6, min_samples_leaf=2, min_samples_split=4, n_estimators=15, random_state=12; total time=   0.0s\n",
      "[CV 2/5] END criterion=entropy, max_depth=6, min_samples_leaf=2, min_samples_split=4, n_estimators=15, random_state=12; total time=   0.0s\n",
      "[CV 3/5] END criterion=entropy, max_depth=6, min_samples_leaf=2, min_samples_split=4, n_estimators=15, random_state=12; total time=   0.0s\n",
      "[CV 4/5] END criterion=entropy, max_depth=6, min_samples_leaf=2, min_samples_split=4, n_estimators=15, random_state=12; total time=   0.0s\n",
      "[CV 5/5] END criterion=entropy, max_depth=6, min_samples_leaf=2, min_samples_split=4, n_estimators=15, random_state=12; total time=   0.0s\n",
      "[CV 1/5] END criterion=entropy, max_depth=6, min_samples_leaf=2, min_samples_split=4, n_estimators=25, random_state=12; total time=   0.0s\n",
      "[CV 2/5] END criterion=entropy, max_depth=6, min_samples_leaf=2, min_samples_split=4, n_estimators=25, random_state=12; total time=   0.0s\n",
      "[CV 3/5] END criterion=entropy, max_depth=6, min_samples_leaf=2, min_samples_split=4, n_estimators=25, random_state=12; total time=   0.0s\n",
      "[CV 4/5] END criterion=entropy, max_depth=6, min_samples_leaf=2, min_samples_split=4, n_estimators=25, random_state=12; total time=   0.0s\n",
      "[CV 5/5] END criterion=entropy, max_depth=6, min_samples_leaf=2, min_samples_split=4, n_estimators=25, random_state=12; total time=   0.0s\n",
      "[CV 1/5] END criterion=entropy, max_depth=6, min_samples_leaf=2, min_samples_split=4, n_estimators=50, random_state=12; total time=   0.1s\n",
      "[CV 2/5] END criterion=entropy, max_depth=6, min_samples_leaf=2, min_samples_split=4, n_estimators=50, random_state=12; total time=   0.1s\n"
     ]
    },
    {
     "name": "stdout",
     "output_type": "stream",
     "text": [
      "[CV 3/5] END criterion=entropy, max_depth=6, min_samples_leaf=2, min_samples_split=4, n_estimators=50, random_state=12; total time=   0.0s\n",
      "[CV 4/5] END criterion=entropy, max_depth=6, min_samples_leaf=2, min_samples_split=4, n_estimators=50, random_state=12; total time=   0.1s\n",
      "[CV 5/5] END criterion=entropy, max_depth=6, min_samples_leaf=2, min_samples_split=4, n_estimators=50, random_state=12; total time=   0.0s\n",
      "[CV 1/5] END criterion=entropy, max_depth=6, min_samples_leaf=2, min_samples_split=4, n_estimators=100, random_state=12; total time=   0.2s\n",
      "[CV 2/5] END criterion=entropy, max_depth=6, min_samples_leaf=2, min_samples_split=4, n_estimators=100, random_state=12; total time=   0.2s\n",
      "[CV 3/5] END criterion=entropy, max_depth=6, min_samples_leaf=2, min_samples_split=4, n_estimators=100, random_state=12; total time=   0.2s\n",
      "[CV 4/5] END criterion=entropy, max_depth=6, min_samples_leaf=2, min_samples_split=4, n_estimators=100, random_state=12; total time=   0.2s\n",
      "[CV 5/5] END criterion=entropy, max_depth=6, min_samples_leaf=2, min_samples_split=4, n_estimators=100, random_state=12; total time=   0.2s\n",
      "[CV 1/5] END criterion=entropy, max_depth=6, min_samples_leaf=2, min_samples_split=5, n_estimators=15, random_state=12; total time=   0.0s\n",
      "[CV 2/5] END criterion=entropy, max_depth=6, min_samples_leaf=2, min_samples_split=5, n_estimators=15, random_state=12; total time=   0.0s\n",
      "[CV 3/5] END criterion=entropy, max_depth=6, min_samples_leaf=2, min_samples_split=5, n_estimators=15, random_state=12; total time=   0.0s\n",
      "[CV 4/5] END criterion=entropy, max_depth=6, min_samples_leaf=2, min_samples_split=5, n_estimators=15, random_state=12; total time=   0.0s\n",
      "[CV 5/5] END criterion=entropy, max_depth=6, min_samples_leaf=2, min_samples_split=5, n_estimators=15, random_state=12; total time=   0.0s\n",
      "[CV 1/5] END criterion=entropy, max_depth=6, min_samples_leaf=2, min_samples_split=5, n_estimators=25, random_state=12; total time=   0.0s\n",
      "[CV 2/5] END criterion=entropy, max_depth=6, min_samples_leaf=2, min_samples_split=5, n_estimators=25, random_state=12; total time=   0.0s\n",
      "[CV 3/5] END criterion=entropy, max_depth=6, min_samples_leaf=2, min_samples_split=5, n_estimators=25, random_state=12; total time=   0.0s\n",
      "[CV 4/5] END criterion=entropy, max_depth=6, min_samples_leaf=2, min_samples_split=5, n_estimators=25, random_state=12; total time=   0.0s\n",
      "[CV 5/5] END criterion=entropy, max_depth=6, min_samples_leaf=2, min_samples_split=5, n_estimators=25, random_state=12; total time=   0.0s\n",
      "[CV 1/5] END criterion=entropy, max_depth=6, min_samples_leaf=2, min_samples_split=5, n_estimators=50, random_state=12; total time=   0.1s\n",
      "[CV 2/5] END criterion=entropy, max_depth=6, min_samples_leaf=2, min_samples_split=5, n_estimators=50, random_state=12; total time=   0.1s\n",
      "[CV 3/5] END criterion=entropy, max_depth=6, min_samples_leaf=2, min_samples_split=5, n_estimators=50, random_state=12; total time=   0.1s\n",
      "[CV 4/5] END criterion=entropy, max_depth=6, min_samples_leaf=2, min_samples_split=5, n_estimators=50, random_state=12; total time=   0.1s\n",
      "[CV 5/5] END criterion=entropy, max_depth=6, min_samples_leaf=2, min_samples_split=5, n_estimators=50, random_state=12; total time=   0.1s\n",
      "[CV 1/5] END criterion=entropy, max_depth=6, min_samples_leaf=2, min_samples_split=5, n_estimators=100, random_state=12; total time=   0.2s\n",
      "[CV 2/5] END criterion=entropy, max_depth=6, min_samples_leaf=2, min_samples_split=5, n_estimators=100, random_state=12; total time=   0.2s\n",
      "[CV 3/5] END criterion=entropy, max_depth=6, min_samples_leaf=2, min_samples_split=5, n_estimators=100, random_state=12; total time=   0.2s\n",
      "[CV 4/5] END criterion=entropy, max_depth=6, min_samples_leaf=2, min_samples_split=5, n_estimators=100, random_state=12; total time=   0.2s\n",
      "[CV 5/5] END criterion=entropy, max_depth=6, min_samples_leaf=2, min_samples_split=5, n_estimators=100, random_state=12; total time=   0.2s\n",
      "[CV 1/5] END criterion=entropy, max_depth=6, min_samples_leaf=2, min_samples_split=6, n_estimators=15, random_state=12; total time=   0.0s\n",
      "[CV 2/5] END criterion=entropy, max_depth=6, min_samples_leaf=2, min_samples_split=6, n_estimators=15, random_state=12; total time=   0.0s\n",
      "[CV 3/5] END criterion=entropy, max_depth=6, min_samples_leaf=2, min_samples_split=6, n_estimators=15, random_state=12; total time=   0.0s\n",
      "[CV 4/5] END criterion=entropy, max_depth=6, min_samples_leaf=2, min_samples_split=6, n_estimators=15, random_state=12; total time=   0.0s\n",
      "[CV 5/5] END criterion=entropy, max_depth=6, min_samples_leaf=2, min_samples_split=6, n_estimators=15, random_state=12; total time=   0.0s\n",
      "[CV 1/5] END criterion=entropy, max_depth=6, min_samples_leaf=2, min_samples_split=6, n_estimators=25, random_state=12; total time=   0.0s\n",
      "[CV 2/5] END criterion=entropy, max_depth=6, min_samples_leaf=2, min_samples_split=6, n_estimators=25, random_state=12; total time=   0.0s\n",
      "[CV 3/5] END criterion=entropy, max_depth=6, min_samples_leaf=2, min_samples_split=6, n_estimators=25, random_state=12; total time=   0.0s\n",
      "[CV 4/5] END criterion=entropy, max_depth=6, min_samples_leaf=2, min_samples_split=6, n_estimators=25, random_state=12; total time=   0.0s\n",
      "[CV 5/5] END criterion=entropy, max_depth=6, min_samples_leaf=2, min_samples_split=6, n_estimators=25, random_state=12; total time=   0.0s\n",
      "[CV 1/5] END criterion=entropy, max_depth=6, min_samples_leaf=2, min_samples_split=6, n_estimators=50, random_state=12; total time=   0.1s\n",
      "[CV 2/5] END criterion=entropy, max_depth=6, min_samples_leaf=2, min_samples_split=6, n_estimators=50, random_state=12; total time=   0.1s\n",
      "[CV 3/5] END criterion=entropy, max_depth=6, min_samples_leaf=2, min_samples_split=6, n_estimators=50, random_state=12; total time=   0.1s\n",
      "[CV 4/5] END criterion=entropy, max_depth=6, min_samples_leaf=2, min_samples_split=6, n_estimators=50, random_state=12; total time=   0.0s\n",
      "[CV 5/5] END criterion=entropy, max_depth=6, min_samples_leaf=2, min_samples_split=6, n_estimators=50, random_state=12; total time=   0.1s\n",
      "[CV 1/5] END criterion=entropy, max_depth=6, min_samples_leaf=2, min_samples_split=6, n_estimators=100, random_state=12; total time=   0.2s\n",
      "[CV 2/5] END criterion=entropy, max_depth=6, min_samples_leaf=2, min_samples_split=6, n_estimators=100, random_state=12; total time=   0.2s\n",
      "[CV 3/5] END criterion=entropy, max_depth=6, min_samples_leaf=2, min_samples_split=6, n_estimators=100, random_state=12; total time=   0.2s\n",
      "[CV 4/5] END criterion=entropy, max_depth=6, min_samples_leaf=2, min_samples_split=6, n_estimators=100, random_state=12; total time=   0.2s\n",
      "[CV 5/5] END criterion=entropy, max_depth=6, min_samples_leaf=2, min_samples_split=6, n_estimators=100, random_state=12; total time=   0.2s\n",
      "[CV 1/5] END criterion=entropy, max_depth=6, min_samples_leaf=3, min_samples_split=4, n_estimators=15, random_state=12; total time=   0.0s\n",
      "[CV 2/5] END criterion=entropy, max_depth=6, min_samples_leaf=3, min_samples_split=4, n_estimators=15, random_state=12; total time=   0.0s\n",
      "[CV 3/5] END criterion=entropy, max_depth=6, min_samples_leaf=3, min_samples_split=4, n_estimators=15, random_state=12; total time=   0.0s\n",
      "[CV 4/5] END criterion=entropy, max_depth=6, min_samples_leaf=3, min_samples_split=4, n_estimators=15, random_state=12; total time=   0.0s\n",
      "[CV 5/5] END criterion=entropy, max_depth=6, min_samples_leaf=3, min_samples_split=4, n_estimators=15, random_state=12; total time=   0.0s\n",
      "[CV 1/5] END criterion=entropy, max_depth=6, min_samples_leaf=3, min_samples_split=4, n_estimators=25, random_state=12; total time=   0.0s\n",
      "[CV 2/5] END criterion=entropy, max_depth=6, min_samples_leaf=3, min_samples_split=4, n_estimators=25, random_state=12; total time=   0.0s\n",
      "[CV 3/5] END criterion=entropy, max_depth=6, min_samples_leaf=3, min_samples_split=4, n_estimators=25, random_state=12; total time=   0.0s\n",
      "[CV 4/5] END criterion=entropy, max_depth=6, min_samples_leaf=3, min_samples_split=4, n_estimators=25, random_state=12; total time=   0.0s\n",
      "[CV 5/5] END criterion=entropy, max_depth=6, min_samples_leaf=3, min_samples_split=4, n_estimators=25, random_state=12; total time=   0.0s\n",
      "[CV 1/5] END criterion=entropy, max_depth=6, min_samples_leaf=3, min_samples_split=4, n_estimators=50, random_state=12; total time=   0.1s\n",
      "[CV 2/5] END criterion=entropy, max_depth=6, min_samples_leaf=3, min_samples_split=4, n_estimators=50, random_state=12; total time=   0.1s\n"
     ]
    },
    {
     "name": "stdout",
     "output_type": "stream",
     "text": [
      "[CV 3/5] END criterion=entropy, max_depth=6, min_samples_leaf=3, min_samples_split=4, n_estimators=50, random_state=12; total time=   0.1s\n",
      "[CV 4/5] END criterion=entropy, max_depth=6, min_samples_leaf=3, min_samples_split=4, n_estimators=50, random_state=12; total time=   0.1s\n",
      "[CV 5/5] END criterion=entropy, max_depth=6, min_samples_leaf=3, min_samples_split=4, n_estimators=50, random_state=12; total time=   0.1s\n",
      "[CV 1/5] END criterion=entropy, max_depth=6, min_samples_leaf=3, min_samples_split=4, n_estimators=100, random_state=12; total time=   0.2s\n",
      "[CV 2/5] END criterion=entropy, max_depth=6, min_samples_leaf=3, min_samples_split=4, n_estimators=100, random_state=12; total time=   0.2s\n",
      "[CV 3/5] END criterion=entropy, max_depth=6, min_samples_leaf=3, min_samples_split=4, n_estimators=100, random_state=12; total time=   0.2s\n",
      "[CV 4/5] END criterion=entropy, max_depth=6, min_samples_leaf=3, min_samples_split=4, n_estimators=100, random_state=12; total time=   0.2s\n",
      "[CV 5/5] END criterion=entropy, max_depth=6, min_samples_leaf=3, min_samples_split=4, n_estimators=100, random_state=12; total time=   0.2s\n",
      "[CV 1/5] END criterion=entropy, max_depth=6, min_samples_leaf=3, min_samples_split=5, n_estimators=15, random_state=12; total time=   0.0s\n",
      "[CV 2/5] END criterion=entropy, max_depth=6, min_samples_leaf=3, min_samples_split=5, n_estimators=15, random_state=12; total time=   0.0s\n",
      "[CV 3/5] END criterion=entropy, max_depth=6, min_samples_leaf=3, min_samples_split=5, n_estimators=15, random_state=12; total time=   0.0s\n",
      "[CV 4/5] END criterion=entropy, max_depth=6, min_samples_leaf=3, min_samples_split=5, n_estimators=15, random_state=12; total time=   0.0s\n",
      "[CV 5/5] END criterion=entropy, max_depth=6, min_samples_leaf=3, min_samples_split=5, n_estimators=15, random_state=12; total time=   0.0s\n",
      "[CV 1/5] END criterion=entropy, max_depth=6, min_samples_leaf=3, min_samples_split=5, n_estimators=25, random_state=12; total time=   0.0s\n",
      "[CV 2/5] END criterion=entropy, max_depth=6, min_samples_leaf=3, min_samples_split=5, n_estimators=25, random_state=12; total time=   0.0s\n",
      "[CV 3/5] END criterion=entropy, max_depth=6, min_samples_leaf=3, min_samples_split=5, n_estimators=25, random_state=12; total time=   0.0s\n",
      "[CV 4/5] END criterion=entropy, max_depth=6, min_samples_leaf=3, min_samples_split=5, n_estimators=25, random_state=12; total time=   0.0s\n",
      "[CV 5/5] END criterion=entropy, max_depth=6, min_samples_leaf=3, min_samples_split=5, n_estimators=25, random_state=12; total time=   0.0s\n",
      "[CV 1/5] END criterion=entropy, max_depth=6, min_samples_leaf=3, min_samples_split=5, n_estimators=50, random_state=12; total time=   0.1s\n",
      "[CV 2/5] END criterion=entropy, max_depth=6, min_samples_leaf=3, min_samples_split=5, n_estimators=50, random_state=12; total time=   0.1s\n",
      "[CV 3/5] END criterion=entropy, max_depth=6, min_samples_leaf=3, min_samples_split=5, n_estimators=50, random_state=12; total time=   0.1s\n",
      "[CV 4/5] END criterion=entropy, max_depth=6, min_samples_leaf=3, min_samples_split=5, n_estimators=50, random_state=12; total time=   0.0s\n",
      "[CV 5/5] END criterion=entropy, max_depth=6, min_samples_leaf=3, min_samples_split=5, n_estimators=50, random_state=12; total time=   0.1s\n",
      "[CV 1/5] END criterion=entropy, max_depth=6, min_samples_leaf=3, min_samples_split=5, n_estimators=100, random_state=12; total time=   0.2s\n",
      "[CV 2/5] END criterion=entropy, max_depth=6, min_samples_leaf=3, min_samples_split=5, n_estimators=100, random_state=12; total time=   0.2s\n",
      "[CV 3/5] END criterion=entropy, max_depth=6, min_samples_leaf=3, min_samples_split=5, n_estimators=100, random_state=12; total time=   0.2s\n",
      "[CV 4/5] END criterion=entropy, max_depth=6, min_samples_leaf=3, min_samples_split=5, n_estimators=100, random_state=12; total time=   0.2s\n",
      "[CV 5/5] END criterion=entropy, max_depth=6, min_samples_leaf=3, min_samples_split=5, n_estimators=100, random_state=12; total time=   0.2s\n",
      "[CV 1/5] END criterion=entropy, max_depth=6, min_samples_leaf=3, min_samples_split=6, n_estimators=15, random_state=12; total time=   0.0s\n",
      "[CV 2/5] END criterion=entropy, max_depth=6, min_samples_leaf=3, min_samples_split=6, n_estimators=15, random_state=12; total time=   0.0s\n",
      "[CV 3/5] END criterion=entropy, max_depth=6, min_samples_leaf=3, min_samples_split=6, n_estimators=15, random_state=12; total time=   0.0s\n",
      "[CV 4/5] END criterion=entropy, max_depth=6, min_samples_leaf=3, min_samples_split=6, n_estimators=15, random_state=12; total time=   0.0s\n",
      "[CV 5/5] END criterion=entropy, max_depth=6, min_samples_leaf=3, min_samples_split=6, n_estimators=15, random_state=12; total time=   0.0s\n",
      "[CV 1/5] END criterion=entropy, max_depth=6, min_samples_leaf=3, min_samples_split=6, n_estimators=25, random_state=12; total time=   0.0s\n",
      "[CV 2/5] END criterion=entropy, max_depth=6, min_samples_leaf=3, min_samples_split=6, n_estimators=25, random_state=12; total time=   0.0s\n",
      "[CV 3/5] END criterion=entropy, max_depth=6, min_samples_leaf=3, min_samples_split=6, n_estimators=25, random_state=12; total time=   0.0s\n",
      "[CV 4/5] END criterion=entropy, max_depth=6, min_samples_leaf=3, min_samples_split=6, n_estimators=25, random_state=12; total time=   0.0s\n",
      "[CV 5/5] END criterion=entropy, max_depth=6, min_samples_leaf=3, min_samples_split=6, n_estimators=25, random_state=12; total time=   0.0s\n",
      "[CV 1/5] END criterion=entropy, max_depth=6, min_samples_leaf=3, min_samples_split=6, n_estimators=50, random_state=12; total time=   0.1s\n",
      "[CV 2/5] END criterion=entropy, max_depth=6, min_samples_leaf=3, min_samples_split=6, n_estimators=50, random_state=12; total time=   0.1s\n",
      "[CV 3/5] END criterion=entropy, max_depth=6, min_samples_leaf=3, min_samples_split=6, n_estimators=50, random_state=12; total time=   0.1s\n",
      "[CV 4/5] END criterion=entropy, max_depth=6, min_samples_leaf=3, min_samples_split=6, n_estimators=50, random_state=12; total time=   0.1s\n",
      "[CV 5/5] END criterion=entropy, max_depth=6, min_samples_leaf=3, min_samples_split=6, n_estimators=50, random_state=12; total time=   0.1s\n",
      "[CV 1/5] END criterion=entropy, max_depth=6, min_samples_leaf=3, min_samples_split=6, n_estimators=100, random_state=12; total time=   0.2s\n",
      "[CV 2/5] END criterion=entropy, max_depth=6, min_samples_leaf=3, min_samples_split=6, n_estimators=100, random_state=12; total time=   0.2s\n",
      "[CV 3/5] END criterion=entropy, max_depth=6, min_samples_leaf=3, min_samples_split=6, n_estimators=100, random_state=12; total time=   0.2s\n",
      "[CV 4/5] END criterion=entropy, max_depth=6, min_samples_leaf=3, min_samples_split=6, n_estimators=100, random_state=12; total time=   0.2s\n",
      "[CV 5/5] END criterion=entropy, max_depth=6, min_samples_leaf=3, min_samples_split=6, n_estimators=100, random_state=12; total time=   0.2s\n",
      "[CV 1/5] END criterion=entropy, max_depth=6, min_samples_leaf=4, min_samples_split=4, n_estimators=15, random_state=12; total time=   0.0s\n",
      "[CV 2/5] END criterion=entropy, max_depth=6, min_samples_leaf=4, min_samples_split=4, n_estimators=15, random_state=12; total time=   0.0s\n",
      "[CV 3/5] END criterion=entropy, max_depth=6, min_samples_leaf=4, min_samples_split=4, n_estimators=15, random_state=12; total time=   0.0s\n",
      "[CV 4/5] END criterion=entropy, max_depth=6, min_samples_leaf=4, min_samples_split=4, n_estimators=15, random_state=12; total time=   0.0s\n",
      "[CV 5/5] END criterion=entropy, max_depth=6, min_samples_leaf=4, min_samples_split=4, n_estimators=15, random_state=12; total time=   0.0s\n",
      "[CV 1/5] END criterion=entropy, max_depth=6, min_samples_leaf=4, min_samples_split=4, n_estimators=25, random_state=12; total time=   0.0s\n",
      "[CV 2/5] END criterion=entropy, max_depth=6, min_samples_leaf=4, min_samples_split=4, n_estimators=25, random_state=12; total time=   0.0s\n",
      "[CV 3/5] END criterion=entropy, max_depth=6, min_samples_leaf=4, min_samples_split=4, n_estimators=25, random_state=12; total time=   0.0s\n",
      "[CV 4/5] END criterion=entropy, max_depth=6, min_samples_leaf=4, min_samples_split=4, n_estimators=25, random_state=12; total time=   0.0s\n",
      "[CV 5/5] END criterion=entropy, max_depth=6, min_samples_leaf=4, min_samples_split=4, n_estimators=25, random_state=12; total time=   0.0s\n",
      "[CV 1/5] END criterion=entropy, max_depth=6, min_samples_leaf=4, min_samples_split=4, n_estimators=50, random_state=12; total time=   0.1s\n"
     ]
    },
    {
     "name": "stdout",
     "output_type": "stream",
     "text": [
      "[CV 2/5] END criterion=entropy, max_depth=6, min_samples_leaf=4, min_samples_split=4, n_estimators=50, random_state=12; total time=   0.1s\n",
      "[CV 3/5] END criterion=entropy, max_depth=6, min_samples_leaf=4, min_samples_split=4, n_estimators=50, random_state=12; total time=   0.0s\n",
      "[CV 4/5] END criterion=entropy, max_depth=6, min_samples_leaf=4, min_samples_split=4, n_estimators=50, random_state=12; total time=   0.0s\n",
      "[CV 5/5] END criterion=entropy, max_depth=6, min_samples_leaf=4, min_samples_split=4, n_estimators=50, random_state=12; total time=   0.1s\n",
      "[CV 1/5] END criterion=entropy, max_depth=6, min_samples_leaf=4, min_samples_split=4, n_estimators=100, random_state=12; total time=   0.2s\n",
      "[CV 2/5] END criterion=entropy, max_depth=6, min_samples_leaf=4, min_samples_split=4, n_estimators=100, random_state=12; total time=   0.2s\n",
      "[CV 3/5] END criterion=entropy, max_depth=6, min_samples_leaf=4, min_samples_split=4, n_estimators=100, random_state=12; total time=   0.2s\n",
      "[CV 4/5] END criterion=entropy, max_depth=6, min_samples_leaf=4, min_samples_split=4, n_estimators=100, random_state=12; total time=   0.2s\n",
      "[CV 5/5] END criterion=entropy, max_depth=6, min_samples_leaf=4, min_samples_split=4, n_estimators=100, random_state=12; total time=   0.2s\n",
      "[CV 1/5] END criterion=entropy, max_depth=6, min_samples_leaf=4, min_samples_split=5, n_estimators=15, random_state=12; total time=   0.0s\n",
      "[CV 2/5] END criterion=entropy, max_depth=6, min_samples_leaf=4, min_samples_split=5, n_estimators=15, random_state=12; total time=   0.0s\n",
      "[CV 3/5] END criterion=entropy, max_depth=6, min_samples_leaf=4, min_samples_split=5, n_estimators=15, random_state=12; total time=   0.0s\n",
      "[CV 4/5] END criterion=entropy, max_depth=6, min_samples_leaf=4, min_samples_split=5, n_estimators=15, random_state=12; total time=   0.0s\n",
      "[CV 5/5] END criterion=entropy, max_depth=6, min_samples_leaf=4, min_samples_split=5, n_estimators=15, random_state=12; total time=   0.0s\n",
      "[CV 1/5] END criterion=entropy, max_depth=6, min_samples_leaf=4, min_samples_split=5, n_estimators=25, random_state=12; total time=   0.0s\n",
      "[CV 2/5] END criterion=entropy, max_depth=6, min_samples_leaf=4, min_samples_split=5, n_estimators=25, random_state=12; total time=   0.0s\n",
      "[CV 3/5] END criterion=entropy, max_depth=6, min_samples_leaf=4, min_samples_split=5, n_estimators=25, random_state=12; total time=   0.0s\n",
      "[CV 4/5] END criterion=entropy, max_depth=6, min_samples_leaf=4, min_samples_split=5, n_estimators=25, random_state=12; total time=   0.0s\n",
      "[CV 5/5] END criterion=entropy, max_depth=6, min_samples_leaf=4, min_samples_split=5, n_estimators=25, random_state=12; total time=   0.0s\n",
      "[CV 1/5] END criterion=entropy, max_depth=6, min_samples_leaf=4, min_samples_split=5, n_estimators=50, random_state=12; total time=   0.1s\n",
      "[CV 2/5] END criterion=entropy, max_depth=6, min_samples_leaf=4, min_samples_split=5, n_estimators=50, random_state=12; total time=   0.1s\n",
      "[CV 3/5] END criterion=entropy, max_depth=6, min_samples_leaf=4, min_samples_split=5, n_estimators=50, random_state=12; total time=   0.1s\n",
      "[CV 4/5] END criterion=entropy, max_depth=6, min_samples_leaf=4, min_samples_split=5, n_estimators=50, random_state=12; total time=   0.0s\n",
      "[CV 5/5] END criterion=entropy, max_depth=6, min_samples_leaf=4, min_samples_split=5, n_estimators=50, random_state=12; total time=   0.1s\n",
      "[CV 1/5] END criterion=entropy, max_depth=6, min_samples_leaf=4, min_samples_split=5, n_estimators=100, random_state=12; total time=   0.2s\n",
      "[CV 2/5] END criterion=entropy, max_depth=6, min_samples_leaf=4, min_samples_split=5, n_estimators=100, random_state=12; total time=   0.2s\n",
      "[CV 3/5] END criterion=entropy, max_depth=6, min_samples_leaf=4, min_samples_split=5, n_estimators=100, random_state=12; total time=   0.2s\n",
      "[CV 4/5] END criterion=entropy, max_depth=6, min_samples_leaf=4, min_samples_split=5, n_estimators=100, random_state=12; total time=   0.2s\n",
      "[CV 5/5] END criterion=entropy, max_depth=6, min_samples_leaf=4, min_samples_split=5, n_estimators=100, random_state=12; total time=   0.2s\n",
      "[CV 1/5] END criterion=entropy, max_depth=6, min_samples_leaf=4, min_samples_split=6, n_estimators=15, random_state=12; total time=   0.0s\n",
      "[CV 2/5] END criterion=entropy, max_depth=6, min_samples_leaf=4, min_samples_split=6, n_estimators=15, random_state=12; total time=   0.0s\n",
      "[CV 3/5] END criterion=entropy, max_depth=6, min_samples_leaf=4, min_samples_split=6, n_estimators=15, random_state=12; total time=   0.0s\n",
      "[CV 4/5] END criterion=entropy, max_depth=6, min_samples_leaf=4, min_samples_split=6, n_estimators=15, random_state=12; total time=   0.0s\n",
      "[CV 5/5] END criterion=entropy, max_depth=6, min_samples_leaf=4, min_samples_split=6, n_estimators=15, random_state=12; total time=   0.0s\n",
      "[CV 1/5] END criterion=entropy, max_depth=6, min_samples_leaf=4, min_samples_split=6, n_estimators=25, random_state=12; total time=   0.0s\n",
      "[CV 2/5] END criterion=entropy, max_depth=6, min_samples_leaf=4, min_samples_split=6, n_estimators=25, random_state=12; total time=   0.0s\n",
      "[CV 3/5] END criterion=entropy, max_depth=6, min_samples_leaf=4, min_samples_split=6, n_estimators=25, random_state=12; total time=   0.0s\n",
      "[CV 4/5] END criterion=entropy, max_depth=6, min_samples_leaf=4, min_samples_split=6, n_estimators=25, random_state=12; total time=   0.0s\n",
      "[CV 5/5] END criterion=entropy, max_depth=6, min_samples_leaf=4, min_samples_split=6, n_estimators=25, random_state=12; total time=   0.0s\n",
      "[CV 1/5] END criterion=entropy, max_depth=6, min_samples_leaf=4, min_samples_split=6, n_estimators=50, random_state=12; total time=   0.1s\n",
      "[CV 2/5] END criterion=entropy, max_depth=6, min_samples_leaf=4, min_samples_split=6, n_estimators=50, random_state=12; total time=   0.1s\n",
      "[CV 3/5] END criterion=entropy, max_depth=6, min_samples_leaf=4, min_samples_split=6, n_estimators=50, random_state=12; total time=   0.1s\n",
      "[CV 4/5] END criterion=entropy, max_depth=6, min_samples_leaf=4, min_samples_split=6, n_estimators=50, random_state=12; total time=   0.1s\n",
      "[CV 5/5] END criterion=entropy, max_depth=6, min_samples_leaf=4, min_samples_split=6, n_estimators=50, random_state=12; total time=   0.1s\n",
      "[CV 1/5] END criterion=entropy, max_depth=6, min_samples_leaf=4, min_samples_split=6, n_estimators=100, random_state=12; total time=   0.2s\n",
      "[CV 2/5] END criterion=entropy, max_depth=6, min_samples_leaf=4, min_samples_split=6, n_estimators=100, random_state=12; total time=   0.2s\n",
      "[CV 3/5] END criterion=entropy, max_depth=6, min_samples_leaf=4, min_samples_split=6, n_estimators=100, random_state=12; total time=   0.2s\n",
      "[CV 4/5] END criterion=entropy, max_depth=6, min_samples_leaf=4, min_samples_split=6, n_estimators=100, random_state=12; total time=   0.2s\n",
      "[CV 5/5] END criterion=entropy, max_depth=6, min_samples_leaf=4, min_samples_split=6, n_estimators=100, random_state=12; total time=   0.2s\n"
     ]
    },
    {
     "data": {
      "text/plain": [
       "GridSearchCV(cv=5, estimator=RandomForestClassifier(),\n",
       "             param_grid={'criterion': ['gini', 'entropy'],\n",
       "                         'max_depth': [4, 5, 6],\n",
       "                         'min_samples_leaf': [1, 2, 3, 4],\n",
       "                         'min_samples_split': [4, 5, 6],\n",
       "                         'n_estimators': [15, 25, 50, 100],\n",
       "                         'random_state': [12]},\n",
       "             verbose=3)"
      ]
     },
     "execution_count": 19,
     "metadata": {},
     "output_type": "execute_result"
    }
   ],
   "source": [
    " \n",
    "# with hyperparameter tunning\n",
    "#Random_Forest\n",
    "from sklearn.model_selection import GridSearchCV\n",
    "params={'max_depth':[4,5,6],'min_samples_leaf':[1,2,3,4],'criterion':['gini','entropy'],'n_estimators':[15,25,50,100],'min_samples_split':[4,5,6],'random_state':[12]}\n",
    "grid_cv=GridSearchCV (RandomForestClassifier (),params,cv=5,verbose=3)\n",
    "grid_cv.fit(X,y)"
   ]
  },
  {
   "cell_type": "code",
   "execution_count": 20,
   "metadata": {
    "colab": {
     "base_uri": "https://localhost:8080/"
    },
    "executionInfo": {
     "elapsed": 228,
     "status": "ok",
     "timestamp": 1624012450960,
     "user": {
      "displayName": "Monali Dambe",
      "photoUrl": "",
      "userId": "09026880642029004944"
     },
     "user_tz": -330
    },
    "id": "qngcf-bEeVrh",
    "outputId": "7e1ca522-7a4a-4f16-eb6d-fce3ee0b5810"
   },
   "outputs": [
    {
     "data": {
      "text/plain": [
       "{'criterion': 'entropy',\n",
       " 'max_depth': 6,\n",
       " 'min_samples_leaf': 1,\n",
       " 'min_samples_split': 6,\n",
       " 'n_estimators': 15,\n",
       " 'random_state': 12}"
      ]
     },
     "execution_count": 20,
     "metadata": {},
     "output_type": "execute_result"
    }
   ],
   "source": [
    "#To find the best parameters\n",
    "grid_cv.best_params_"
   ]
  },
  {
   "cell_type": "code",
   "execution_count": 21,
   "metadata": {
    "colab": {
     "base_uri": "https://localhost:8080/"
    },
    "executionInfo": {
     "elapsed": 33,
     "status": "ok",
     "timestamp": 1624012450963,
     "user": {
      "displayName": "Monali Dambe",
      "photoUrl": "",
      "userId": "09026880642029004944"
     },
     "user_tz": -330
    },
    "id": "0TKMcKsLe3pf",
    "outputId": "3ac34a00-7e84-4223-960c-5fe6bba5c036"
   },
   "outputs": [
    {
     "data": {
      "text/plain": [
       "0.8385650224215246"
      ]
     },
     "execution_count": 21,
     "metadata": {},
     "output_type": "execute_result"
    }
   ],
   "source": [
    "model=RandomForestClassifier (criterion= 'entropy',max_depth= 6,min_samples_leaf= 1,min_samples_split=6,n_estimators= 15, random_state=12)\n",
    "model.fit(X_train,y_train)\n",
    "model.score(X_val,y_val)"
   ]
  },
  {
   "cell_type": "code",
   "execution_count": 39,
   "metadata": {
    "colab": {
     "base_uri": "https://localhost:8080/"
    },
    "executionInfo": {
     "elapsed": 30,
     "status": "ok",
     "timestamp": 1624012450964,
     "user": {
      "displayName": "Monali Dambe",
      "photoUrl": "",
      "userId": "09026880642029004944"
     },
     "user_tz": -330
    },
    "id": "o2AFeqq-gJ61",
    "outputId": "c0e7118a-2935-4e8a-d65f-5c5c80520fd9"
   },
   "outputs": [
    {
     "data": {
      "text/plain": [
       "RandomForestClassifier(criterion='entropy', max_depth=6, min_samples_split=6,\n",
       "                       n_estimators=15)"
      ]
     },
     "execution_count": 39,
     "metadata": {},
     "output_type": "execute_result"
    }
   ],
   "source": [
    "model_final=RandomForestClassifier (criterion= 'entropy',max_depth= 6,min_samples_leaf= 1,min_samples_split=6,n_estimators= 15)\n",
    "model_final.fit(X,y)"
   ]
  },
  {
   "cell_type": "code",
   "execution_count": 40,
   "metadata": {
    "colab": {
     "base_uri": "https://localhost:8080/"
    },
    "executionInfo": {
     "elapsed": 850,
     "status": "ok",
     "timestamp": 1624012451788,
     "user": {
      "displayName": "Monali Dambe",
      "photoUrl": "",
      "userId": "09026880642029004944"
     },
     "user_tz": -330
    },
    "id": "OaoxVRragVHy",
    "outputId": "95ff45f0-f9c6-4696-8c0b-ce080e82908a"
   },
   "outputs": [
    {
     "data": {
      "text/plain": [
       "array([0, 0, 0, 0, 1, 0, 0, 0, 1, 0, 0, 0, 1, 0, 1, 1, 0, 0, 0, 0, 0, 0,\n",
       "       1, 0, 1, 0, 1, 0, 0, 0, 0, 0, 1, 0, 0, 0, 0, 0, 0, 0, 0, 0, 0, 1,\n",
       "       1, 0, 0, 0, 1, 1, 0, 0, 1, 1, 0, 0, 0, 0, 0, 1, 0, 0, 0, 1, 1, 1,\n",
       "       1, 0, 0, 1, 1, 0, 0, 0, 1, 0, 0, 1, 0, 1, 1, 0, 0, 0, 0, 0, 1, 0,\n",
       "       1, 1, 1, 0, 1, 0, 0, 0, 1, 0, 1, 0, 1, 0, 0, 0, 1, 0, 0, 0, 0, 0,\n",
       "       0, 1, 1, 1, 1, 0, 0, 1, 0, 1, 1, 0, 1, 0, 0, 1, 0, 1, 0, 0, 0, 0,\n",
       "       0, 0, 0, 0, 0, 0, 0, 0, 0, 1, 0, 0, 0, 0, 0, 0, 0, 0, 1, 0, 0, 1,\n",
       "       0, 0, 1, 1, 0, 1, 1, 1, 1, 0, 0, 0, 0, 0, 1, 0, 0, 0, 0, 0, 0, 1,\n",
       "       1, 0, 1, 1, 0, 1, 1, 0, 1, 0, 1, 0, 0, 0, 0, 0, 1, 0, 1, 0, 1, 1,\n",
       "       0, 0, 1, 1, 0, 1, 0, 0, 0, 0, 1, 0, 0, 0, 0, 1, 1, 0, 1, 0, 1, 0,\n",
       "       1, 0, 1, 0, 1, 0, 0, 1, 0, 0, 0, 1, 0, 0, 0, 0, 0, 0, 1, 1, 1, 1,\n",
       "       1, 0, 0, 0, 1, 0, 1, 0, 1, 0, 0, 0, 0, 0, 0, 0, 1, 0, 0, 0, 1, 1,\n",
       "       0, 0, 0, 0, 0, 0, 0, 0, 1, 1, 0, 1, 0, 0, 0, 0, 0, 1, 1, 1, 1, 0,\n",
       "       0, 0, 0, 0, 0, 0, 0, 0, 0, 0, 1, 0, 0, 0, 0, 0, 0, 0, 1, 1, 0, 1,\n",
       "       0, 0, 0, 0, 0, 0, 1, 1, 0, 0, 0, 0, 0, 0, 0, 0, 1, 0, 1, 0, 0, 0,\n",
       "       1, 0, 0, 1, 0, 0, 0, 0, 0, 0, 0, 0, 0, 1, 0, 1, 0, 0, 0, 1, 1, 0,\n",
       "       0, 0, 1, 0, 1, 0, 0, 0, 0, 1, 1, 0, 1, 0, 0, 0, 1, 0, 0, 1, 0, 0,\n",
       "       1, 1, 0, 0, 0, 0, 0, 0, 1, 0, 0, 1, 0, 0, 0, 0, 0, 1, 0, 0, 0, 1,\n",
       "       0, 1, 0, 0, 1, 0, 1, 0, 0, 0, 0, 0, 1, 1, 1, 1, 0, 0, 1, 0, 0, 0],\n",
       "      dtype=int64)"
      ]
     },
     "execution_count": 40,
     "metadata": {},
     "output_type": "execute_result"
    }
   ],
   "source": [
    "#make prediction\n",
    "y_pre=model_final.predict(df_test[X_cols])\n",
    "y_pre"
   ]
  },
  {
   "cell_type": "code",
   "execution_count": 41,
   "metadata": {},
   "outputs": [
    {
     "data": {
      "text/plain": [
       "133"
      ]
     },
     "execution_count": 41,
     "metadata": {},
     "output_type": "execute_result"
    }
   ],
   "source": [
    "sum(y_pre)"
   ]
  },
  {
   "cell_type": "code",
   "execution_count": null,
   "metadata": {},
   "outputs": [],
   "source": []
  }
 ],
 "metadata": {
  "colab": {
   "authorship_tag": "ABX9TyM+vk1QXl+GCdyFMwsALc2c",
   "collapsed_sections": [],
   "mount_file_id": "1HW8RTDreIlYpKrKjmkkZ7uE8WxznEh9i",
   "name": "Titanic_Pro_Pra.ipynb",
   "provenance": [
    {
     "file_id": "1AMfbaG4-3F2ck7ufIwCCcopTRq6NeUAV",
     "timestamp": 1624006760361
    }
   ]
  },
  "kernelspec": {
   "display_name": "Python 3",
   "language": "python",
   "name": "python3"
  },
  "language_info": {
   "codemirror_mode": {
    "name": "ipython",
    "version": 3
   },
   "file_extension": ".py",
   "mimetype": "text/x-python",
   "name": "python",
   "nbconvert_exporter": "python",
   "pygments_lexer": "ipython3",
   "version": "3.8.8"
  }
 },
 "nbformat": 4,
 "nbformat_minor": 1
}
